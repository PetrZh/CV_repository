{
 "cells": [
  {
   "cell_type": "markdown",
   "metadata": {
    "id": "IQKPKRwQZfmC"
   },
   "source": [
    "# Проект по анализу игровых платформ"
   ]
  },
  {
   "cell_type": "markdown",
   "metadata": {},
   "source": [
    "Описание проекта:\n",
    "На основе исторических данных из открытых источников о продажах игр, оценки пользователей и экспертов, жанров и платформ необходимо выявить определяющие успешность игры закономерности. Это позволит сделать ставку на потенциально популярный продукт и спланировать рекламные кампании..\n",
    "\n",
    "Цель проекта: \n",
    "Выявить определяющие успешность игры закономерности.\n",
    "\n",
    "Описание данных:\n",
    "- Name — название игры\n",
    "- Platform — платформа\n",
    "- Year_of_Release — год выпуска\n",
    "- Genre — жанр игры\n",
    "- NA_sales — продажи в Северной Америке (миллионы проданных копий)\n",
    "- EU_sales — продажи в Европе (миллионы проданных копий)\n",
    "- JP_sales — продажи в Японии (миллионы проданных копий)\n",
    "- Other_sales — продажи в других странах (миллионы проданных копий)\n",
    "- Critic_Score — оценка критиков (максимум 100)\n",
    "- User_Score — оценка пользователей (максимум 10)\n",
    "- Rating — рейтинг от организации ESRB (англ. Entertainment Software Rating Board). Эта ассоциация определяет рейтинг компьютерных игр и присваивает им подходящую возрастную категорию."
   ]
  },
  {
   "cell_type": "code",
   "execution_count": 1,
   "metadata": {
    "colab": {
     "base_uri": "https://localhost:8080/"
    },
    "id": "YY1Pxs_PVQJR",
    "outputId": "8874686b-c0dc-4e24-f0f8-0e03b05662af"
   },
   "outputs": [],
   "source": [
    "#from google.colab import drive - я закомментил эти строки - для избежания ошибки\n",
    "#drive.mount('/content/gdrive')\n",
    "import pandas as pd \n",
    "import numpy as np\n",
    "import warnings\n",
    "warnings.simplefilter('ignore') #для игнорирования ошибок\n",
    "import matplotlib.pyplot as plt\n",
    "import seaborn as sns\n",
    "from scipy import stats as st"
   ]
  },
  {
   "cell_type": "markdown",
   "metadata": {
    "id": "Jsix0sHBZ8jc"
   },
   "source": [
    "# 1. Изучаем данные"
   ]
  },
  {
   "cell_type": "code",
   "execution_count": 2,
   "metadata": {
    "colab": {
     "base_uri": "https://localhost:8080/",
     "height": 1000
    },
    "id": "XQPDL0ufZTFT",
    "outputId": "37fc06e1-7c54-4f8c-9e20-48bfb5f16ee4"
   },
   "outputs": [
    {
     "data": {
      "text/html": [
       "<div>\n",
       "<style scoped>\n",
       "    .dataframe tbody tr th:only-of-type {\n",
       "        vertical-align: middle;\n",
       "    }\n",
       "\n",
       "    .dataframe tbody tr th {\n",
       "        vertical-align: top;\n",
       "    }\n",
       "\n",
       "    .dataframe thead th {\n",
       "        text-align: right;\n",
       "    }\n",
       "</style>\n",
       "<table border=\"1\" class=\"dataframe\">\n",
       "  <thead>\n",
       "    <tr style=\"text-align: right;\">\n",
       "      <th></th>\n",
       "      <th>Name</th>\n",
       "      <th>Platform</th>\n",
       "      <th>Year_of_Release</th>\n",
       "      <th>Genre</th>\n",
       "      <th>NA_sales</th>\n",
       "      <th>EU_sales</th>\n",
       "      <th>JP_sales</th>\n",
       "      <th>Other_sales</th>\n",
       "      <th>Critic_Score</th>\n",
       "      <th>User_Score</th>\n",
       "      <th>Rating</th>\n",
       "    </tr>\n",
       "  </thead>\n",
       "  <tbody>\n",
       "    <tr>\n",
       "      <th>0</th>\n",
       "      <td>Wii Sports</td>\n",
       "      <td>Wii</td>\n",
       "      <td>2006.0</td>\n",
       "      <td>Sports</td>\n",
       "      <td>41.36</td>\n",
       "      <td>28.96</td>\n",
       "      <td>3.77</td>\n",
       "      <td>8.45</td>\n",
       "      <td>76.0</td>\n",
       "      <td>8</td>\n",
       "      <td>E</td>\n",
       "    </tr>\n",
       "    <tr>\n",
       "      <th>1</th>\n",
       "      <td>Super Mario Bros.</td>\n",
       "      <td>NES</td>\n",
       "      <td>1985.0</td>\n",
       "      <td>Platform</td>\n",
       "      <td>29.08</td>\n",
       "      <td>3.58</td>\n",
       "      <td>6.81</td>\n",
       "      <td>0.77</td>\n",
       "      <td>NaN</td>\n",
       "      <td>NaN</td>\n",
       "      <td>NaN</td>\n",
       "    </tr>\n",
       "    <tr>\n",
       "      <th>2</th>\n",
       "      <td>Mario Kart Wii</td>\n",
       "      <td>Wii</td>\n",
       "      <td>2008.0</td>\n",
       "      <td>Racing</td>\n",
       "      <td>15.68</td>\n",
       "      <td>12.76</td>\n",
       "      <td>3.79</td>\n",
       "      <td>3.29</td>\n",
       "      <td>82.0</td>\n",
       "      <td>8.3</td>\n",
       "      <td>E</td>\n",
       "    </tr>\n",
       "    <tr>\n",
       "      <th>3</th>\n",
       "      <td>Wii Sports Resort</td>\n",
       "      <td>Wii</td>\n",
       "      <td>2009.0</td>\n",
       "      <td>Sports</td>\n",
       "      <td>15.61</td>\n",
       "      <td>10.93</td>\n",
       "      <td>3.28</td>\n",
       "      <td>2.95</td>\n",
       "      <td>80.0</td>\n",
       "      <td>8</td>\n",
       "      <td>E</td>\n",
       "    </tr>\n",
       "    <tr>\n",
       "      <th>4</th>\n",
       "      <td>Pokemon Red/Pokemon Blue</td>\n",
       "      <td>GB</td>\n",
       "      <td>1996.0</td>\n",
       "      <td>Role-Playing</td>\n",
       "      <td>11.27</td>\n",
       "      <td>8.89</td>\n",
       "      <td>10.22</td>\n",
       "      <td>1.00</td>\n",
       "      <td>NaN</td>\n",
       "      <td>NaN</td>\n",
       "      <td>NaN</td>\n",
       "    </tr>\n",
       "  </tbody>\n",
       "</table>\n",
       "</div>"
      ],
      "text/plain": [
       "                       Name Platform  Year_of_Release         Genre  NA_sales  \\\n",
       "0                Wii Sports      Wii           2006.0        Sports     41.36   \n",
       "1         Super Mario Bros.      NES           1985.0      Platform     29.08   \n",
       "2            Mario Kart Wii      Wii           2008.0        Racing     15.68   \n",
       "3         Wii Sports Resort      Wii           2009.0        Sports     15.61   \n",
       "4  Pokemon Red/Pokemon Blue       GB           1996.0  Role-Playing     11.27   \n",
       "\n",
       "   EU_sales  JP_sales  Other_sales  Critic_Score User_Score Rating  \n",
       "0     28.96      3.77         8.45          76.0          8      E  \n",
       "1      3.58      6.81         0.77           NaN        NaN    NaN  \n",
       "2     12.76      3.79         3.29          82.0        8.3      E  \n",
       "3     10.93      3.28         2.95          80.0          8      E  \n",
       "4      8.89     10.22         1.00           NaN        NaN    NaN  "
      ]
     },
     "metadata": {},
     "output_type": "display_data"
    },
    {
     "name": "stdout",
     "output_type": "stream",
     "text": [
      "<class 'pandas.core.frame.DataFrame'>\n",
      "RangeIndex: 16715 entries, 0 to 16714\n",
      "Data columns (total 11 columns):\n",
      " #   Column           Non-Null Count  Dtype  \n",
      "---  ------           --------------  -----  \n",
      " 0   Name             16713 non-null  object \n",
      " 1   Platform         16715 non-null  object \n",
      " 2   Year_of_Release  16446 non-null  float64\n",
      " 3   Genre            16713 non-null  object \n",
      " 4   NA_sales         16715 non-null  float64\n",
      " 5   EU_sales         16715 non-null  float64\n",
      " 6   JP_sales         16715 non-null  float64\n",
      " 7   Other_sales      16715 non-null  float64\n",
      " 8   Critic_Score     8137 non-null   float64\n",
      " 9   User_Score       10014 non-null  object \n",
      " 10  Rating           9949 non-null   object \n",
      "dtypes: float64(6), object(5)\n",
      "memory usage: 1.4+ MB\n"
     ]
    },
    {
     "data": {
      "text/plain": [
       "None"
      ]
     },
     "metadata": {},
     "output_type": "display_data"
    },
    {
     "data": {
      "text/plain": [
       "Name                  2\n",
       "Platform              0\n",
       "Year_of_Release     269\n",
       "Genre                 2\n",
       "NA_sales              0\n",
       "EU_sales              0\n",
       "JP_sales              0\n",
       "Other_sales           0\n",
       "Critic_Score       8578\n",
       "User_Score         6701\n",
       "Rating             6766\n",
       "dtype: int64"
      ]
     },
     "metadata": {},
     "output_type": "display_data"
    },
    {
     "data": {
      "text/plain": [
       "E       3990\n",
       "T       2961\n",
       "M       1563\n",
       "E10+    1420\n",
       "EC         8\n",
       "RP         3\n",
       "K-A        3\n",
       "AO         1\n",
       "Name: Rating, dtype: int64"
      ]
     },
     "metadata": {},
     "output_type": "display_data"
    },
    {
     "data": {
      "text/plain": [
       "tbd    2424\n",
       "7.8     324\n",
       "8       290\n",
       "8.2     282\n",
       "8.3     254\n",
       "       ... \n",
       "2.3       2\n",
       "0.5       2\n",
       "0.2       2\n",
       "9.7       1\n",
       "0         1\n",
       "Name: User_Score, Length: 96, dtype: int64"
      ]
     },
     "metadata": {},
     "output_type": "display_data"
    },
    {
     "name": "stdout",
     "output_type": "stream",
     "text": [
      "Уникальные значения столбца Name\n"
     ]
    },
    {
     "data": {
      "text/plain": [
       "array(['Wii Sports', 'Super Mario Bros.', 'Mario Kart Wii', ...,\n",
       "       'Woody Woodpecker in Crazy Castle 5', 'LMA Manager 2007',\n",
       "       'Haitaka no Psychedelica'], dtype=object)"
      ]
     },
     "metadata": {},
     "output_type": "display_data"
    },
    {
     "name": "stdout",
     "output_type": "stream",
     "text": [
      "Уникальные значения столбца Platform\n"
     ]
    },
    {
     "data": {
      "text/plain": [
       "array(['Wii', 'NES', 'GB', 'DS', 'X360', 'PS3', 'PS2', 'SNES', 'GBA',\n",
       "       'PS4', '3DS', 'N64', 'PS', 'XB', 'PC', '2600', 'PSP', 'XOne',\n",
       "       'WiiU', 'GC', 'GEN', 'DC', 'PSV', 'SAT', 'SCD', 'WS', 'NG', 'TG16',\n",
       "       '3DO', 'GG', 'PCFX'], dtype=object)"
      ]
     },
     "metadata": {},
     "output_type": "display_data"
    },
    {
     "name": "stdout",
     "output_type": "stream",
     "text": [
      "Уникальные значения столбца Year_of_Release\n"
     ]
    },
    {
     "data": {
      "text/plain": [
       "array([2006., 1985., 2008., 2009., 1996., 1989., 1984., 2005., 1999.,\n",
       "       2007., 2010., 2013., 2004., 1990., 1988., 2002., 2001., 2011.,\n",
       "       1998., 2015., 2012., 2014., 1992., 1997., 1993., 1994., 1982.,\n",
       "       2016., 2003., 1986., 2000.,   nan, 1995., 1991., 1981., 1987.,\n",
       "       1980., 1983.])"
      ]
     },
     "metadata": {},
     "output_type": "display_data"
    },
    {
     "name": "stdout",
     "output_type": "stream",
     "text": [
      "Уникальные значения столбца Genre\n"
     ]
    },
    {
     "data": {
      "text/plain": [
       "array(['Sports', 'Platform', 'Racing', 'Role-Playing', 'Puzzle', 'Misc',\n",
       "       'Shooter', 'Simulation', 'Action', 'Fighting', 'Adventure',\n",
       "       'Strategy', nan], dtype=object)"
      ]
     },
     "metadata": {},
     "output_type": "display_data"
    },
    {
     "name": "stdout",
     "output_type": "stream",
     "text": [
      "Уникальные значения столбца User_Score\n"
     ]
    },
    {
     "data": {
      "text/plain": [
       "array(['8', nan, '8.3', '8.5', '6.6', '8.4', '8.6', '7.7', '6.3', '7.4',\n",
       "       '8.2', '9', '7.9', '8.1', '8.7', '7.1', '3.4', '5.3', '4.8', '3.2',\n",
       "       '8.9', '6.4', '7.8', '7.5', '2.6', '7.2', '9.2', '7', '7.3', '4.3',\n",
       "       '7.6', '5.7', '5', '9.1', '6.5', 'tbd', '8.8', '6.9', '9.4', '6.8',\n",
       "       '6.1', '6.7', '5.4', '4', '4.9', '4.5', '9.3', '6.2', '4.2', '6',\n",
       "       '3.7', '4.1', '5.8', '5.6', '5.5', '4.4', '4.6', '5.9', '3.9',\n",
       "       '3.1', '2.9', '5.2', '3.3', '4.7', '5.1', '3.5', '2.5', '1.9', '3',\n",
       "       '2.7', '2.2', '2', '9.5', '2.1', '3.6', '2.8', '1.8', '3.8', '0',\n",
       "       '1.6', '9.6', '2.4', '1.7', '1.1', '0.3', '1.5', '0.7', '1.2',\n",
       "       '2.3', '0.5', '1.3', '0.2', '0.6', '1.4', '0.9', '1', '9.7'],\n",
       "      dtype=object)"
      ]
     },
     "metadata": {},
     "output_type": "display_data"
    },
    {
     "name": "stdout",
     "output_type": "stream",
     "text": [
      "Уникальные значения столбца Rating\n"
     ]
    },
    {
     "data": {
      "text/plain": [
       "array(['E', nan, 'M', 'T', 'E10+', 'K-A', 'AO', 'EC', 'RP'], dtype=object)"
      ]
     },
     "metadata": {},
     "output_type": "display_data"
    }
   ],
   "source": [
    "df=pd.read_csv('/datasets/games.csv')\n",
    "display(df.head(5))\n",
    "display(df.info())\n",
    "display(df.isna().sum()) #изучаем пропуски\n",
    "\n",
    "display(df['Rating'].value_counts()) #считаем количество игр по каждому типу возрастного рейтинга\n",
    "\n",
    "display(df['User_Score'].value_counts()) #обнаруживаем рейтинг \"tdr\"\n",
    "\n",
    "column_name = ['Name',\t'Platform',\t'Year_of_Release',\t'Genre',\t'User_Score',\t'Rating'] #изучаем интересующие столбцы на уникальные значения\n",
    "for i in column_name:\n",
    "    print('Уникальные значения столбца',i)\n",
    "    display(df[i].unique())  "
   ]
  },
  {
   "cell_type": "markdown",
   "metadata": {
    "id": "5qjO6O7NxM66"
   },
   "source": [
    "# Ошибки:\n",
    "\n",
    "- Пропуски в столбце Name. Всего два, не ясно, о какой игре идет речь. Удаляем.\n",
    "\n",
    "- Пропуски в столбце Genre. Всего два. Удаляем.\n",
    "\n",
    "- Пропуски в столбце \"Year_of_Release\" - 269 шт., это 1,6% датафрейма. Количество незначительно, но оно может повлиять на исследование, если заполнять средним или медиальным значением. Для отдельного года это может даль смещение. Заполним нулями и не будем использовать при исследовании года выпуска. Можно преобразовать столбец в тип DateTame, но нет уверенности, что это поможет исследованию, так как в столбце только год и с ним можно провести все необходимые арифметические действия.\n",
    "\n",
    "- Пропуски в столбцах Critic_Score - 8578 шт. и User_Score - 6701 шт., говорят, что эти игры не были оценены критиками/пользователями. Использовать эти игры в исследованиях по данным столбцам нет смысла. Так же в столбце User_Score есть значения \"tbd\" - \"To Be Determined\" - рейтинг на стадии определения, 2424 значения. Все заменяем на 0 и будем исключать в процессе исследования.\n",
    "\n",
    "- Пропуски в столбце Rating. Речь идет о возрастном рейтинге ESRB. Система рейтинга была запущена только в 1994 году, играм до этого времени рейтинг присвоен не был. Этим пропускам можно присвоить рейтинг RP (рейтинг ожидается) и не использовать в исследовании. Игр с рейтингом «EC» («Early childhood») — «Для детей младшего возраста», K-A (\"EC\" до 1999 года) и «AO» («Adults Only 18+») — «Только для взрослых» в сумме очень мало, 0.06% датафрейма. Их так же нет смысла использовать в исследовании рейтинга. Пока оставим, возможно удалим позже исходя из задачи. Преобразуем рейтинг \"K-A\" в \"EC\".\n",
    "\n",
    "Смена типов данных:\n",
    "\n",
    "- Year_of_Release преобразуем в int.\n",
    "\n",
    "- Значения столбцов NA_sales,\tEU_sales,\tJP_sales,\tOther_sales вписаны в млн. шт.. Для перевода в int можно сначала преобразовать в единицы (Прим: 2,1 млн = 2 100000). Если данных слишком мног0, можно преобразовать в тысячи (Прим: 2,1 млн = 21000 тыс.).\n",
    "\n",
    "- Critic_Score переводим в int \n",
    "\n",
    "- User_Score переводим в float. Можно домножить на 10 и перевести в int, для удобства сравнения с Critic_Score, но это нарушит \"систему исчисления\" данного рейтинга по 10-бальной шкале. Сделаем, если понадобится далее для анализа и сравнения.\n",
    "\n",
    "\n"
   ]
  },
  {
   "cell_type": "markdown",
   "metadata": {
    "id": "QyknrQohaKKy"
   },
   "source": [
    "# 2. Подготавливаем данные"
   ]
  },
  {
   "cell_type": "code",
   "execution_count": 3,
   "metadata": {
    "colab": {
     "base_uri": "https://localhost:8080/",
     "height": 491
    },
    "id": "_hUXDczhJzZw",
    "outputId": "0e83fae0-2405-4140-b59c-76dcae39a80f"
   },
   "outputs": [
    {
     "data": {
      "text/html": [
       "<div>\n",
       "<style scoped>\n",
       "    .dataframe tbody tr th:only-of-type {\n",
       "        vertical-align: middle;\n",
       "    }\n",
       "\n",
       "    .dataframe tbody tr th {\n",
       "        vertical-align: top;\n",
       "    }\n",
       "\n",
       "    .dataframe thead th {\n",
       "        text-align: right;\n",
       "    }\n",
       "</style>\n",
       "<table border=\"1\" class=\"dataframe\">\n",
       "  <thead>\n",
       "    <tr style=\"text-align: right;\">\n",
       "      <th></th>\n",
       "      <th>name</th>\n",
       "      <th>platform</th>\n",
       "      <th>year_of_release</th>\n",
       "      <th>genre</th>\n",
       "      <th>na_sales</th>\n",
       "      <th>eu_sales</th>\n",
       "      <th>jp_sales</th>\n",
       "      <th>other_sales</th>\n",
       "      <th>critic_score</th>\n",
       "      <th>user_score</th>\n",
       "      <th>rating</th>\n",
       "      <th>sum_sales</th>\n",
       "    </tr>\n",
       "  </thead>\n",
       "  <tbody>\n",
       "    <tr>\n",
       "      <th>0</th>\n",
       "      <td>Wii Sports</td>\n",
       "      <td>Wii</td>\n",
       "      <td>2006</td>\n",
       "      <td>Sports</td>\n",
       "      <td>41360000</td>\n",
       "      <td>28960000</td>\n",
       "      <td>3770000</td>\n",
       "      <td>8450000</td>\n",
       "      <td>76</td>\n",
       "      <td>8.0</td>\n",
       "      <td>E</td>\n",
       "      <td>82540000</td>\n",
       "    </tr>\n",
       "    <tr>\n",
       "      <th>1</th>\n",
       "      <td>Super Mario Bros.</td>\n",
       "      <td>NES</td>\n",
       "      <td>1985</td>\n",
       "      <td>Platform</td>\n",
       "      <td>29080000</td>\n",
       "      <td>3580000</td>\n",
       "      <td>6810000</td>\n",
       "      <td>770000</td>\n",
       "      <td>0</td>\n",
       "      <td>0.0</td>\n",
       "      <td>RP</td>\n",
       "      <td>40240000</td>\n",
       "    </tr>\n",
       "    <tr>\n",
       "      <th>2</th>\n",
       "      <td>Mario Kart Wii</td>\n",
       "      <td>Wii</td>\n",
       "      <td>2008</td>\n",
       "      <td>Racing</td>\n",
       "      <td>15680000</td>\n",
       "      <td>12760000</td>\n",
       "      <td>3790000</td>\n",
       "      <td>3290000</td>\n",
       "      <td>82</td>\n",
       "      <td>8.3</td>\n",
       "      <td>E</td>\n",
       "      <td>35520000</td>\n",
       "    </tr>\n",
       "  </tbody>\n",
       "</table>\n",
       "</div>"
      ],
      "text/plain": [
       "                name platform  year_of_release     genre  na_sales  eu_sales  \\\n",
       "0         Wii Sports      Wii             2006    Sports  41360000  28960000   \n",
       "1  Super Mario Bros.      NES             1985  Platform  29080000   3580000   \n",
       "2     Mario Kart Wii      Wii             2008    Racing  15680000  12760000   \n",
       "\n",
       "   jp_sales  other_sales  critic_score  user_score rating  sum_sales  \n",
       "0   3770000      8450000            76         8.0      E   82540000  \n",
       "1   6810000       770000             0         0.0     RP   40240000  \n",
       "2   3790000      3290000            82         8.3      E   35520000  "
      ]
     },
     "metadata": {},
     "output_type": "display_data"
    },
    {
     "name": "stdout",
     "output_type": "stream",
     "text": [
      "<class 'pandas.core.frame.DataFrame'>\n",
      "Int64Index: 16713 entries, 0 to 16714\n",
      "Data columns (total 12 columns):\n",
      " #   Column           Non-Null Count  Dtype  \n",
      "---  ------           --------------  -----  \n",
      " 0   name             16713 non-null  object \n",
      " 1   platform         16713 non-null  object \n",
      " 2   year_of_release  16713 non-null  int64  \n",
      " 3   genre            16713 non-null  object \n",
      " 4   na_sales         16713 non-null  int64  \n",
      " 5   eu_sales         16713 non-null  int64  \n",
      " 6   jp_sales         16713 non-null  int64  \n",
      " 7   other_sales      16713 non-null  int64  \n",
      " 8   critic_score     16713 non-null  int64  \n",
      " 9   user_score       16713 non-null  float64\n",
      " 10  rating           16713 non-null  object \n",
      " 11  sum_sales        16713 non-null  int64  \n",
      "dtypes: float64(1), int64(7), object(4)\n",
      "memory usage: 1.7+ MB\n"
     ]
    },
    {
     "data": {
      "text/plain": [
       "None"
      ]
     },
     "metadata": {},
     "output_type": "display_data"
    }
   ],
   "source": [
    "df = df.rename(str.lower, axis='columns') #приводим название колонок к нижнему регистру\n",
    "\n",
    "df = df.dropna(subset = ['name','genre',]) #удаляем игры без названия и жанра\n",
    "\n",
    "df['user_score'].loc[df['user_score'] == 'tbd'] = 0 #заменяем отсуствующую оценку пользователями \"tdr\" на \"0\"\n",
    "df['rating'].loc[df['rating'] == 'K-A'] = 'EC' #заменяем возрастной рейтинг \"K-A\" на \"EC\"\n",
    "\n",
    "df.fillna({'year_of_release':'0', 'critic_score':'0', 'user_score':'0', 'rating':'RP'}, inplace=True) #заполняем пропуски\n",
    "\n",
    "df = df.astype({\"year_of_release\": int, \"critic_score\": int, \"user_score\": np.float}) #изменяем тип данных\n",
    "\n",
    "col = ['na_sales','eu_sales', 'jp_sales', 'other_sales'] #преобразуем рейтинги через цикл, и изменяем тип данных на int\n",
    "for i in col:\n",
    "    df[i] = (df[i]*1000000).astype(int)\n",
    "\n",
    "df['sum_sales'] = df['na_sales'] + df['eu_sales'] + df['jp_sales'] + df['other_sales'] #создаем столбец с суммарными продажами\n",
    "\n",
    "display(df.head(3))\n",
    "display(df.info())"
   ]
  },
  {
   "cell_type": "markdown",
   "metadata": {
    "id": "4vhQ10I_aVco"
   },
   "source": [
    "# 3. Исследуем данные\n",
    "  \n",
    "#  3.1 Определяем период исследования\n",
    "\n",
    "\n"
   ]
  },
  {
   "cell_type": "code",
   "execution_count": 4,
   "metadata": {
    "colab": {
     "base_uri": "https://localhost:8080/",
     "height": 461
    },
    "id": "LcdIfS3qZS0L",
    "outputId": "1cce0ebe-194d-4931-a8f1-1fbd9f392d34"
   },
   "outputs": [
    {
     "data": {
      "text/plain": [
       "Text(0.5, 1.0, 'Количество выпущеных игр по годам')"
      ]
     },
     "execution_count": 4,
     "metadata": {},
     "output_type": "execute_result"
    },
    {
     "data": {
      "image/png": "[encoded data removed]",
      "text/plain": [
       "<Figure size 720x504 with 1 Axes>"
      ]
     },
     "metadata": {
      "needs_background": "light"
     },
     "output_type": "display_data"
    }
   ],
   "source": [
    "df[df['year_of_release'] != 0]['year_of_release'].plot(kind='hist', bins=73, figsize=(10,7),grid=True)\n",
    "plt.title('Количество выпущеных игр по годам')"
   ]
  },
  {
   "cell_type": "markdown",
   "metadata": {
    "id": "Sbxsfi3jJMIQ"
   },
   "source": [
    "# Вывод:\n",
    "Для построения прогноза на 2017 год лучше выбрать период стабильной стагнации с 2012 до 2016 года. Это отсеет значительное количество не актуальных платформ и даст информацию, соответствующую времени."
   ]
  },
  {
   "cell_type": "markdown",
   "metadata": {
    "id": "UksFP9tjashn"
   },
   "source": [
    "# 3.2 Выбираем платформы с наибольшими суммарными продажами и строим распределение по годам."
   ]
  },
  {
   "cell_type": "code",
   "execution_count": 5,
   "metadata": {
    "colab": {
     "base_uri": "https://localhost:8080/",
     "height": 839
    },
    "id": "hqfjVUzA3whM",
    "outputId": "45aee1cc-36c7-4ffc-d285-d0da07bf1e4d"
   },
   "outputs": [
    {
     "data": {
      "text/html": [
       "<div>\n",
       "<style scoped>\n",
       "    .dataframe tbody tr th:only-of-type {\n",
       "        vertical-align: middle;\n",
       "    }\n",
       "\n",
       "    .dataframe tbody tr th {\n",
       "        vertical-align: top;\n",
       "    }\n",
       "\n",
       "    .dataframe thead th {\n",
       "        text-align: right;\n",
       "    }\n",
       "</style>\n",
       "<table border=\"1\" class=\"dataframe\">\n",
       "  <thead>\n",
       "    <tr style=\"text-align: right;\">\n",
       "      <th></th>\n",
       "      <th>sum</th>\n",
       "    </tr>\n",
       "    <tr>\n",
       "      <th>platform</th>\n",
       "      <th></th>\n",
       "    </tr>\n",
       "  </thead>\n",
       "  <tbody>\n",
       "    <tr>\n",
       "      <th>PS2</th>\n",
       "      <td>1255769992</td>\n",
       "    </tr>\n",
       "    <tr>\n",
       "      <th>X360</th>\n",
       "      <td>971419999</td>\n",
       "    </tr>\n",
       "    <tr>\n",
       "      <th>PS3</th>\n",
       "      <td>939649995</td>\n",
       "    </tr>\n",
       "    <tr>\n",
       "      <th>Wii</th>\n",
       "      <td>907509997</td>\n",
       "    </tr>\n",
       "    <tr>\n",
       "      <th>DS</th>\n",
       "      <td>806120000</td>\n",
       "    </tr>\n",
       "    <tr>\n",
       "      <th>PS</th>\n",
       "      <td>730859994</td>\n",
       "    </tr>\n",
       "    <tr>\n",
       "      <th>GBA</th>\n",
       "      <td>317849999</td>\n",
       "    </tr>\n",
       "    <tr>\n",
       "      <th>PS4</th>\n",
       "      <td>314139997</td>\n",
       "    </tr>\n",
       "    <tr>\n",
       "      <th>PSP</th>\n",
       "      <td>294050000</td>\n",
       "    </tr>\n",
       "    <tr>\n",
       "      <th>PC</th>\n",
       "      <td>259519998</td>\n",
       "    </tr>\n",
       "  </tbody>\n",
       "</table>\n",
       "</div>"
      ],
      "text/plain": [
       "                 sum\n",
       "platform            \n",
       "PS2       1255769992\n",
       "X360       971419999\n",
       "PS3        939649995\n",
       "Wii        907509997\n",
       "DS         806120000\n",
       "PS         730859994\n",
       "GBA        317849999\n",
       "PS4        314139997\n",
       "PSP        294050000\n",
       "PC         259519998"
      ]
     },
     "metadata": {},
     "output_type": "display_data"
    },
    {
     "data": {
      "text/plain": [
       "Text(0.5, 1.0, 'Выпуск игр PS2, X360, PS3 по годам')"
      ]
     },
     "execution_count": 5,
     "metadata": {},
     "output_type": "execute_result"
    },
    {
     "data": {
      "image/png": "[encoded data removed]",
      "text/plain": [
       "<Figure size 720x504 with 1 Axes>"
      ]
     },
     "metadata": {
      "needs_background": "light"
     },
     "output_type": "display_data"
    }
   ],
   "source": [
    "platform_sum_sales = df.pivot_table(index = 'platform', values = 'sum_sales', aggfunc=['sum'])\n",
    "platform_sum_sales.columns = ['sum']\n",
    "display(platform_sum_sales.sort_values('sum', ascending = False).head(10))\n",
    "\n",
    "df[(df['platform'] == 'PS2') & (df['year_of_release'] != 0)]['year_of_release'].plot(kind='hist', bins=12, figsize=(10,7),grid=True)\n",
    "df[(df['platform'] == 'X360') & (df['year_of_release'] != 0)]['year_of_release'].plot(kind='hist', bins=12, figsize=(10,7),grid=True, alpha=0.8)\n",
    "df[(df['platform'] == 'PS3') & (df['year_of_release'] != 0)]['year_of_release'].plot(kind='hist', bins=11, figsize=(10,7),grid=True, alpha=0.6)\n",
    "\n",
    "plt.title('Выпуск игр PS2, X360, PS3 по годам')\n"
   ]
  },
  {
   "cell_type": "markdown",
   "metadata": {
    "id": "Ry65qua4Kusg"
   },
   "source": [
    "# Вывод:\n",
    "\n",
    "Интервал жизни и поддержки платформы составляем в среднем 10 лет."
   ]
  },
  {
   "cell_type": "markdown",
   "metadata": {
    "id": "wNrjC8HtbOlN"
   },
   "source": [
    "# 3.3 Отфильтруем платформы, поддерживаемые в период с 2012 по 2016 года и оценим динамику продаж."
   ]
  },
  {
   "cell_type": "code",
   "execution_count": 6,
   "metadata": {
    "colab": {
     "base_uri": "https://localhost:8080/",
     "height": 426
    },
    "id": "kCya0MD5Ljnw",
    "outputId": "b080bc7b-bd38-4e78-c656-5a59ccf0aa27"
   },
   "outputs": [
    {
     "data": {
      "text/html": [
       "<div>\n",
       "<style scoped>\n",
       "    .dataframe tbody tr th:only-of-type {\n",
       "        vertical-align: middle;\n",
       "    }\n",
       "\n",
       "    .dataframe tbody tr th {\n",
       "        vertical-align: top;\n",
       "    }\n",
       "\n",
       "    .dataframe thead th {\n",
       "        text-align: right;\n",
       "    }\n",
       "</style>\n",
       "<table border=\"1\" class=\"dataframe\">\n",
       "  <thead>\n",
       "    <tr style=\"text-align: right;\">\n",
       "      <th></th>\n",
       "      <th>sum</th>\n",
       "    </tr>\n",
       "    <tr>\n",
       "      <th>platform</th>\n",
       "      <th></th>\n",
       "    </tr>\n",
       "  </thead>\n",
       "  <tbody>\n",
       "    <tr>\n",
       "      <th>PS4</th>\n",
       "      <td>314139997</td>\n",
       "    </tr>\n",
       "    <tr>\n",
       "      <th>PS3</th>\n",
       "      <td>288789998</td>\n",
       "    </tr>\n",
       "    <tr>\n",
       "      <th>X360</th>\n",
       "      <td>236540000</td>\n",
       "    </tr>\n",
       "    <tr>\n",
       "      <th>3DS</th>\n",
       "      <td>194609999</td>\n",
       "    </tr>\n",
       "    <tr>\n",
       "      <th>XOne</th>\n",
       "      <td>159319999</td>\n",
       "    </tr>\n",
       "    <tr>\n",
       "      <th>WiiU</th>\n",
       "      <td>82190000</td>\n",
       "    </tr>\n",
       "    <tr>\n",
       "      <th>PC</th>\n",
       "      <td>62650000</td>\n",
       "    </tr>\n",
       "    <tr>\n",
       "      <th>PSV</th>\n",
       "      <td>49180000</td>\n",
       "    </tr>\n",
       "    <tr>\n",
       "      <th>Wii</th>\n",
       "      <td>35370000</td>\n",
       "    </tr>\n",
       "    <tr>\n",
       "      <th>DS</th>\n",
       "      <td>12550000</td>\n",
       "    </tr>\n",
       "    <tr>\n",
       "      <th>PSP</th>\n",
       "      <td>11190000</td>\n",
       "    </tr>\n",
       "  </tbody>\n",
       "</table>\n",
       "</div>"
      ],
      "text/plain": [
       "                sum\n",
       "platform           \n",
       "PS4       314139997\n",
       "PS3       288789998\n",
       "X360      236540000\n",
       "3DS       194609999\n",
       "XOne      159319999\n",
       "WiiU       82190000\n",
       "PC         62650000\n",
       "PSV        49180000\n",
       "Wii        35370000\n",
       "DS         12550000\n",
       "PSP        11190000"
      ]
     },
     "metadata": {},
     "output_type": "display_data"
    }
   ],
   "source": [
    "df_new = df.query('year_of_release > 2011') \n",
    "platform_new = df_new.pivot_table(index = 'platform', values = 'sum_sales', aggfunc=['sum'])\n",
    "platform_new.columns = ['sum']\n",
    "display(platform_new.sort_values('sum', ascending = False))"
   ]
  },
  {
   "cell_type": "markdown",
   "metadata": {
    "id": "OC1oMJ_TbXWW"
   },
   "source": [
    "# Посмотрим на актиуальные платформы, которые поддерживаются в 2016 году"
   ]
  },
  {
   "cell_type": "code",
   "execution_count": 7,
   "metadata": {
    "colab": {
     "base_uri": "https://localhost:8080/",
     "height": 363
    },
    "id": "UuXpyYBYT8eI",
    "outputId": "b3015b29-b2d0-4dad-a158-067deb29b606"
   },
   "outputs": [
    {
     "data": {
      "text/html": [
       "<div>\n",
       "<style scoped>\n",
       "    .dataframe tbody tr th:only-of-type {\n",
       "        vertical-align: middle;\n",
       "    }\n",
       "\n",
       "    .dataframe tbody tr th {\n",
       "        vertical-align: top;\n",
       "    }\n",
       "\n",
       "    .dataframe thead th {\n",
       "        text-align: right;\n",
       "    }\n",
       "</style>\n",
       "<table border=\"1\" class=\"dataframe\">\n",
       "  <thead>\n",
       "    <tr style=\"text-align: right;\">\n",
       "      <th></th>\n",
       "      <th>sum</th>\n",
       "    </tr>\n",
       "    <tr>\n",
       "      <th>platform</th>\n",
       "      <th></th>\n",
       "    </tr>\n",
       "  </thead>\n",
       "  <tbody>\n",
       "    <tr>\n",
       "      <th>PS4</th>\n",
       "      <td>69250000</td>\n",
       "    </tr>\n",
       "    <tr>\n",
       "      <th>XOne</th>\n",
       "      <td>26149999</td>\n",
       "    </tr>\n",
       "    <tr>\n",
       "      <th>3DS</th>\n",
       "      <td>15140000</td>\n",
       "    </tr>\n",
       "    <tr>\n",
       "      <th>PC</th>\n",
       "      <td>5250000</td>\n",
       "    </tr>\n",
       "    <tr>\n",
       "      <th>WiiU</th>\n",
       "      <td>4600000</td>\n",
       "    </tr>\n",
       "    <tr>\n",
       "      <th>PSV</th>\n",
       "      <td>4250000</td>\n",
       "    </tr>\n",
       "    <tr>\n",
       "      <th>PS3</th>\n",
       "      <td>3600000</td>\n",
       "    </tr>\n",
       "    <tr>\n",
       "      <th>X360</th>\n",
       "      <td>1520000</td>\n",
       "    </tr>\n",
       "    <tr>\n",
       "      <th>Wii</th>\n",
       "      <td>180000</td>\n",
       "    </tr>\n",
       "  </tbody>\n",
       "</table>\n",
       "</div>"
      ],
      "text/plain": [
       "               sum\n",
       "platform          \n",
       "PS4       69250000\n",
       "XOne      26149999\n",
       "3DS       15140000\n",
       "PC         5250000\n",
       "WiiU       4600000\n",
       "PSV        4250000\n",
       "PS3        3600000\n",
       "X360       1520000\n",
       "Wii         180000"
      ]
     },
     "metadata": {},
     "output_type": "display_data"
    }
   ],
   "source": [
    "df_2016 = df.query('year_of_release == 2016')\n",
    "platform_2016 = df_2016.pivot_table(index = 'platform', values = 'sum_sales', aggfunc=['sum'])\n",
    "platform_2016.columns = ['sum']\n",
    "display(platform_2016.sort_values('sum', ascending = False))"
   ]
  },
  {
   "cell_type": "code",
   "execution_count": 8,
   "metadata": {
    "colab": {
     "base_uri": "https://localhost:8080/",
     "height": 471
    },
    "id": "blcpQUvWTymp",
    "outputId": "9b303d5d-2f6c-454f-bf73-2093d287db30"
   },
   "outputs": [
    {
     "data": {
      "text/plain": [
       "<AxesSubplot:xlabel='year_of_release'>"
      ]
     },
     "execution_count": 8,
     "metadata": {},
     "output_type": "execute_result"
    },
    {
     "data": {
      "image/png": "[encoded data removed]",
      "text/plain": [
       "<Figure size 1008x504 with 1 Axes>"
      ]
     },
     "metadata": {
      "needs_background": "light"
     },
     "output_type": "display_data"
    }
   ],
   "source": [
    "df_new.pivot_table(index=\"year_of_release\", columns=\"platform\", values=\"sum_sales\", aggfunc=\"sum\").plot(figsize=(14,7))"
   ]
  },
  {
   "cell_type": "markdown",
   "metadata": {
    "id": "YmPtAWaK6wb9"
   },
   "source": [
    "# Вывод\n",
    "\n",
    "- Самыми перспективными платформами для продажи можно считать PS4, XOne, два конкурирующих гиганта имеют в перспективе рост продаж в среднем в течение 5 лет. \n",
    "\n",
    "- Персональные компьютеры (PC) выбиваются из тенденции \"поддержка в течение 5 лет\", продажи по ним стабильно высокие в весь период исследования. Так как персональные компьютеры не продаются готовым продуктом, как консоль, а модульно собираются и обновляются пользователями, эта платформа актуальна постоянно. \n",
    "\n",
    "- Так же отдельно стоит обратить внимание на рынок мини консолей WiiU и PSV, объем продаж по ним ниже, но это отдельный перспективный рынок."
   ]
  },
  {
   "cell_type": "markdown",
   "metadata": {
    "id": "nK5iy6oFZExZ"
   },
   "source": [
    "# 3.4 Построим график «ящик с усами» по глобальным продажам игр в разбивке по платформам."
   ]
  },
  {
   "cell_type": "code",
   "execution_count": 9,
   "metadata": {
    "colab": {
     "base_uri": "https://localhost:8080/",
     "height": 633
    },
    "id": "vOkL-i_V7BLP",
    "outputId": "5fb36b29-3c8f-4eae-8119-0603a520bdd1"
   },
   "outputs": [
    {
     "data": {
      "text/plain": [
       "<AxesSubplot:xlabel='platform', ylabel='sum_sales'>"
      ]
     },
     "execution_count": 9,
     "metadata": {},
     "output_type": "execute_result"
    },
    {
     "data": {
      "image/png": "[encoded data removed]",
      "text/plain": [
       "<Figure size 1440x720 with 1 Axes>"
      ]
     },
     "metadata": {
      "needs_background": "light"
     },
     "output_type": "display_data"
    }
   ],
   "source": [
    "plt.figure(figsize=(20,10))\n",
    "plt.ylim(0,2500000)\n",
    "sns.boxplot(x='platform',y='sum_sales',data=df)"
   ]
  },
  {
   "cell_type": "markdown",
   "metadata": {
    "id": "lM3p9k5zNxOA"
   },
   "source": [
    "# Вывод:\n",
    "\n",
    "- Самые большие межквартильный размах и медиана у платформ NES (в РФ - приставка Dendy) и GB (GameBoy). Так же высокий межквартильный размах у платформы GEN (Sega Mega Drive). Все три платформы уже не поддерживаются, но к их показателям стоит стремится при планировании продаж.\n",
    "\n",
    "- У всех платформ диаграмма скошена вправо и имеется большое количество выбросов вправо. Вероятно из-за тендеции, что игры имеют свойство \"вируситься\" и топовые игры покупают себе большинство пользователей платформы.\n",
    "\n",
    "- Было бы интересно оценить статистику, сколько игр за время пользования платформой в среднем покупает каждый пользователь.\n",
    "\n",
    "- В остальном межквартальный размах у большинства платформ находятся в интервале 100 000 - 700 000, медиана 250 000 - 300 000. \n",
    "\n",
    "- Не верным будет проводить параллель между платформами, поддержка которых завершена и поддерживаемыми на 2016 год. PS4, XOne по межквартальному размаху и медиане сравнимы с другими платформами, но эти продажи они набрали за 5 лет из 10, а значит имеют перспективу вырасти еще вдвое."
   ]
  },
  {
   "cell_type": "markdown",
   "metadata": {
    "id": "_Dj7qVFYYt4p"
   },
   "source": [
    "# 3.5 Оценим, как влияют на продажи внутри одной популярной платформы (PS4) отзывы пользователей и критиков."
   ]
  },
  {
   "cell_type": "code",
   "execution_count": 10,
   "metadata": {
    "colab": {
     "base_uri": "https://localhost:8080/",
     "height": 313
    },
    "id": "ee0nRS61YlUl",
    "outputId": "525d8a00-c572-45ae-e3b7-03277b6dab64"
   },
   "outputs": [
    {
     "name": "stdout",
     "output_type": "stream",
     "text": [
      "Коэффициент корреляции рейтинга критиков от суммарных продаж 0.407\n"
     ]
    },
    {
     "data": {
      "image/png": "[encoded data removed]",
      "text/plain": [
       "<Figure size 432x288 with 1 Axes>"
      ]
     },
     "metadata": {
      "needs_background": "light"
     },
     "output_type": "display_data"
    }
   ],
   "source": [
    "df_ps4_critic = df.query('platform==\"PS4\" and critic_score !=0')\n",
    "df_ps4_critic.plot(kind='scatter', x='critic_score', y='sum_sales',grid=True, title = 'Зависимость продаж от рейтинга критиков')\n",
    "print('Коэффициент корреляции рейтинга критиков от суммарных продаж', df_ps4_critic['critic_score'].corr(df_ps4_critic['sum_sales']).round(3))"
   ]
  },
  {
   "cell_type": "code",
   "execution_count": 11,
   "metadata": {
    "colab": {
     "base_uri": "https://localhost:8080/",
     "height": 312
    },
    "id": "Fdv0bzd_mQEl",
    "outputId": "2d061127-3ddd-47bf-e157-383b762ca99d"
   },
   "outputs": [
    {
     "name": "stdout",
     "output_type": "stream",
     "text": [
      "Коэффициент корреляции рейтинга пользователей от суммарных продаж -0.034\n"
     ]
    },
    {
     "data": {
      "image/png": "[encoded data removed]",
      "text/plain": [
       "<Figure size 432x288 with 1 Axes>"
      ]
     },
     "metadata": {
      "needs_background": "light"
     },
     "output_type": "display_data"
    }
   ],
   "source": [
    "df_ps4_user = df.query('platform==\"PS4\" and user_score !=0')\n",
    "df_ps4_user.plot(kind='scatter', x='user_score', y='sum_sales',grid=True, title ='Зависимость продаж от рейтинга пользователей')\n",
    "print('Коэффициент корреляции рейтинга пользователей от суммарных продаж', df_ps4_user['user_score'].corr(df_ps4_critic['sum_sales']).round(3))"
   ]
  },
  {
   "cell_type": "markdown",
   "metadata": {
    "id": "A6fl9mJ9myUQ"
   },
   "source": [
    "# Вывод:\n",
    "\n",
    "- Коэффициаент корреляции между рейтингом критиков и суммарными продажами положительный, но низкий, 0.407. Между рейтингом пользователей и продажами практически нулевой и даже отрицательный, -0.034.\n",
    "\n",
    "- Вероятно на факт продажи влияют другие показатели: реклама, доверие к компании производителю, пристрастие к жанру итп. Есть тенденция о недоверии к любым оценкам в связи с их обильной \"покупкой\" и \"накруткой\".\n",
    "\n",
    "- Так же вероятно, что игры покупаются в основном по предзаказу либо непосредственно после выпуска и принимают решение о продаже не по рейтингу игры, а по подготовительным мероприятиям: рекламе и промо компаниям.\n",
    "\n",
    "- Критикам игра достается раньше, чем пользователям, что по сути является промо акцией. И на данные рейтинга пользователи успевают опереться до покупки.\n",
    "\n",
    "- Хочешь продать игру - занимайся прогревом и промо акциями.\n",
    "\n",
    "\n"
   ]
  },
  {
   "cell_type": "markdown",
   "metadata": {
    "id": "bIXTiar90pKd"
   },
   "source": [
    "# 3.6 Рассмотрим общее распределение игр по жанрам"
   ]
  },
  {
   "cell_type": "code",
   "execution_count": 12,
   "metadata": {
    "colab": {
     "base_uri": "https://localhost:8080/",
     "height": 716
    },
    "id": "xFHGgwh1kTtC",
    "outputId": "456ffd0e-0e09-4eab-82f9-4e09e2cb0886"
   },
   "outputs": [
    {
     "data": {
      "text/plain": [
       "genre\n",
       "Action          3369\n",
       "Sports          2348\n",
       "Misc            1750\n",
       "Role-Playing    1498\n",
       "Shooter         1323\n",
       "Adventure       1303\n",
       "Racing          1249\n",
       "Platform         888\n",
       "Simulation       873\n",
       "Fighting         849\n",
       "Strategy         683\n",
       "Puzzle           580\n",
       "Name: sum_sales, dtype: int64"
      ]
     },
     "metadata": {},
     "output_type": "display_data"
    },
    {
     "data": {
      "text/plain": [
       "<AxesSubplot:title={'center':'Распределение игр по жанрам'}, xlabel='genre'>"
      ]
     },
     "execution_count": 12,
     "metadata": {},
     "output_type": "execute_result"
    },
    {
     "data": {
      "image/png": "[encoded data removed]",
      "text/plain": [
       "<Figure size 864x432 with 1 Axes>"
      ]
     },
     "metadata": {
      "needs_background": "light"
     },
     "output_type": "display_data"
    }
   ],
   "source": [
    "genre_count = df.groupby('genre')['sum_sales'].count().sort_values(ascending=False)\n",
    "display(genre_count)\n",
    "genre_count.plot(kind='bar', figsize=(12,6), grid=True, title='Распределение игр по жанрам')"
   ]
  },
  {
   "cell_type": "code",
   "execution_count": 13,
   "metadata": {
    "colab": {
     "base_uri": "https://localhost:8080/",
     "height": 716
    },
    "id": "I48sYUvz6Aia",
    "outputId": "42ca6a02-16a0-48fe-d479-42dee97c010e"
   },
   "outputs": [
    {
     "data": {
      "text/plain": [
       "genre\n",
       "Platform        932173\n",
       "Shooter         795502\n",
       "Role-Playing    623871\n",
       "Racing          583402\n",
       "Sports          566980\n",
       "Fighting        527126\n",
       "Action          517711\n",
       "Misc            458577\n",
       "Simulation      446701\n",
       "Puzzle          418224\n",
       "Strategy        255095\n",
       "Adventure       182340\n",
       "Name: sum_sales, dtype: int64"
      ]
     },
     "metadata": {},
     "output_type": "display_data"
    },
    {
     "data": {
      "text/plain": [
       "<AxesSubplot:title={'center':'Распределение игр по медиальным продажам'}, xlabel='genre'>"
      ]
     },
     "execution_count": 13,
     "metadata": {},
     "output_type": "execute_result"
    },
    {
     "data": {
      "image/png": "[encoded data removed]",
      "text/plain": [
       "<Figure size 864x432 with 1 Axes>"
      ]
     },
     "metadata": {
      "needs_background": "light"
     },
     "output_type": "display_data"
    }
   ],
   "source": [
    "genre_sum_sales = df.groupby('genre')['sum_sales'].mean().astype(int).sort_values(ascending=False)\n",
    "display(genre_sum_sales)\n",
    "genre_sum_sales.plot(kind='bar', figsize=(12,6), grid=True, title='Распределение игр по медиальным продажам')"
   ]
  },
  {
   "cell_type": "markdown",
   "metadata": {
    "id": "0pZF1naZ55On"
   },
   "source": [
    "# Вывод:\n",
    "\n",
    "Самым часто используемым жанром является Action, за все время было выпущено 3369 игр, суммарные продажи по нему почти 1,750 млрд. копий, на втором месте с небольшим отрывом Sports - 2348 игр и 1,33 млрд. копий.\n",
    "\n",
    "Самые низкие продажи в жанрах Puzzle, Adventure и Strategy.\n",
    "\n",
    "Самые стабильные продажи с высоким доходом дают игры в жанрах Platform и Shooter.\n",
    "\n"
   ]
  },
  {
   "cell_type": "markdown",
   "metadata": {
    "id": "hw73IQM57_2Q"
   },
   "source": [
    "# 4. Составьте портрет пользователя каждого региона\n",
    "\n",
    "4.1 Определяем самые популярные платформы (топ-5) по регионам"
   ]
  },
  {
   "cell_type": "code",
   "execution_count": 14,
   "metadata": {
    "colab": {
     "base_uri": "https://localhost:8080/",
     "height": 560
    },
    "id": "xfVHCwqk8OUf",
    "outputId": "950537c6-8ec2-4aa1-d3a9-4e813e8bab5b"
   },
   "outputs": [
    {
     "name": "stdout",
     "output_type": "stream",
     "text": [
      "Топ 5 платформ в регионе NA: platform\n",
      "X360    140050000\n",
      "PS4     108739999\n",
      "PS3     103379998\n",
      "XOne     93120000\n",
      "3DS      55309999\n",
      "Name: na_sales, dtype: int64\n"
     ]
    },
    {
     "data": {
      "text/plain": [
       "<AxesSubplot:title={'center':'Платформы в регионе NA по популярности'}, xlabel='platform'>"
      ]
     },
     "execution_count": 14,
     "metadata": {},
     "output_type": "execute_result"
    },
    {
     "data": {
      "image/png": "[encoded data removed]",
      "text/plain": [
       "<Figure size 864x432 with 1 Axes>"
      ]
     },
     "metadata": {
      "needs_background": "light"
     },
     "output_type": "display_data"
    }
   ],
   "source": [
    "platform_na = df.query('year_of_release > 2011').groupby('platform')['na_sales'].sum().sort_values(ascending=False)\n",
    "print('Топ 5 платформ в регионе NA:', platform_na.head(5))\n",
    "platform_na.plot(kind='bar', figsize=(12,6), grid=True, title='Платформы в регионе NA по популярности')"
   ]
  },
  {
   "cell_type": "code",
   "execution_count": 15,
   "metadata": {
    "colab": {
     "base_uri": "https://localhost:8080/",
     "height": 560
    },
    "id": "G95HXZnQ8xGK",
    "outputId": "4e802f2c-5b78-46c9-895e-0dfaef71fd7f"
   },
   "outputs": [
    {
     "name": "stdout",
     "output_type": "stream",
     "text": [
      "Топ 5 платформ в регионе EU: platform\n",
      "PS4     141089998\n",
      "PS3     106860000\n",
      "X360     74520000\n",
      "XOne     51589999\n",
      "3DS      42640000\n",
      "Name: eu_sales, dtype: int64\n"
     ]
    },
    {
     "data": {
      "text/plain": [
       "<AxesSubplot:title={'center':'Платформы в регионе EU по популярности'}, xlabel='platform'>"
      ]
     },
     "execution_count": 15,
     "metadata": {},
     "output_type": "execute_result"
    },
    {
     "data": {
      "image/png": "[encoded data removed]",
      "text/plain": [
       "<Figure size 864x432 with 1 Axes>"
      ]
     },
     "metadata": {
      "needs_background": "light"
     },
     "output_type": "display_data"
    }
   ],
   "source": [
    "platform_eu = df.query('year_of_release > 2011').groupby('platform')['eu_sales'].sum().sort_values(ascending=False)\n",
    "print('Топ 5 платформ в регионе EU:', platform_eu.head(5))\n",
    "platform_eu.plot(kind='bar', figsize=(12,6), grid=True, title='Платформы в регионе EU по популярности')"
   ]
  },
  {
   "cell_type": "code",
   "execution_count": 16,
   "metadata": {
    "colab": {
     "base_uri": "https://localhost:8080/",
     "height": 560
    },
    "id": "_f6dMiT49XC9",
    "outputId": "015b183b-4c10-437d-8811-7d24b7f34ee4"
   },
   "outputs": [
    {
     "name": "stdout",
     "output_type": "stream",
     "text": [
      "Топ 5 платформ в регионе JP: platform\n",
      "3DS     87790000\n",
      "PS3     35290000\n",
      "PSV     21040000\n",
      "PS4     15960000\n",
      "WiiU    13010000\n",
      "Name: jp_sales, dtype: int64\n"
     ]
    },
    {
     "data": {
      "text/plain": [
       "<AxesSubplot:title={'center':'Платформы в регионе JP по популярности'}, xlabel='platform'>"
      ]
     },
     "execution_count": 16,
     "metadata": {},
     "output_type": "execute_result"
    },
    {
     "data": {
      "image/png": "[encoded data removed]",
      "text/plain": [
       "<Figure size 864x432 with 1 Axes>"
      ]
     },
     "metadata": {
      "needs_background": "light"
     },
     "output_type": "display_data"
    }
   ],
   "source": [
    "platform_jp = df.query('year_of_release > 2011').groupby('platform')['jp_sales'].sum().sort_values(ascending=False)\n",
    "print('Топ 5 платформ в регионе JP:', platform_jp.head(5))\n",
    "platform_jp.plot(kind='bar', figsize=(12,6), grid=True, title='Платформы в регионе JP по популярности')"
   ]
  },
  {
   "cell_type": "markdown",
   "metadata": {
    "id": "EEjRZ2v4-Zc0"
   },
   "source": [
    "#Вывод:\n",
    "- В Северной Америке в топ 5 игровых платформ в первую очередь входят платформы местного производства от Microsoft: XOne и X360. Так же в ТОП 5 попали главный конкурент от Sony PS4 и PS3 и замыкает ТОП карманная консоль Nintendo 3DS.\n",
    "\n",
    "- В Европе ТОП возглавляет приставки от Sony, PS4 и PS3. И два представителя Microsoft X360 и XOne, замыкает топ так же карманная консоль от Nintendo - 3DS.\n",
    "\n",
    "- В Японии игры исторически появились и набирали популярность раньше, чем в других регионах, ее можно смело назвать родиной современных компьютерных игр, компьютерные игры часть их современной культуры, японец играет всегда и везде. Поэтому наибольшую популярность с огромным отрывом имеют карманные консоли и все местного производства: Nintendo 3DS, PSV и WiiU. Так же в топ попали оба поколения домашних приставок PS3 и PS4."
   ]
  },
  {
   "cell_type": "markdown",
   "metadata": {
    "id": "pBuQYZSlTSIt"
   },
   "source": [
    "# 4.2 Определяем самые популярные жанры (топ-5) по регионам"
   ]
  },
  {
   "cell_type": "code",
   "execution_count": 17,
   "metadata": {
    "colab": {
     "base_uri": "https://localhost:8080/",
     "height": 595
    },
    "id": "IeOiJKIX-NUy",
    "outputId": "c3fcb546-78da-4765-ac0c-55f722df4d5f"
   },
   "outputs": [
    {
     "name": "stdout",
     "output_type": "stream",
     "text": [
      "Топ 5 жанров в регионе NA: genre\n",
      "Action          177839999\n",
      "Shooter         144769999\n",
      "Sports           81530000\n",
      "Role-Playing     64000000\n",
      "Misc             38189999\n",
      "Name: na_sales, dtype: int64\n"
     ]
    },
    {
     "data": {
      "text/plain": [
       "<AxesSubplot:title={'center':'Жанры в регионе NA по популярности'}, xlabel='genre'>"
      ]
     },
     "execution_count": 17,
     "metadata": {},
     "output_type": "execute_result"
    },
    {
     "data": {
      "image/png": "[encoded data removed]",
      "text/plain": [
       "<Figure size 864x432 with 1 Axes>"
      ]
     },
     "metadata": {
      "needs_background": "light"
     },
     "output_type": "display_data"
    }
   ],
   "source": [
    "genre_na = df.query('year_of_release > 2011').groupby('genre')['na_sales'].sum().sort_values(ascending=False)\n",
    "print('Топ 5 жанров в регионе NA:', genre_na.head(5))\n",
    "genre_na.plot(kind='bar', figsize=(12,6), grid=True, title='Жанры в регионе NA по популярности')"
   ]
  },
  {
   "cell_type": "code",
   "execution_count": 18,
   "metadata": {
    "colab": {
     "base_uri": "https://localhost:8080/",
     "height": 595
    },
    "id": "McPXS1CzT2yN",
    "outputId": "bd4e4a75-a76a-4a11-ccca-b28517baed6f"
   },
   "outputs": [
    {
     "name": "stdout",
     "output_type": "stream",
     "text": [
      "Топ 5 жанров в регионе EU: genre\n",
      "Action          159339999\n",
      "Shooter         113469999\n",
      "Sports           69089999\n",
      "Role-Playing     48530000\n",
      "Racing           27290000\n",
      "Name: eu_sales, dtype: int64\n"
     ]
    },
    {
     "data": {
      "text/plain": [
       "<AxesSubplot:title={'center':'Жанры в регионе EU по популярности'}, xlabel='genre'>"
      ]
     },
     "execution_count": 18,
     "metadata": {},
     "output_type": "execute_result"
    },
    {
     "data": {
      "image/png": "[encoded data removed]",
      "text/plain": [
       "<Figure size 864x432 with 1 Axes>"
      ]
     },
     "metadata": {
      "needs_background": "light"
     },
     "output_type": "display_data"
    }
   ],
   "source": [
    "genre_eu = df.query('year_of_release > 2011').groupby('genre')['eu_sales'].sum().sort_values(ascending=False)\n",
    "print('Топ 5 жанров в регионе EU:', genre_eu.head(5))\n",
    "genre_eu.plot(kind='bar', figsize=(12,6), grid=True, title='Жанры в регионе EU по популярности')"
   ]
  },
  {
   "cell_type": "code",
   "execution_count": 19,
   "metadata": {
    "colab": {
     "base_uri": "https://localhost:8080/",
     "height": 595
    },
    "id": "-a2-ng3tT3cG",
    "outputId": "1bf83e1e-33f2-4c70-b674-c342ad939820"
   },
   "outputs": [
    {
     "name": "stdout",
     "output_type": "stream",
     "text": [
      "Топ 5 жанров в регионе JP: genre\n",
      "Role-Playing    65440000\n",
      "Action          52800000\n",
      "Misc            12860000\n",
      "Simulation      10410000\n",
      "Fighting         9440000\n",
      "Name: jp_sales, dtype: int64\n"
     ]
    },
    {
     "data": {
      "text/plain": [
       "<AxesSubplot:title={'center':'Жанры в регионе JP по популярности'}, xlabel='genre'>"
      ]
     },
     "execution_count": 19,
     "metadata": {},
     "output_type": "execute_result"
    },
    {
     "data": {
      "image/png": "[encoded data removed]",
      "text/plain": [
       "<Figure size 864x432 with 1 Axes>"
      ]
     },
     "metadata": {
      "needs_background": "light"
     },
     "output_type": "display_data"
    }
   ],
   "source": [
    "genre_jp = df.query('year_of_release > 2011').groupby('genre')['jp_sales'].sum().sort_values(ascending=False)\n",
    "print('Топ 5 жанров в регионе JP:', genre_jp.head(5))\n",
    "genre_jp.plot(kind='bar', figsize=(12,6), grid=True, title='Жанры в регионе JP по популярности')"
   ]
  },
  {
   "cell_type": "markdown",
   "metadata": {
    "id": "Zl-MeaOwULjM"
   },
   "source": [
    "# Вывод:\n",
    "- ТОП 5 жарнов в Европе и Северной Америке выглядит примерно одинаково: первые четыре места занимают Action, Sport, Shooter, Role-Playing. Замыкают топ с небольшой разницей в Cеверной Америке Misc, в Европе Rasing.\n",
    "\n",
    "- В Японии с большим отрывом лидируют Role-Playing. Сказывается историческая страсть японцев к ролевым играм. На втором месте и так же с большим отрывом Action. Остальные игры по уровню популярности примерно идентичны. ТОП 5 из них попали Misc, Simulation и Fighting."
   ]
  },
  {
   "cell_type": "markdown",
   "metadata": {
    "id": "I3j8IHEaWJ3H"
   },
   "source": [
    "# 4.3 Выясняем, влияет ли рейтинг ESRB на продажи в отдельном регионе."
   ]
  },
  {
   "cell_type": "code",
   "execution_count": 20,
   "metadata": {
    "colab": {
     "base_uri": "https://localhost:8080/",
     "height": 269
    },
    "id": "dLF4k4rdWXh2",
    "outputId": "fc2bd981-0307-4dc3-dc06-c7be4a230eb9"
   },
   "outputs": [
    {
     "data": {
      "text/html": [
       "<div>\n",
       "<style scoped>\n",
       "    .dataframe tbody tr th:only-of-type {\n",
       "        vertical-align: middle;\n",
       "    }\n",
       "\n",
       "    .dataframe tbody tr th {\n",
       "        vertical-align: top;\n",
       "    }\n",
       "\n",
       "    .dataframe thead th {\n",
       "        text-align: right;\n",
       "    }\n",
       "</style>\n",
       "<table border=\"1\" class=\"dataframe\">\n",
       "  <thead>\n",
       "    <tr style=\"text-align: right;\">\n",
       "      <th></th>\n",
       "      <th>sum</th>\n",
       "    </tr>\n",
       "    <tr>\n",
       "      <th>rating</th>\n",
       "      <th></th>\n",
       "    </tr>\n",
       "  </thead>\n",
       "  <tbody>\n",
       "    <tr>\n",
       "      <th>E</th>\n",
       "      <td>1292989991</td>\n",
       "    </tr>\n",
       "    <tr>\n",
       "      <th>RP</th>\n",
       "      <td>1240679993</td>\n",
       "    </tr>\n",
       "    <tr>\n",
       "      <th>T</th>\n",
       "      <td>759749994</td>\n",
       "    </tr>\n",
       "    <tr>\n",
       "      <th>M</th>\n",
       "      <td>748479998</td>\n",
       "    </tr>\n",
       "    <tr>\n",
       "      <th>E10+</th>\n",
       "      <td>353319999</td>\n",
       "    </tr>\n",
       "    <tr>\n",
       "      <th>EC</th>\n",
       "      <td>4090000</td>\n",
       "    </tr>\n",
       "    <tr>\n",
       "      <th>AO</th>\n",
       "      <td>1260000</td>\n",
       "    </tr>\n",
       "  </tbody>\n",
       "</table>\n",
       "</div>"
      ],
      "text/plain": [
       "               sum\n",
       "rating            \n",
       "E       1292989991\n",
       "RP      1240679993\n",
       "T        759749994\n",
       "M        748479998\n",
       "E10+     353319999\n",
       "EC         4090000\n",
       "AO         1260000"
      ]
     },
     "metadata": {},
     "output_type": "display_data"
    }
   ],
   "source": [
    "esrb_na = df.pivot_table(index = 'rating', values = 'na_sales', aggfunc=['sum'])\n",
    "esrb_na.columns = ['sum']\n",
    "display(esrb_na.sort_values('sum', ascending = False))"
   ]
  },
  {
   "cell_type": "code",
   "execution_count": 21,
   "metadata": {
    "colab": {
     "base_uri": "https://localhost:8080/",
     "height": 269
    },
    "id": "UDcwxPXNXuul",
    "outputId": "6d03ff1b-eee1-451c-a211-e833b5360be8"
   },
   "outputs": [
    {
     "data": {
      "text/html": [
       "<div>\n",
       "<style scoped>\n",
       "    .dataframe tbody tr th:only-of-type {\n",
       "        vertical-align: middle;\n",
       "    }\n",
       "\n",
       "    .dataframe tbody tr th {\n",
       "        vertical-align: top;\n",
       "    }\n",
       "\n",
       "    .dataframe thead th {\n",
       "        text-align: right;\n",
       "    }\n",
       "</style>\n",
       "<table border=\"1\" class=\"dataframe\">\n",
       "  <thead>\n",
       "    <tr style=\"text-align: right;\">\n",
       "      <th></th>\n",
       "      <th>sum</th>\n",
       "    </tr>\n",
       "    <tr>\n",
       "      <th>rating</th>\n",
       "      <th></th>\n",
       "    </tr>\n",
       "  </thead>\n",
       "  <tbody>\n",
       "    <tr>\n",
       "      <th>E</th>\n",
       "      <td>710249997</td>\n",
       "    </tr>\n",
       "    <tr>\n",
       "      <th>RP</th>\n",
       "      <td>613379999</td>\n",
       "    </tr>\n",
       "    <tr>\n",
       "      <th>M</th>\n",
       "      <td>483969997</td>\n",
       "    </tr>\n",
       "    <tr>\n",
       "      <th>T</th>\n",
       "      <td>427029997</td>\n",
       "    </tr>\n",
       "    <tr>\n",
       "      <th>E10+</th>\n",
       "      <td>188520000</td>\n",
       "    </tr>\n",
       "    <tr>\n",
       "      <th>AO</th>\n",
       "      <td>610000</td>\n",
       "    </tr>\n",
       "    <tr>\n",
       "      <th>EC</th>\n",
       "      <td>380000</td>\n",
       "    </tr>\n",
       "  </tbody>\n",
       "</table>\n",
       "</div>"
      ],
      "text/plain": [
       "              sum\n",
       "rating           \n",
       "E       710249997\n",
       "RP      613379999\n",
       "M       483969997\n",
       "T       427029997\n",
       "E10+    188520000\n",
       "AO         610000\n",
       "EC         380000"
      ]
     },
     "metadata": {},
     "output_type": "display_data"
    }
   ],
   "source": [
    "esrb_eu = df.pivot_table(index = 'rating', values = 'eu_sales', aggfunc=['sum'])\n",
    "esrb_eu.columns = ['sum']\n",
    "display(esrb_eu.sort_values('sum', ascending = False))"
   ]
  },
  {
   "cell_type": "code",
   "execution_count": 22,
   "metadata": {
    "colab": {
     "base_uri": "https://localhost:8080/",
     "height": 269
    },
    "id": "0NMSGvKMX33M",
    "outputId": "5ddced2a-d495-4fea-c0d2-b713766ed127"
   },
   "outputs": [
    {
     "data": {
      "text/html": [
       "<div>\n",
       "<style scoped>\n",
       "    .dataframe tbody tr th:only-of-type {\n",
       "        vertical-align: middle;\n",
       "    }\n",
       "\n",
       "    .dataframe tbody tr th {\n",
       "        vertical-align: top;\n",
       "    }\n",
       "\n",
       "    .dataframe thead th {\n",
       "        text-align: right;\n",
       "    }\n",
       "</style>\n",
       "<table border=\"1\" class=\"dataframe\">\n",
       "  <thead>\n",
       "    <tr style=\"text-align: right;\">\n",
       "      <th></th>\n",
       "      <th>sum</th>\n",
       "    </tr>\n",
       "    <tr>\n",
       "      <th>rating</th>\n",
       "      <th></th>\n",
       "    </tr>\n",
       "  </thead>\n",
       "  <tbody>\n",
       "    <tr>\n",
       "      <th>RP</th>\n",
       "      <td>841929997</td>\n",
       "    </tr>\n",
       "    <tr>\n",
       "      <th>E</th>\n",
       "      <td>198110000</td>\n",
       "    </tr>\n",
       "    <tr>\n",
       "      <th>T</th>\n",
       "      <td>151400000</td>\n",
       "    </tr>\n",
       "    <tr>\n",
       "      <th>M</th>\n",
       "      <td>64240000</td>\n",
       "    </tr>\n",
       "    <tr>\n",
       "      <th>E10+</th>\n",
       "      <td>40200000</td>\n",
       "    </tr>\n",
       "    <tr>\n",
       "      <th>EC</th>\n",
       "      <td>1460000</td>\n",
       "    </tr>\n",
       "    <tr>\n",
       "      <th>AO</th>\n",
       "      <td>0</td>\n",
       "    </tr>\n",
       "  </tbody>\n",
       "</table>\n",
       "</div>"
      ],
      "text/plain": [
       "              sum\n",
       "rating           \n",
       "RP      841929997\n",
       "E       198110000\n",
       "T       151400000\n",
       "M        64240000\n",
       "E10+     40200000\n",
       "EC        1460000\n",
       "AO              0"
      ]
     },
     "metadata": {},
     "output_type": "display_data"
    }
   ],
   "source": [
    "esrb_jp = df.pivot_table(index = 'rating', values = 'jp_sales', aggfunc=['sum'])\n",
    "esrb_jp.columns = ['sum']\n",
    "display(esrb_jp.sort_values('sum', ascending = False))"
   ]
  },
  {
   "cell_type": "markdown",
   "metadata": {
    "id": "x3Lb9pIHYLUN"
   },
   "source": [
    "В Северной Америке и Европе основные продажи приходятся на семейные игры с рейтингом «Everyone», на втором месте, но с небольшим отрывом игры без рейтинга. На третьем месте с почти двойным отрывом «Teen» 13-17 лет и «Mature» от 17 лет. Игры популярны в основном у подростковой аудитории. Вывод: рейтинг влияет на выбор покупателя, но не всегда. Примерно в 25-30% случаев.\n",
    "\n",
    "В Японии большая часть продаж, более 61%, приходится на игры без рейтинга. \n",
    "\n",
    "Выводы: возрастной рейтинг в Европе и Северной Америке влияет на продажи, только каждый четвертый пользователь покупает игру без рейтинга. В Японии основные продажи приходятся на игры без рейтинга. Можно сделать вывод, что в Японии покупают игры практически не опираясь на рейтинг.\n",
    "\n"
   ]
  },
  {
   "cell_type": "markdown",
   "metadata": {
    "id": "MkHSVaAwa0Ez"
   },
   "source": [
    "# 5. Проверка гипотез\n",
    "# 5.1 Средние пользовательские рейтинги платформ Xbox One и PC одинаковые\n",
    "\n",
    "Гипотеза о равенстве двух генеральных совокупностей, проверяем по t-критерию Стьюдента.\n",
    "\n",
    "- Формулируем нулевую гипотезу: Средние пользовательские рейтинги платформ Xbox One и PC равны\n",
    "- Альтернативная гипотеза: Средние пользовательские рейтинги платформ Xbox One и PC не равны"
   ]
  },
  {
   "cell_type": "markdown",
   "metadata": {},
   "source": [
    "<div class=\"alert-success\">\n",
    "<b>Комментарий ревьюера ✔️</b>\n",
    "\n",
    "Нулевая и альтернативная гипотезы сформулированы верно!</div>"
   ]
  },
  {
   "cell_type": "code",
   "execution_count": 23,
   "metadata": {
    "colab": {
     "base_uri": "https://localhost:8080/"
    },
    "id": "_4LWTpyJaypx",
    "outputId": "c4b753cb-d342-47a1-9d5d-bc26965d29f6"
   },
   "outputs": [
    {
     "name": "stdout",
     "output_type": "stream",
     "text": [
      "p-значение:  0.5535080500643661\n",
      "Не получилось отвергнуть нулевую гипотезу\n",
      "4.81 и 5.58\n"
     ]
    }
   ],
   "source": [
    "user_score_xbox = df[(df['platform'] == 'XOne') & (df['year_of_release'] > 2011) & (df['user_score'] != 0)]['user_score']\n",
    "user_score_pc = df[(df['platform'] == 'PC') & (df['year_of_release'] > 2011) & (df['user_score'] != 0)]['user_score']\n",
    "\n",
    "alpha = .05 \n",
    "\n",
    "results = st.ttest_ind(\n",
    "    user_score_xbox, \n",
    "    user_score_pc)\n",
    "\n",
    "print('p-значение: ', results.pvalue)\n",
    "\n",
    "if results.pvalue < alpha:\n",
    "    print(\"Отвергаем нулевую гипотезу\")\n",
    "else:\n",
    "    print(\"Не получилось отвергнуть нулевую гипотезу\")\n",
    "\n",
    "#проверяем равенство средних генеральных совокупностей \"в лоб\"\n",
    "print(round(df[df['platform'] == 'XOne']['user_score'].mean(),2), 'и', round(df[df['platform'] == 'PC']['user_score'].mean(),2)) "
   ]
  },
  {
   "cell_type": "markdown",
   "metadata": {
    "id": "VNpSslpBz-Dq"
   },
   "source": [
    "# 5.2 Средние пользовательские рейтинги жанров Action (англ. «действие», экшен-игры) и Sports (англ. «спортивные соревнования») разные.\n",
    "\n",
    "\n",
    "Так же гипотеза о равенстве двух генеральных совокупностей, проверяем по t-критерию Стьюдента.\n",
    "\n",
    "- Формулируем нулевую гипотезу так, чтобы было равенство: Средние пользовательские рейтинги жанров Action и Sports равны\n",
    "- Альтернативная гипотеза: Средние пользовательские рейтинги жанров Action и Sports не равны\n"
   ]
  },
  {
   "cell_type": "code",
   "execution_count": 24,
   "metadata": {
    "colab": {
     "base_uri": "https://localhost:8080/"
    },
    "id": "U5WpIPOywaAE",
    "outputId": "db11baa7-83e2-4f65-fe39-0ad2ff6c2a39"
   },
   "outputs": [
    {
     "name": "stdout",
     "output_type": "stream",
     "text": [
      "p-значение:  3.7163089460934874e-26\n",
      "Отвергаем нулевую гипотезу\n",
      "3.83 и 3.27\n"
     ]
    }
   ],
   "source": [
    "user_score_action = df[(df['genre'] == 'Action') & (df['year_of_release'] > 2011) & (df['user_score'] != 0)]['user_score']\n",
    "user_score_sports = df[(df['genre'] == 'Sports') & (df['year_of_release'] > 2011) & (df['user_score'] != 0)]['user_score']\n",
    "\n",
    "alpha = .05 \n",
    "\n",
    "results = st.ttest_ind(\n",
    "    user_score_action, \n",
    "    user_score_sports)\n",
    "\n",
    "print('p-значение: ', results.pvalue)\n",
    "\n",
    "if results.pvalue < alpha:\n",
    "    print(\"Отвергаем нулевую гипотезу\")\n",
    "else:\n",
    "    print(\"Не получилось отвергнуть нулевую гипотезу\")\n",
    "\n",
    "#проверяем равенство средних генеральных совокупностей \"в лоб\"\n",
    "print(round(df[df['genre'] == 'Action']['user_score'].mean(), 2), 'и', round(df[df['genre'] == 'Sports']['user_score'].mean(),2))"
   ]
  },
  {
   "cell_type": "markdown",
   "metadata": {},
   "source": [
    "# Вывод:\n",
    "\n",
    "Проверка первой гипотезы: Средние пользовательские рейтинги платформ Xbox One и PC одинаковые.\n",
    "\n",
    "- Гипотезу отвергнуть не удалось, с вероятностью 55% средние пользовательские рейтинги платформ Xbox One и PC одинаковые.\n",
    "\n",
    "Проверка второй гипотезы: Средние пользовательские рейтинги жанров Action (англ. «действие», экшен-игры) и Sports (англ. «спортивные соревнования») разные.\n",
    "\n",
    "- Гипотезу отвергнуть не удалось, с большой вероятностью средние пользовательские рейтинги жанров Action и Sports разные.\n",
    "\n"
   ]
  },
  {
   "cell_type": "markdown",
   "metadata": {
    "id": "FzgmkUg3015t"
   },
   "source": [
    "# Общий вывод:\n",
    "В ходе исследования мы проведи анализ данных, выявили и исправили ряд ошибок, преобразовали данные:\n",
    "\n",
    "- Пропуски в столбце Name. Всего два, не ясно, о какой игре идет речь. Удаляем.\n",
    "\n",
    "- Пропуски в столбце Genre. Всего два. Удаляем.\n",
    "\n",
    "- Пропуски в столбце \"Year_of_Release\" - 269 шт., это 1,6% датафрейма. Количество незначительно, но оно может повлиять на исследование, если заполнять средним или медиальным значением. Для отдельного года это может даль смещение. Заполним нулями и не будем использовать при исследовании года выпуска. Можно преобразовать столбец в тип DateTame, но нет уверенности, что это поможет исследованию, так как в столбце только год и с ним можно провести все необходимые арифметические действия.\n",
    "\n",
    "- Пропуски в столбцах Critic_Score - 8578 шт. и User_Score - 6701 шт., говорят, что эти игры не были оценены критиками/пользователями. Использовать эти игры в исследованиях по данным столбцам нет смысла. Так же в столбце User_Score есть значения \"tbd\" - \"To Be Determined\" - рейтинг на стадии определения, 2424 значения. Все заменяем на 0 и будем исключать в процессе исследования.\n",
    "\n",
    "- Пропуски в столбце Rating. Речь идет о возрастном рейтинге ESRB. Система рейтинга была запущена только в 1994 году, играм до этого времени рейтинг присвоен не был. Этим пропускам можно присвоить рейтинг RP (рейтинг ожидается) и не использовать в исследовании. Игр с рейтингом «EC» («Early childhood») — «Для детей младшего возраста», K-A (\"EC\" до 1999 года) и «AO» («Adults Only 18+») — «Только для взрослых» в сумме очень мало, 0.06% датафрейма. Их так же нет смысла использовать в исследовании рейтинга. Пока оставим, возможно удалим позже исходя из задачи. Преобразуем рейтинг \"K-A\" в \"EC\".\n",
    "\n",
    "Смена типов данных:\n",
    "\n",
    "- Year_of_Release преобразуем в int.\n",
    "\n",
    "- Значения столбцов NA_sales, EU_sales, JP_sales, Other_sales вписаны в млн. шт.. Для перевода в int можно сначала преобразовать в единицы (Прим: 2,1 млн = 2 100000). Если данных слишком мног0, можно преобразовать в тысячи (Прим: 2,1 млн = 21000 тыс.).\n",
    "\n",
    "- Critic_Score переводим в int\n",
    "\n",
    "- User_Score переводим в float. Можно домножить на 10 и перевести в int, для удобства сравнения с Critic_Score, но это нарушит \"систему исчисления\" данного рейтинга по 10-бальной шкале. Сделаем, если понадобится далее для анализа и сравнения.\n",
    "\n",
    "# Определили интересующий нас период исследования:\n",
    "- Для построения прогноза на 2017 год лучше выбрать период стабильной стагнации с 2012 до 2016 года. Это отсеет значительное количество не актуальных платформ и даст информацию, соответствующую времени.\n",
    "\n",
    "# Оценили динамику продаж по платформам в исследуемый период:\n",
    "\n",
    "- Самыми перспективными платформами для продажи можно считать PS4, XOne, два конкурирующих гиганта имеют в перспективе рост продаж в среднем в течение 5 лет. \n",
    "\n",
    "- Персональные компьютеры (PC) выбиваются из тенденции \"поддержка в течение 5 лет\", продажи по ним стабильно высокие в весь период исследования. Так как персональные компьютеры не продаются готовым продуктом, как консоль, а модульно собираются и обновляются пользователями, эта платформа актуальна постоянно. \n",
    "\n",
    "- Так же отдельно стоит обратить внимание на рынок мини консолей WiiU и PSV, объем продаж по ним ниже, но это отдельный перспективный рынок.\n",
    "\n",
    "# Построили и исследовали график «ящик с усами» по глобальным продажам игр в разбивке по платформам:\n",
    "\n",
    "- Самые большие межквартильный размах и медиана у платформ NES (в РФ - приставка Dendy) и GB (GameBoy). Так же высокий межквартильный размах у платформы GEN (Sega Mega Drive). Все три платформы уже не поддерживаются, но к их показателям стоит стремится при планировании продаж.\n",
    "\n",
    "- У всех платформ диаграмма скошена вправо и имеется большое количество выбросов вправо. Вероятно из-за тендеции, что игры имеют свойство \"вируситься\" и топовые игры покупают себе большинство пользователей платформы.\n",
    "\n",
    "- Было бы интересно оценить статистику, сколько игр за время пользования платформой в среднем покупает каждый пользователь.\n",
    "\n",
    "- В остальном межквартальный размах у большинства платформ находятся в интервале 100 000 - 700 000, медиана 250 000 - 300 000. \n",
    "\n",
    "- Не верным будет проводить параллель между платформами, поддержка которых завершена и поддерживаемыми на 2016 год. PS4, XOne по межквартальному размаху и медиане сравнимы с другими платформами, но эти продажи они набрали за 5 лет из 10, а значит имеют перспективу вырасти еще вдвое.\n",
    "\n",
    "# Оценили, как влияют на продажи внутри одной популярной платформы (PS4) отзывы пользователей и критиков.\n",
    "\n",
    "- Коэффициаент корреляции между рейтингом критиков и суммарными продажами положительный, но низкий, 0.407. Между рейтингом пользователей и продажами практически нулевой и даже отрицательный, -0.034.\n",
    "\n",
    "- Вероятно на факт продажи влияют другие показатели: реклама, доверие к компании производителю, пристрастие к жанру итп. Есть тенденция о недоверии к любым оценкам в связи с их обильной \"покупкой\" и \"накруткой\".\n",
    "\n",
    "- Так же вероятно, что игры покупаются в основном по предзаказу либо непосредственно после выпуска и принимают решение о продаже не по рейтингу игры, а по подготовительным мероприятиям: рекламе и промо компаниям.\n",
    "\n",
    "- Критикам игра достается раньше, чем пользователям, что по сути является промо акцией. И на данные рейтинга пользователи успевают опереться до покупки.\n",
    "\n",
    "- Хочешь продать игру - занимайся прогревом и промо акциями.\n",
    "\n",
    "# Оценили общее распределение игр по жанрам\n",
    "\n",
    "- Самым прибыльным жанром является Action, за все время было выпущено 3369 игр, суммарные продажи по нему почти 1,750 млрд. копий, на втором месте с небольшим отрывом Sports - 2348 игр и 1,33 млрд. копий.\n",
    "\n",
    "- Самые низкие продажи в жанрах Puzzle, Adventure и Strategy.\n",
    "\n",
    "# Определили ТОП5 платформ по регионам:\n",
    "\n",
    "- В Северной Америке в топ 5 игровых платформ в первую очередь входят платформы местного производства от Microsoft: XOne и X360. Так же в ТОП 5 попали главный конкурент от Sony PS4 и PS3 и замыкает ТОП карманная консоль Nintendo 3DS.\n",
    "\n",
    "- В Европе ТОП возглавляет приставки от Sony, PS4 и PS3. И два представителя Microsoft X360 и XOne, замыкает топ так же карманная консоль от Nintendo - 3DS.\n",
    "\n",
    "- В Японии игры исторически появились и набирали популярность раньше, чем в других регионах, ее можно смело назвать родиной современных компьютерных игр, компьютерные игры часть их современной культуры, японец играет всегда и везде. Поэтому наибольшую популярность с огромным отрывом имеют карманные консоли и все местного производства: Nintendo 3DS, PSV и WiiU. Так же в топ попали оба поколения домашних приставок PS3 и PS4.\n",
    "\n",
    "# Определили ТОП5 жанров по регионам:\n",
    "\n",
    "- ТОП 5 жарнов в Европе и Северной Америке выглядит примерно одинаково: первые четыре места занимают Action, Sport, Shooter, Role-Playing. Замыкают топ с небольшой разницей в Cеверной Америке Misc, в Европе Rasing.\n",
    "\n",
    "- В Японии с большим отрывом лидируют Role-Playing. Сказывается историческая страсть японцев к ролевым играм. На втором месте и так же с большим отрывом Action. Остальные игры по уровню популярности примерно идентичны. ТОП 5 из них попали Misc, Simulation и Fighting.\n",
    "\n",
    "# Выячнили, как влияет возрастной рейтинг на продажи по регионам:\n",
    "\n",
    "- В Северной Америке и Европе основные продажи приходятся на семейные игры с рейтингом «Everyone», на втором месте, но с небольшим отрывом игры без рейтинга. На третьем месте с почти двойным отрывом «Teen» 13-17 лет и «Mature» от 17 лет. Игры популярны в основном у подростковой аудитории. Вывод: рейтинг влияет на выбор покупателя, но не всегда. Примерно в 25-30% случаев.\n",
    "\n",
    "- В Японии большая часть продаж, более 61%, приходится на игры без рейтинга. \n",
    "\n",
    "- Выводы: возрастной рейтинг в Европе и Северной Америке влияет на продажи, только каждый четвертый пользователь покупает игру без рейтинга. В Японии основные продажи приходятся на игры без рейтинга. Можно сделать вывод, что в Японии покупают игры практически не опираясь на рейтинг.\n",
    "\n",
    "# Проверили гипотезы:\n",
    "\n",
    "- Средние пользовательские рейтинги платформ Xbox One и PC одинаковые. \n",
    "Гипотеза не подтвердилась.\n",
    "\n",
    "- Средние пользовательские рейтинги жанров Action (англ. «действие», экшен-\n",
    "игры) и Sports (англ. «спортивные соревнования») разные. \n",
    "Гипотеза не подтвердилась.\n",
    "\n",
    "# Вывод из вывода, рекомендации отделу маркетинга:\n",
    "\n",
    "- Потенциально перспективными платформами для регионов NA и EU являются PS4 и XOne, для региона JP - PS4.\n",
    "- Перспективными жанрами в регионаз NA и EU являются Action, Sport, Shooter, Role-Playing, в JP - Role-Playing и Action.\n",
    "- В Японии возрастной рейтинг игры для продаж значения не имеет."
   ]
  }
 ],
 "metadata": {
  "ExecuteTimeLog": [
   {
    "duration": 77,
    "start_time": "2022-03-22T12:53:39.724Z"
   },
   {
    "duration": 0,
    "start_time": "2022-03-22T12:53:39.804Z"
   },
   {
    "duration": 0,
    "start_time": "2022-03-22T12:53:39.806Z"
   },
   {
    "duration": 0,
    "start_time": "2022-03-22T12:53:39.807Z"
   },
   {
    "duration": 0,
    "start_time": "2022-03-22T12:53:39.809Z"
   },
   {
    "duration": 0,
    "start_time": "2022-03-22T12:53:39.810Z"
   },
   {
    "duration": 0,
    "start_time": "2022-03-22T12:53:39.812Z"
   },
   {
    "duration": 0,
    "start_time": "2022-03-22T12:53:39.813Z"
   },
   {
    "duration": 0,
    "start_time": "2022-03-22T12:53:39.844Z"
   },
   {
    "duration": 0,
    "start_time": "2022-03-22T12:53:39.845Z"
   },
   {
    "duration": 0,
    "start_time": "2022-03-22T12:53:39.846Z"
   },
   {
    "duration": 0,
    "start_time": "2022-03-22T12:53:39.848Z"
   },
   {
    "duration": 0,
    "start_time": "2022-03-22T12:53:39.849Z"
   },
   {
    "duration": 0,
    "start_time": "2022-03-22T12:53:39.851Z"
   },
   {
    "duration": 0,
    "start_time": "2022-03-22T12:53:39.853Z"
   },
   {
    "duration": 0,
    "start_time": "2022-03-22T12:53:39.854Z"
   },
   {
    "duration": 0,
    "start_time": "2022-03-22T12:53:39.856Z"
   },
   {
    "duration": 0,
    "start_time": "2022-03-22T12:53:39.857Z"
   },
   {
    "duration": 0,
    "start_time": "2022-03-22T12:53:39.859Z"
   },
   {
    "duration": 0,
    "start_time": "2022-03-22T12:53:39.861Z"
   },
   {
    "duration": 0,
    "start_time": "2022-03-22T12:53:39.863Z"
   },
   {
    "duration": 0,
    "start_time": "2022-03-22T12:53:39.864Z"
   },
   {
    "duration": 0,
    "start_time": "2022-03-22T12:53:39.866Z"
   },
   {
    "duration": 0,
    "start_time": "2022-03-22T12:53:39.868Z"
   },
   {
    "duration": 1459,
    "start_time": "2022-03-22T12:55:16.685Z"
   },
   {
    "duration": 142,
    "start_time": "2022-03-22T12:55:18.147Z"
   },
   {
    "duration": 120,
    "start_time": "2022-03-22T12:55:18.291Z"
   },
   {
    "duration": 487,
    "start_time": "2022-03-22T12:55:18.414Z"
   },
   {
    "duration": 447,
    "start_time": "2022-03-22T12:55:18.904Z"
   },
   {
    "duration": 28,
    "start_time": "2022-03-22T12:55:19.353Z"
   },
   {
    "duration": 27,
    "start_time": "2022-03-22T12:55:19.383Z"
   },
   {
    "duration": 564,
    "start_time": "2022-03-22T12:55:19.444Z"
   },
   {
    "duration": 1308,
    "start_time": "2022-03-22T12:55:20.011Z"
   },
   {
    "duration": 304,
    "start_time": "2022-03-22T12:55:21.324Z"
   },
   {
    "duration": 544,
    "start_time": "2022-03-22T12:55:21.631Z"
   },
   {
    "duration": 362,
    "start_time": "2022-03-22T12:55:22.178Z"
   },
   {
    "duration": 385,
    "start_time": "2022-03-22T12:55:22.544Z"
   },
   {
    "duration": 534,
    "start_time": "2022-03-22T12:55:22.933Z"
   },
   {
    "duration": 524,
    "start_time": "2022-03-22T12:55:23.470Z"
   },
   {
    "duration": 702,
    "start_time": "2022-03-22T12:55:23.996Z"
   },
   {
    "duration": 352,
    "start_time": "2022-03-22T12:55:24.701Z"
   },
   {
    "duration": 375,
    "start_time": "2022-03-22T12:55:25.057Z"
   },
   {
    "duration": 478,
    "start_time": "2022-03-22T12:55:25.440Z"
   },
   {
    "duration": 36,
    "start_time": "2022-03-22T12:55:25.920Z"
   },
   {
    "duration": 28,
    "start_time": "2022-03-22T12:55:25.958Z"
   },
   {
    "duration": 59,
    "start_time": "2022-03-22T12:55:25.989Z"
   },
   {
    "duration": 24,
    "start_time": "2022-03-22T12:55:26.051Z"
   },
   {
    "duration": 23,
    "start_time": "2022-03-22T12:55:26.077Z"
   },
   {
    "duration": 73,
    "start_time": "2022-03-22T14:11:25.065Z"
   },
   {
    "duration": 1918,
    "start_time": "2022-03-22T14:11:30.554Z"
   },
   {
    "duration": 181,
    "start_time": "2022-03-22T14:11:32.476Z"
   },
   {
    "duration": 107,
    "start_time": "2022-03-22T14:11:32.659Z"
   },
   {
    "duration": 481,
    "start_time": "2022-03-22T14:11:32.768Z"
   },
   {
    "duration": 415,
    "start_time": "2022-03-22T14:11:33.253Z"
   },
   {
    "duration": 29,
    "start_time": "2022-03-22T14:11:33.670Z"
   },
   {
    "duration": 49,
    "start_time": "2022-03-22T14:11:33.702Z"
   },
   {
    "duration": 546,
    "start_time": "2022-03-22T14:11:33.753Z"
   },
   {
    "duration": 983,
    "start_time": "2022-03-22T14:11:34.302Z"
   },
   {
    "duration": 283,
    "start_time": "2022-03-22T14:11:35.288Z"
   },
   {
    "duration": 342,
    "start_time": "2022-03-22T14:11:35.574Z"
   },
   {
    "duration": 359,
    "start_time": "2022-03-22T14:11:35.918Z"
   },
   {
    "duration": 376,
    "start_time": "2022-03-22T14:11:36.280Z"
   },
   {
    "duration": 515,
    "start_time": "2022-03-22T14:11:36.661Z"
   },
   {
    "duration": 535,
    "start_time": "2022-03-22T14:11:37.178Z"
   },
   {
    "duration": 520,
    "start_time": "2022-03-22T14:11:37.716Z"
   },
   {
    "duration": 337,
    "start_time": "2022-03-22T14:11:38.239Z"
   },
   {
    "duration": 338,
    "start_time": "2022-03-22T14:11:38.578Z"
   },
   {
    "duration": 546,
    "start_time": "2022-03-22T14:11:38.918Z"
   },
   {
    "duration": 33,
    "start_time": "2022-03-22T14:11:39.467Z"
   },
   {
    "duration": 50,
    "start_time": "2022-03-22T14:11:39.502Z"
   },
   {
    "duration": 42,
    "start_time": "2022-03-22T14:11:39.554Z"
   },
   {
    "duration": 22,
    "start_time": "2022-03-22T14:11:39.599Z"
   },
   {
    "duration": 41,
    "start_time": "2022-03-22T14:11:39.623Z"
   },
   {
    "duration": 316,
    "start_time": "2022-03-22T14:12:13.905Z"
   },
   {
    "duration": 478,
    "start_time": "2022-03-22T14:13:49.961Z"
   },
   {
    "duration": 315,
    "start_time": "2022-03-22T14:15:03.985Z"
   },
   {
    "duration": 325,
    "start_time": "2022-03-22T14:15:50.576Z"
   },
   {
    "duration": 324,
    "start_time": "2022-03-22T14:16:24.157Z"
   },
   {
    "duration": 321,
    "start_time": "2022-03-22T14:19:15.635Z"
   },
   {
    "duration": 325,
    "start_time": "2022-03-22T14:19:41.672Z"
   },
   {
    "duration": 309,
    "start_time": "2022-03-22T14:22:57.050Z"
   },
   {
    "duration": 315,
    "start_time": "2022-03-22T14:23:11.119Z"
   },
   {
    "duration": 315,
    "start_time": "2022-03-22T14:23:33.105Z"
   },
   {
    "duration": 314,
    "start_time": "2022-03-22T14:23:46.690Z"
   },
   {
    "duration": 335,
    "start_time": "2022-03-22T14:34:04.490Z"
   },
   {
    "duration": 490,
    "start_time": "2022-03-22T14:34:09.400Z"
   },
   {
    "duration": 346,
    "start_time": "2022-03-22T14:34:14.010Z"
   },
   {
    "duration": 22,
    "start_time": "2022-03-22T14:38:03.680Z"
   },
   {
    "duration": 24,
    "start_time": "2022-03-22T14:38:23.032Z"
   },
   {
    "duration": 22,
    "start_time": "2022-03-22T14:38:31.865Z"
   },
   {
    "duration": 242,
    "start_time": "2022-03-22T14:52:00.552Z"
   },
   {
    "duration": 306,
    "start_time": "2022-03-22T14:53:03.210Z"
   },
   {
    "duration": 23,
    "start_time": "2022-03-22T14:53:42.234Z"
   },
   {
    "duration": 23,
    "start_time": "2022-03-22T14:54:09.540Z"
   },
   {
    "duration": 23,
    "start_time": "2022-03-22T14:54:15.533Z"
   },
   {
    "duration": 25,
    "start_time": "2022-03-22T14:54:35.856Z"
   },
   {
    "duration": 25,
    "start_time": "2022-03-22T14:54:57.063Z"
   },
   {
    "duration": 24,
    "start_time": "2022-03-22T15:12:10.833Z"
   },
   {
    "duration": 1337,
    "start_time": "2022-03-23T05:40:11.799Z"
   },
   {
    "duration": 103,
    "start_time": "2022-03-23T05:40:13.138Z"
   },
   {
    "duration": 49,
    "start_time": "2022-03-23T05:40:13.242Z"
   },
   {
    "duration": 266,
    "start_time": "2022-03-23T05:40:13.293Z"
   },
   {
    "duration": 221,
    "start_time": "2022-03-23T05:40:13.561Z"
   },
   {
    "duration": 17,
    "start_time": "2022-03-23T05:40:13.784Z"
   },
   {
    "duration": 15,
    "start_time": "2022-03-23T05:40:13.802Z"
   },
   {
    "duration": 296,
    "start_time": "2022-03-23T05:40:13.833Z"
   },
   {
    "duration": 521,
    "start_time": "2022-03-23T05:40:14.131Z"
   },
   {
    "duration": 218,
    "start_time": "2022-03-23T05:40:14.655Z"
   },
   {
    "duration": 162,
    "start_time": "2022-03-23T05:40:14.875Z"
   },
   {
    "duration": 197,
    "start_time": "2022-03-23T05:40:15.038Z"
   },
   {
    "duration": 178,
    "start_time": "2022-03-23T05:40:15.236Z"
   },
   {
    "duration": 186,
    "start_time": "2022-03-23T05:40:15.416Z"
   },
   {
    "duration": 183,
    "start_time": "2022-03-23T05:40:15.604Z"
   },
   {
    "duration": 169,
    "start_time": "2022-03-23T05:40:15.789Z"
   },
   {
    "duration": 194,
    "start_time": "2022-03-23T05:40:15.960Z"
   },
   {
    "duration": 200,
    "start_time": "2022-03-23T05:40:16.156Z"
   },
   {
    "duration": 187,
    "start_time": "2022-03-23T05:40:16.358Z"
   },
   {
    "duration": 15,
    "start_time": "2022-03-23T05:40:16.546Z"
   },
   {
    "duration": 14,
    "start_time": "2022-03-23T05:40:16.562Z"
   },
   {
    "duration": 13,
    "start_time": "2022-03-23T05:40:16.578Z"
   },
   {
    "duration": 46,
    "start_time": "2022-03-23T05:40:16.592Z"
   },
   {
    "duration": 17,
    "start_time": "2022-03-23T05:40:16.640Z"
   }
  ],
  "colab": {
   "collapsed_sections": [],
   "name": "Сборный проект1.ipynb\"",
   "provenance": []
  },
  "kernelspec": {
   "display_name": "Python 3 (ipykernel)",
   "language": "python",
   "name": "python3"
  },
  "language_info": {
   "codemirror_mode": {
    "name": "ipython",
    "version": 3
   },
   "file_extension": ".py",
   "mimetype": "text/x-python",
   "name": "python",
   "nbconvert_exporter": "python",
   "pygments_lexer": "ipython3",
   "version": "3.9.5"
  },
  "toc": {
   "base_numbering": 1,
   "nav_menu": {},
   "number_sections": true,
   "sideBar": true,
   "skip_h1_title": true,
   "title_cell": "Table of Contents",
   "title_sidebar": "Contents",
   "toc_cell": false,
   "toc_position": {},
   "toc_section_display": true,
   "toc_window_display": false
  }
 },
 "nbformat": 4,
 "nbformat_minor": 1
}
