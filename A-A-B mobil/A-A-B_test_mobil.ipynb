{
 "cells": [
  {
   "cell_type": "markdown",
   "metadata": {},
   "source": [
    "# Описание проекта\n",
    "\n",
    "Объект проекта - стартап, который продаёт продукты питания. Нужно разобраться, как ведут себя пользовател мобильного приложения, изучить воронку продаж, Узнать, как пользователи доходят до покупки. Сколько пользователей доходит до покупки, а сколько — «застревает» на предыдущих шагах? На каких именно?\n",
    "\n",
    "После этого исследовать результаты A/A/B-эксперимента. Дизайнеры захотели поменять шрифты во всём приложении, а менеджеры испугались, что пользователям будет непривычно. Договорились принять решение по результатам A/A/B-теста. Пользователей разбили на 3 группы: 2 контрольные со старыми шрифтами и одну экспериментальную — с новыми. \n",
    "\n",
    "Задача: Выяснить, какой шрифт лучше.\n",
    "\n",
    "Создание двух групп A вместо одной имеет определённые преимущества. Если две контрольные группы окажутся равны, вы можете быть уверены в точности проведенного тестирования. Если же между значениями A и A будут существенные различия, это поможет обнаружить факторы, которые привели к искажению результатов. Сравнение контрольных групп также помогает понять, сколько времени и данных потребуется для дальнейших тестов.\n",
    "\n",
    "# Описание данных\n",
    "\n",
    "Каждая запись в логе — это действие пользователя, или событие.\n",
    "- EventName — название события;\n",
    "- DeviceIDHash — уникальный идентификатор пользователя;\n",
    "- EventTimestamp — время события;\n",
    "- ExpId — номер эксперимента: 246 и 247 — контрольные группы, а 248 — экспериментальная."
   ]
  },
  {
   "cell_type": "code",
   "execution_count": 22,
   "metadata": {},
   "outputs": [],
   "source": [
    "import pandas as pd \n",
    "import numpy as np\n",
    "import warnings\n",
    "warnings.simplefilter('ignore')\n",
    "import matplotlib.pyplot as plt\n",
    "import seaborn as sns\n",
    "from scipy import stats as st\n",
    "from plotly import graph_objects as go\n",
    "import math as mth"
   ]
  },
  {
   "cell_type": "markdown",
   "metadata": {},
   "source": [
    "## Шаг 1. Изучим общую информацию"
   ]
  },
  {
   "cell_type": "code",
   "execution_count": 23,
   "metadata": {},
   "outputs": [
    {
     "data": {
      "text/html": [
       "<div>\n",
       "<style scoped>\n",
       "    .dataframe tbody tr th:only-of-type {\n",
       "        vertical-align: middle;\n",
       "    }\n",
       "\n",
       "    .dataframe tbody tr th {\n",
       "        vertical-align: top;\n",
       "    }\n",
       "\n",
       "    .dataframe thead th {\n",
       "        text-align: right;\n",
       "    }\n",
       "</style>\n",
       "<table border=\"1\" class=\"dataframe\">\n",
       "  <thead>\n",
       "    <tr style=\"text-align: right;\">\n",
       "      <th></th>\n",
       "      <th>EventName</th>\n",
       "      <th>DeviceIDHash</th>\n",
       "      <th>EventTimestamp</th>\n",
       "      <th>ExpId</th>\n",
       "    </tr>\n",
       "  </thead>\n",
       "  <tbody>\n",
       "    <tr>\n",
       "      <th>0</th>\n",
       "      <td>MainScreenAppear</td>\n",
       "      <td>4575588528974610257</td>\n",
       "      <td>1564029816</td>\n",
       "      <td>246</td>\n",
       "    </tr>\n",
       "    <tr>\n",
       "      <th>1</th>\n",
       "      <td>MainScreenAppear</td>\n",
       "      <td>7416695313311560658</td>\n",
       "      <td>1564053102</td>\n",
       "      <td>246</td>\n",
       "    </tr>\n",
       "    <tr>\n",
       "      <th>2</th>\n",
       "      <td>PaymentScreenSuccessful</td>\n",
       "      <td>3518123091307005509</td>\n",
       "      <td>1564054127</td>\n",
       "      <td>248</td>\n",
       "    </tr>\n",
       "  </tbody>\n",
       "</table>\n",
       "</div>"
      ],
      "text/plain": [
       "                 EventName         DeviceIDHash  EventTimestamp  ExpId\n",
       "0         MainScreenAppear  4575588528974610257      1564029816    246\n",
       "1         MainScreenAppear  7416695313311560658      1564053102    246\n",
       "2  PaymentScreenSuccessful  3518123091307005509      1564054127    248"
      ]
     },
     "metadata": {},
     "output_type": "display_data"
    },
    {
     "name": "stdout",
     "output_type": "stream",
     "text": [
      "<class 'pandas.core.frame.DataFrame'>\n",
      "RangeIndex: 244126 entries, 0 to 244125\n",
      "Data columns (total 4 columns):\n",
      " #   Column          Non-Null Count   Dtype \n",
      "---  ------          --------------   ----- \n",
      " 0   EventName       244126 non-null  object\n",
      " 1   DeviceIDHash    244126 non-null  int64 \n",
      " 2   EventTimestamp  244126 non-null  int64 \n",
      " 3   ExpId           244126 non-null  int64 \n",
      "dtypes: int64(3), object(1)\n",
      "memory usage: 7.5+ MB\n"
     ]
    },
    {
     "data": {
      "text/plain": [
       "None"
      ]
     },
     "metadata": {},
     "output_type": "display_data"
    },
    {
     "data": {
      "text/plain": [
       "EventName         0\n",
       "DeviceIDHash      0\n",
       "EventTimestamp    0\n",
       "ExpId             0\n",
       "dtype: int64"
      ]
     },
     "metadata": {},
     "output_type": "display_data"
    },
    {
     "name": "stdout",
     "output_type": "stream",
     "text": [
      "Уникальные значения столбца EventName\n"
     ]
    },
    {
     "data": {
      "text/plain": [
       "array(['MainScreenAppear', 'PaymentScreenSuccessful', 'CartScreenAppear',\n",
       "       'OffersScreenAppear', 'Tutorial'], dtype=object)"
      ]
     },
     "metadata": {},
     "output_type": "display_data"
    },
    {
     "name": "stdout",
     "output_type": "stream",
     "text": [
      "Уникальные значения столбца ExpId\n"
     ]
    },
    {
     "data": {
      "text/plain": [
       "array([246, 248, 247])"
      ]
     },
     "metadata": {},
     "output_type": "display_data"
    },
    {
     "name": "stdout",
     "output_type": "stream",
     "text": [
      "Кол-во дубликатов 413\n"
     ]
    }
   ],
   "source": [
    "df=pd.read_csv('/Users/z/Downloads/logs_exp.csv', sep='\\t') #импортируем данные с разделителем \\t\n",
    "\n",
    "display(df.head(3))\n",
    "display(df.info())\n",
    "display(df.isna().sum()) #проверяем на нулевые значения\n",
    "column_name = ['EventName',\t'ExpId'] #изучаем интересующие столбцы на уникальные значения\n",
    "for i in column_name:\n",
    "    print('Уникальные значения столбца',i)\n",
    "    display(df[i].unique())  \n",
    "\n",
    "print('Кол-во дубликатов', df.duplicated().sum())"
   ]
  },
  {
   "cell_type": "markdown",
   "metadata": {},
   "source": [
    "## Шаг 2. Подготовим данные\n",
    "- Заменим названия столбцов;\n",
    "- Проверим пропуски и типы данных;\n",
    "- Добавим столбец даты и времени, и отдельный столбец дат;"
   ]
  },
  {
   "cell_type": "code",
   "execution_count": 24,
   "metadata": {},
   "outputs": [
    {
     "name": "stdout",
     "output_type": "stream",
     "text": [
      "<class 'pandas.core.frame.DataFrame'>\n",
      "RangeIndex: 243713 entries, 0 to 243712\n",
      "Data columns (total 5 columns):\n",
      " #   Column    Non-Null Count   Dtype         \n",
      "---  ------    --------------   -----         \n",
      " 0   event     243713 non-null  object        \n",
      " 1   id        243713 non-null  int64         \n",
      " 2   group     243713 non-null  object        \n",
      " 3   datetime  243713 non-null  datetime64[ns]\n",
      " 4   date      243713 non-null  datetime64[ns]\n",
      "dtypes: datetime64[ns](2), int64(1), object(2)\n",
      "memory usage: 9.3+ MB\n"
     ]
    },
    {
     "data": {
      "text/plain": [
       "None"
      ]
     },
     "metadata": {},
     "output_type": "display_data"
    },
    {
     "data": {
      "text/html": [
       "<div>\n",
       "<style scoped>\n",
       "    .dataframe tbody tr th:only-of-type {\n",
       "        vertical-align: middle;\n",
       "    }\n",
       "\n",
       "    .dataframe tbody tr th {\n",
       "        vertical-align: top;\n",
       "    }\n",
       "\n",
       "    .dataframe thead th {\n",
       "        text-align: right;\n",
       "    }\n",
       "</style>\n",
       "<table border=\"1\" class=\"dataframe\">\n",
       "  <thead>\n",
       "    <tr style=\"text-align: right;\">\n",
       "      <th></th>\n",
       "      <th>event</th>\n",
       "      <th>id</th>\n",
       "      <th>group</th>\n",
       "      <th>datetime</th>\n",
       "      <th>date</th>\n",
       "    </tr>\n",
       "  </thead>\n",
       "  <tbody>\n",
       "    <tr>\n",
       "      <th>0</th>\n",
       "      <td>MainScreenAppear</td>\n",
       "      <td>4575588528974610257</td>\n",
       "      <td>A1</td>\n",
       "      <td>2019-07-25 04:43:36</td>\n",
       "      <td>2019-07-25</td>\n",
       "    </tr>\n",
       "    <tr>\n",
       "      <th>1</th>\n",
       "      <td>MainScreenAppear</td>\n",
       "      <td>7416695313311560658</td>\n",
       "      <td>A1</td>\n",
       "      <td>2019-07-25 11:11:42</td>\n",
       "      <td>2019-07-25</td>\n",
       "    </tr>\n",
       "    <tr>\n",
       "      <th>2</th>\n",
       "      <td>PaymentScreenSuccessful</td>\n",
       "      <td>3518123091307005509</td>\n",
       "      <td>B</td>\n",
       "      <td>2019-07-25 11:28:47</td>\n",
       "      <td>2019-07-25</td>\n",
       "    </tr>\n",
       "  </tbody>\n",
       "</table>\n",
       "</div>"
      ],
      "text/plain": [
       "                     event                   id group            datetime  \\\n",
       "0         MainScreenAppear  4575588528974610257    A1 2019-07-25 04:43:36   \n",
       "1         MainScreenAppear  7416695313311560658    A1 2019-07-25 11:11:42   \n",
       "2  PaymentScreenSuccessful  3518123091307005509     B 2019-07-25 11:28:47   \n",
       "\n",
       "        date  \n",
       "0 2019-07-25  \n",
       "1 2019-07-25  \n",
       "2 2019-07-25  "
      ]
     },
     "execution_count": 24,
     "metadata": {},
     "output_type": "execute_result"
    }
   ],
   "source": [
    "df.columns=['event', 'id', 'timestamp', 'group'] #переименуем название колонок\n",
    "df['datetime'] = pd.to_datetime(df['timestamp'], unit='s') #выделяем дату и время из timestamp\n",
    "df['date'] = df['datetime'].dt.date #выделяем отдельно дату из timestamp\n",
    "df = df.drop('timestamp', 1) #удаляем timestamp заненадобностью\n",
    "df = df.drop_duplicates().reset_index(drop=True) #удаляем дубликаты\n",
    "def aab(group):\n",
    "    if group==246:\n",
    "        return 'A1'\n",
    "    elif group==247:\n",
    "        return 'A2'\n",
    "    else:\n",
    "        return 'B'\n",
    "df['group'] = df['group'].apply(aab) #заменяем названия групп для удобства чтения на А1, А2 и В\n",
    "df['date'] = df['date'].astype('datetime64') #преобразуем формат даты\n",
    "display(df.info())\n",
    "df.head(3)"
   ]
  },
  {
   "cell_type": "markdown",
   "metadata": {},
   "source": [
    "# Вывод:\n",
    "При предварительной проверке данных из 244126 выявлено 413 дубликатов. В остальном данные чистые, пропусков не обнаружено."
   ]
  },
  {
   "cell_type": "markdown",
   "metadata": {},
   "source": [
    "## Шаг 3. Изучим и проверим данные\n",
    "\n",
    "- Сколько всего событий в логе?\n",
    "- Сколько всего пользователей в логе?\n",
    "- Сколько в среднем событий приходится на пользователя?\n",
    "- Данными за какой период располагаем?\n",
    "- Много ли событий и пользователей вы потеряли, отбросив старые данные?\n",
    "- Проверим, что есть пользователи из всех трёх экспериментальных групп."
   ]
  },
  {
   "cell_type": "code",
   "execution_count": 25,
   "metadata": {},
   "outputs": [
    {
     "name": "stdout",
     "output_type": "stream",
     "text": [
      "Количество событий = 243713\n",
      "Виды уникальных событий: ['MainScreenAppear' 'PaymentScreenSuccessful' 'CartScreenAppear'\n",
      " 'OffersScreenAppear' 'Tutorial']\n",
      "Количество уникальных событий = 5\n",
      "Количество уникальных пользователей = 7551\n",
      "Среднее число событий на пользователя = 20\n",
      "Минимальная дата: 2019-07-25 00:00:00\n",
      "Максимальная дата: 2019-08-07 00:00:00\n"
     ]
    },
    {
     "data": {
      "text/html": [
       "<div>\n",
       "<style scoped>\n",
       "    .dataframe tbody tr th:only-of-type {\n",
       "        vertical-align: middle;\n",
       "    }\n",
       "\n",
       "    .dataframe tbody tr th {\n",
       "        vertical-align: top;\n",
       "    }\n",
       "\n",
       "    .dataframe thead th {\n",
       "        text-align: right;\n",
       "    }\n",
       "</style>\n",
       "<table border=\"1\" class=\"dataframe\">\n",
       "  <thead>\n",
       "    <tr style=\"text-align: right;\">\n",
       "      <th></th>\n",
       "      <th>id</th>\n",
       "      <th>event</th>\n",
       "    </tr>\n",
       "  </thead>\n",
       "  <tbody>\n",
       "    <tr>\n",
       "      <th>count</th>\n",
       "      <td>7.551000e+03</td>\n",
       "      <td>7551.000000</td>\n",
       "    </tr>\n",
       "    <tr>\n",
       "      <th>mean</th>\n",
       "      <td>4.677319e+18</td>\n",
       "      <td>32.275593</td>\n",
       "    </tr>\n",
       "    <tr>\n",
       "      <th>std</th>\n",
       "      <td>2.655343e+18</td>\n",
       "      <td>65.154219</td>\n",
       "    </tr>\n",
       "    <tr>\n",
       "      <th>min</th>\n",
       "      <td>6.888747e+15</td>\n",
       "      <td>1.000000</td>\n",
       "    </tr>\n",
       "    <tr>\n",
       "      <th>25%</th>\n",
       "      <td>2.397700e+18</td>\n",
       "      <td>9.000000</td>\n",
       "    </tr>\n",
       "    <tr>\n",
       "      <th>50%</th>\n",
       "      <td>4.688022e+18</td>\n",
       "      <td>20.000000</td>\n",
       "    </tr>\n",
       "    <tr>\n",
       "      <th>75%</th>\n",
       "      <td>7.007353e+18</td>\n",
       "      <td>37.000000</td>\n",
       "    </tr>\n",
       "    <tr>\n",
       "      <th>max</th>\n",
       "      <td>9.222603e+18</td>\n",
       "      <td>2307.000000</td>\n",
       "    </tr>\n",
       "  </tbody>\n",
       "</table>\n",
       "</div>"
      ],
      "text/plain": [
       "                 id        event\n",
       "count  7.551000e+03  7551.000000\n",
       "mean   4.677319e+18    32.275593\n",
       "std    2.655343e+18    65.154219\n",
       "min    6.888747e+15     1.000000\n",
       "25%    2.397700e+18     9.000000\n",
       "50%    4.688022e+18    20.000000\n",
       "75%    7.007353e+18    37.000000\n",
       "max    9.222603e+18  2307.000000"
      ]
     },
     "metadata": {},
     "output_type": "display_data"
    },
    {
     "data": {
      "text/plain": [
       "<AxesSubplot:>"
      ]
     },
     "execution_count": 25,
     "metadata": {},
     "output_type": "execute_result"
    },
    {
     "data": {
      "image/png": "[encoded data removed]",
      "text/plain": [
       "<Figure size 360x720 with 1 Axes>"
      ]
     },
     "metadata": {
      "needs_background": "light"
     },
     "output_type": "display_data"
    }
   ],
   "source": [
    "print('Количество событий =', df['event'].count())\n",
    "print('Виды уникальных событий:', df['event'].unique()) \n",
    "print('Количество уникальных событий =', len(df['event'].unique()))\n",
    "print('Количество уникальных пользователей =', len(df['id'].unique()))\n",
    "print('Среднее число событий на пользователя =', round(df.groupby('id')['event'].count().median()))\n",
    "print('Минимальная дата:', df['date'].min())\n",
    "print('Максимальная дата:', df['date'].max())\n",
    "\n",
    "users_by_event_count = df.groupby('id')['event'].count().reset_index()\n",
    "display(users_by_event_count.describe())\n",
    "\n",
    "plt.figure(figsize=(5,10))\n",
    "users_by_event_count.boxplot(column=['event'])"
   ]
  },
  {
   "cell_type": "code",
   "execution_count": 26,
   "metadata": {},
   "outputs": [
    {
     "data": {
      "image/png": "[encoded data removed]",
      "text/plain": [
       "<Figure size 1080x288 with 1 Axes>"
      ]
     },
     "metadata": {
      "needs_background": "light"
     },
     "output_type": "display_data"
    }
   ],
   "source": [
    "plt.figure(figsize=(15,4))\n",
    "plt.hist(df[df['group']== 'A1']['datetime'], bins=336)\n",
    "plt.hist(df[df['group']== 'A2']['datetime'], bins=336, alpha=0.4)\n",
    "plt.hist(df[df['group']== 'B']['datetime'], bins=336, alpha=0.4);\n",
    "plt.xticks(fontsize=8,rotation=45);\n",
    "plt.ylabel('Кол-во событий')\n",
    "plt.xlabel('Дата, время')\n",
    "plt.grid()\n",
    "plt.title('Распределение событий по датам и времени');"
   ]
  },
  {
   "cell_type": "code",
   "execution_count": 27,
   "metadata": {},
   "outputs": [
    {
     "name": "stdout",
     "output_type": "stream",
     "text": [
      "Количество событий = 240887\n",
      "Количество уникальных пользователей = 7534\n",
      "После отсева мы потеряли 2826 события - 1.2 %\n",
      "И 17 уникальных пользователей - 0.2 %\n"
     ]
    }
   ],
   "source": [
    "df = df[df['date'] > '2019-07-31']\n",
    "print('Количество событий =', df['event'].count())\n",
    "print('Количество уникальных пользователей =', len(df['id'].unique()))\n",
    "print('После отсева мы потеряли', 243713 - df['event'].count(), 'события -', ((243713 - df['event'].count())/2437.13).round(1),'%') \n",
    "print('И', 7551 - len(df['id'].unique()), 'уникальных пользователей -', round(17/75.51,1),'%')\n",
    "\n"
   ]
  },
  {
   "cell_type": "code",
   "execution_count": 28,
   "metadata": {},
   "outputs": [
    {
     "data": {
      "text/plain": [
       "group\n",
       "A1    2484\n",
       "A2    2513\n",
       "B     2537\n",
       "Name: id, dtype: int64"
      ]
     },
     "execution_count": 28,
     "metadata": {},
     "output_type": "execute_result"
    }
   ],
   "source": [
    "df.groupby('group')['id'].nunique()"
   ]
  },
  {
   "cell_type": "markdown",
   "metadata": {},
   "source": [
    "# Вывод: \n",
    "\n",
    "- Сбор данных о событиях явно начался с 1 августа, событий стало много и появилась цикличность от времени суток. Итог: мы располагаем только 1 неделей данных c 01.08.2019 по 07.08.2019.\n",
    "- После отсева мы потеряли 1,2% событий и 0,2% пользователей, отсев незначительный.\n",
    "- В тесте участвовали пользователи из всех групп, их количество примерно идентично."
   ]
  },
  {
   "cell_type": "markdown",
   "metadata": {},
   "source": [
    "## Шаг 4. Изучим воронку событий"
   ]
  },
  {
   "cell_type": "markdown",
   "metadata": {},
   "source": [
    "### 4.1 Какие события есть в логах, как часто они встречаются. Отсортируем события по частоте."
   ]
  },
  {
   "cell_type": "code",
   "execution_count": 29,
   "metadata": {},
   "outputs": [
    {
     "name": "stdout",
     "output_type": "stream",
     "text": [
      "Виды уникальных событий: ['Tutorial' 'MainScreenAppear' 'OffersScreenAppear' 'CartScreenAppear'\n",
      " 'PaymentScreenSuccessful']\n",
      "События по частоте:\n"
     ]
    },
    {
     "data": {
      "text/plain": [
       "event\n",
       "MainScreenAppear           117328\n",
       "OffersScreenAppear          46333\n",
       "CartScreenAppear            42303\n",
       "PaymentScreenSuccessful     33918\n",
       "Tutorial                     1005\n",
       "Name: id, dtype: int64"
      ]
     },
     "metadata": {},
     "output_type": "display_data"
    }
   ],
   "source": [
    "print('Виды уникальных событий:', df['event'].unique());\n",
    "print('События по частоте:')\n",
    "display(df.groupby('event')['id'].count().sort_values(ascending = False));"
   ]
  },
  {
   "cell_type": "markdown",
   "metadata": {},
   "source": [
    "### 4.2 Сколько пользователей совершали каждое из этих событий? Отсортируем события по числу пользователей. Посчитаем долю пользователей, которые хоть раз совершали событие."
   ]
  },
  {
   "cell_type": "code",
   "execution_count": 30,
   "metadata": {},
   "outputs": [
    {
     "data": {
      "text/html": [
       "<div>\n",
       "<style scoped>\n",
       "    .dataframe tbody tr th:only-of-type {\n",
       "        vertical-align: middle;\n",
       "    }\n",
       "\n",
       "    .dataframe tbody tr th {\n",
       "        vertical-align: top;\n",
       "    }\n",
       "\n",
       "    .dataframe thead th {\n",
       "        text-align: right;\n",
       "    }\n",
       "</style>\n",
       "<table border=\"1\" class=\"dataframe\">\n",
       "  <thead>\n",
       "    <tr style=\"text-align: right;\">\n",
       "      <th></th>\n",
       "      <th>count_event</th>\n",
       "      <th>count_unique_users</th>\n",
       "      <th>one_time_event_persent</th>\n",
       "    </tr>\n",
       "    <tr>\n",
       "      <th>event</th>\n",
       "      <th></th>\n",
       "      <th></th>\n",
       "      <th></th>\n",
       "    </tr>\n",
       "  </thead>\n",
       "  <tbody>\n",
       "    <tr>\n",
       "      <th>MainScreenAppear</th>\n",
       "      <td>117328</td>\n",
       "      <td>7419</td>\n",
       "      <td>98.5</td>\n",
       "    </tr>\n",
       "    <tr>\n",
       "      <th>OffersScreenAppear</th>\n",
       "      <td>46333</td>\n",
       "      <td>4593</td>\n",
       "      <td>61.0</td>\n",
       "    </tr>\n",
       "    <tr>\n",
       "      <th>CartScreenAppear</th>\n",
       "      <td>42303</td>\n",
       "      <td>3734</td>\n",
       "      <td>49.6</td>\n",
       "    </tr>\n",
       "    <tr>\n",
       "      <th>PaymentScreenSuccessful</th>\n",
       "      <td>33918</td>\n",
       "      <td>3539</td>\n",
       "      <td>47.0</td>\n",
       "    </tr>\n",
       "    <tr>\n",
       "      <th>Tutorial</th>\n",
       "      <td>1005</td>\n",
       "      <td>840</td>\n",
       "      <td>11.1</td>\n",
       "    </tr>\n",
       "  </tbody>\n",
       "</table>\n",
       "</div>"
      ],
      "text/plain": [
       "                         count_event  count_unique_users  \\\n",
       "event                                                      \n",
       "MainScreenAppear              117328                7419   \n",
       "OffersScreenAppear             46333                4593   \n",
       "CartScreenAppear               42303                3734   \n",
       "PaymentScreenSuccessful        33918                3539   \n",
       "Tutorial                        1005                 840   \n",
       "\n",
       "                         one_time_event_persent  \n",
       "event                                            \n",
       "MainScreenAppear                           98.5  \n",
       "OffersScreenAppear                         61.0  \n",
       "CartScreenAppear                           49.6  \n",
       "PaymentScreenSuccessful                    47.0  \n",
       "Tutorial                                   11.1  "
      ]
     },
     "metadata": {},
     "output_type": "display_data"
    }
   ],
   "source": [
    "events_id = df.groupby('event').agg({'event':'count', 'id':'nunique'}).sort_values(by='id', ascending=False)\n",
    "events_id.columns = ['count_event', 'count_unique_users']\n",
    "events_id['one_time_event_persent'] = (events_id['count_unique_users'] / df['id'].nunique()* 100).round(1) # доля хотя бы раз совершивших событие\n",
    "display(events_id)"
   ]
  },
  {
   "cell_type": "markdown",
   "metadata": {},
   "source": [
    "### 4.3 Предположим, в каком порядке происходят события. Все ли они выстраиваются в последовательную цепочку? "
   ]
  },
  {
   "cell_type": "markdown",
   "metadata": {},
   "source": [
    "4 из 5 событий имеют логическую последовательность: MainScreenAppear - зашел на главный экран, OffersScreenAppear - зашел на экран товара, CartScreenAppear - зашел в корзину, PaymentScreenSuccessful - произвел оплату. Tutorial часто пропускают, поэтому количество таких событий незначительно."
   ]
  },
  {
   "cell_type": "markdown",
   "metadata": {},
   "source": [
    "###  4.4 По воронке событий посчитаем, какая доля пользователей проходит на следующий шаг воронки (от числа пользователей на предыдущем). "
   ]
  },
  {
   "cell_type": "code",
   "execution_count": 31,
   "metadata": {},
   "outputs": [
    {
     "data": {
      "application/vnd.plotly.v1+json": {
       "config": {
        "plotlyServerURL": "https://plot.ly"
       },
       "data": [
        {
         "type": "funnel",
         "x": [
          7419,
          4593,
          3734,
          3539
         ],
         "y": [
          "MainScreenAppear",
          "OffersScreenAppear",
          "CartScreenAppear",
          "PaymentScreenSuccessful"
         ]
        }
       ],
       "layout": {
        "template": {
         "data": {
          "bar": [
           {
            "error_x": {
             "color": "#2a3f5f"
            },
            "error_y": {
             "color": "#2a3f5f"
            },
            "marker": {
             "line": {
              "color": "#E5ECF6",
              "width": 0.5
             },
             "pattern": {
              "fillmode": "overlay",
              "size": 10,
              "solidity": 0.2
             }
            },
            "type": "bar"
           }
          ],
          "barpolar": [
           {
            "marker": {
             "line": {
              "color": "#E5ECF6",
              "width": 0.5
             },
             "pattern": {
              "fillmode": "overlay",
              "size": 10,
              "solidity": 0.2
             }
            },
            "type": "barpolar"
           }
          ],
          "carpet": [
           {
            "aaxis": {
             "endlinecolor": "#2a3f5f",
             "gridcolor": "white",
             "linecolor": "white",
             "minorgridcolor": "white",
             "startlinecolor": "#2a3f5f"
            },
            "baxis": {
             "endlinecolor": "#2a3f5f",
             "gridcolor": "white",
             "linecolor": "white",
             "minorgridcolor": "white",
             "startlinecolor": "#2a3f5f"
            },
            "type": "carpet"
           }
          ],
          "choropleth": [
           {
            "colorbar": {
             "outlinewidth": 0,
             "ticks": ""
            },
            "type": "choropleth"
           }
          ],
          "contour": [
           {
            "colorbar": {
             "outlinewidth": 0,
             "ticks": ""
            },
            "colorscale": [
             [
              0,
              "#0d0887"
             ],
             [
              0.1111111111111111,
              "#46039f"
             ],
             [
              0.2222222222222222,
              "#7201a8"
             ],
             [
              0.3333333333333333,
              "#9c179e"
             ],
             [
              0.4444444444444444,
              "#bd3786"
             ],
             [
              0.5555555555555556,
              "#d8576b"
             ],
             [
              0.6666666666666666,
              "#ed7953"
             ],
             [
              0.7777777777777778,
              "#fb9f3a"
             ],
             [
              0.8888888888888888,
              "#fdca26"
             ],
             [
              1,
              "#f0f921"
             ]
            ],
            "type": "contour"
           }
          ],
          "contourcarpet": [
           {
            "colorbar": {
             "outlinewidth": 0,
             "ticks": ""
            },
            "type": "contourcarpet"
           }
          ],
          "heatmap": [
           {
            "colorbar": {
             "outlinewidth": 0,
             "ticks": ""
            },
            "colorscale": [
             [
              0,
              "#0d0887"
             ],
             [
              0.1111111111111111,
              "#46039f"
             ],
             [
              0.2222222222222222,
              "#7201a8"
             ],
             [
              0.3333333333333333,
              "#9c179e"
             ],
             [
              0.4444444444444444,
              "#bd3786"
             ],
             [
              0.5555555555555556,
              "#d8576b"
             ],
             [
              0.6666666666666666,
              "#ed7953"
             ],
             [
              0.7777777777777778,
              "#fb9f3a"
             ],
             [
              0.8888888888888888,
              "#fdca26"
             ],
             [
              1,
              "#f0f921"
             ]
            ],
            "type": "heatmap"
           }
          ],
          "heatmapgl": [
           {
            "colorbar": {
             "outlinewidth": 0,
             "ticks": ""
            },
            "colorscale": [
             [
              0,
              "#0d0887"
             ],
             [
              0.1111111111111111,
              "#46039f"
             ],
             [
              0.2222222222222222,
              "#7201a8"
             ],
             [
              0.3333333333333333,
              "#9c179e"
             ],
             [
              0.4444444444444444,
              "#bd3786"
             ],
             [
              0.5555555555555556,
              "#d8576b"
             ],
             [
              0.6666666666666666,
              "#ed7953"
             ],
             [
              0.7777777777777778,
              "#fb9f3a"
             ],
             [
              0.8888888888888888,
              "#fdca26"
             ],
             [
              1,
              "#f0f921"
             ]
            ],
            "type": "heatmapgl"
           }
          ],
          "histogram": [
           {
            "marker": {
             "pattern": {
              "fillmode": "overlay",
              "size": 10,
              "solidity": 0.2
             }
            },
            "type": "histogram"
           }
          ],
          "histogram2d": [
           {
            "colorbar": {
             "outlinewidth": 0,
             "ticks": ""
            },
            "colorscale": [
             [
              0,
              "#0d0887"
             ],
             [
              0.1111111111111111,
              "#46039f"
             ],
             [
              0.2222222222222222,
              "#7201a8"
             ],
             [
              0.3333333333333333,
              "#9c179e"
             ],
             [
              0.4444444444444444,
              "#bd3786"
             ],
             [
              0.5555555555555556,
              "#d8576b"
             ],
             [
              0.6666666666666666,
              "#ed7953"
             ],
             [
              0.7777777777777778,
              "#fb9f3a"
             ],
             [
              0.8888888888888888,
              "#fdca26"
             ],
             [
              1,
              "#f0f921"
             ]
            ],
            "type": "histogram2d"
           }
          ],
          "histogram2dcontour": [
           {
            "colorbar": {
             "outlinewidth": 0,
             "ticks": ""
            },
            "colorscale": [
             [
              0,
              "#0d0887"
             ],
             [
              0.1111111111111111,
              "#46039f"
             ],
             [
              0.2222222222222222,
              "#7201a8"
             ],
             [
              0.3333333333333333,
              "#9c179e"
             ],
             [
              0.4444444444444444,
              "#bd3786"
             ],
             [
              0.5555555555555556,
              "#d8576b"
             ],
             [
              0.6666666666666666,
              "#ed7953"
             ],
             [
              0.7777777777777778,
              "#fb9f3a"
             ],
             [
              0.8888888888888888,
              "#fdca26"
             ],
             [
              1,
              "#f0f921"
             ]
            ],
            "type": "histogram2dcontour"
           }
          ],
          "mesh3d": [
           {
            "colorbar": {
             "outlinewidth": 0,
             "ticks": ""
            },
            "type": "mesh3d"
           }
          ],
          "parcoords": [
           {
            "line": {
             "colorbar": {
              "outlinewidth": 0,
              "ticks": ""
             }
            },
            "type": "parcoords"
           }
          ],
          "pie": [
           {
            "automargin": true,
            "type": "pie"
           }
          ],
          "scatter": [
           {
            "fillpattern": {
             "fillmode": "overlay",
             "size": 10,
             "solidity": 0.2
            },
            "type": "scatter"
           }
          ],
          "scatter3d": [
           {
            "line": {
             "colorbar": {
              "outlinewidth": 0,
              "ticks": ""
             }
            },
            "marker": {
             "colorbar": {
              "outlinewidth": 0,
              "ticks": ""
             }
            },
            "type": "scatter3d"
           }
          ],
          "scattercarpet": [
           {
            "marker": {
             "colorbar": {
              "outlinewidth": 0,
              "ticks": ""
             }
            },
            "type": "scattercarpet"
           }
          ],
          "scattergeo": [
           {
            "marker": {
             "colorbar": {
              "outlinewidth": 0,
              "ticks": ""
             }
            },
            "type": "scattergeo"
           }
          ],
          "scattergl": [
           {
            "marker": {
             "colorbar": {
              "outlinewidth": 0,
              "ticks": ""
             }
            },
            "type": "scattergl"
           }
          ],
          "scattermapbox": [
           {
            "marker": {
             "colorbar": {
              "outlinewidth": 0,
              "ticks": ""
             }
            },
            "type": "scattermapbox"
           }
          ],
          "scatterpolar": [
           {
            "marker": {
             "colorbar": {
              "outlinewidth": 0,
              "ticks": ""
             }
            },
            "type": "scatterpolar"
           }
          ],
          "scatterpolargl": [
           {
            "marker": {
             "colorbar": {
              "outlinewidth": 0,
              "ticks": ""
             }
            },
            "type": "scatterpolargl"
           }
          ],
          "scatterternary": [
           {
            "marker": {
             "colorbar": {
              "outlinewidth": 0,
              "ticks": ""
             }
            },
            "type": "scatterternary"
           }
          ],
          "surface": [
           {
            "colorbar": {
             "outlinewidth": 0,
             "ticks": ""
            },
            "colorscale": [
             [
              0,
              "#0d0887"
             ],
             [
              0.1111111111111111,
              "#46039f"
             ],
             [
              0.2222222222222222,
              "#7201a8"
             ],
             [
              0.3333333333333333,
              "#9c179e"
             ],
             [
              0.4444444444444444,
              "#bd3786"
             ],
             [
              0.5555555555555556,
              "#d8576b"
             ],
             [
              0.6666666666666666,
              "#ed7953"
             ],
             [
              0.7777777777777778,
              "#fb9f3a"
             ],
             [
              0.8888888888888888,
              "#fdca26"
             ],
             [
              1,
              "#f0f921"
             ]
            ],
            "type": "surface"
           }
          ],
          "table": [
           {
            "cells": {
             "fill": {
              "color": "#EBF0F8"
             },
             "line": {
              "color": "white"
             }
            },
            "header": {
             "fill": {
              "color": "#C8D4E3"
             },
             "line": {
              "color": "white"
             }
            },
            "type": "table"
           }
          ]
         },
         "layout": {
          "annotationdefaults": {
           "arrowcolor": "#2a3f5f",
           "arrowhead": 0,
           "arrowwidth": 1
          },
          "autotypenumbers": "strict",
          "coloraxis": {
           "colorbar": {
            "outlinewidth": 0,
            "ticks": ""
           }
          },
          "colorscale": {
           "diverging": [
            [
             0,
             "#8e0152"
            ],
            [
             0.1,
             "#c51b7d"
            ],
            [
             0.2,
             "#de77ae"
            ],
            [
             0.3,
             "#f1b6da"
            ],
            [
             0.4,
             "#fde0ef"
            ],
            [
             0.5,
             "#f7f7f7"
            ],
            [
             0.6,
             "#e6f5d0"
            ],
            [
             0.7,
             "#b8e186"
            ],
            [
             0.8,
             "#7fbc41"
            ],
            [
             0.9,
             "#4d9221"
            ],
            [
             1,
             "#276419"
            ]
           ],
           "sequential": [
            [
             0,
             "#0d0887"
            ],
            [
             0.1111111111111111,
             "#46039f"
            ],
            [
             0.2222222222222222,
             "#7201a8"
            ],
            [
             0.3333333333333333,
             "#9c179e"
            ],
            [
             0.4444444444444444,
             "#bd3786"
            ],
            [
             0.5555555555555556,
             "#d8576b"
            ],
            [
             0.6666666666666666,
             "#ed7953"
            ],
            [
             0.7777777777777778,
             "#fb9f3a"
            ],
            [
             0.8888888888888888,
             "#fdca26"
            ],
            [
             1,
             "#f0f921"
            ]
           ],
           "sequentialminus": [
            [
             0,
             "#0d0887"
            ],
            [
             0.1111111111111111,
             "#46039f"
            ],
            [
             0.2222222222222222,
             "#7201a8"
            ],
            [
             0.3333333333333333,
             "#9c179e"
            ],
            [
             0.4444444444444444,
             "#bd3786"
            ],
            [
             0.5555555555555556,
             "#d8576b"
            ],
            [
             0.6666666666666666,
             "#ed7953"
            ],
            [
             0.7777777777777778,
             "#fb9f3a"
            ],
            [
             0.8888888888888888,
             "#fdca26"
            ],
            [
             1,
             "#f0f921"
            ]
           ]
          },
          "colorway": [
           "#636efa",
           "#EF553B",
           "#00cc96",
           "#ab63fa",
           "#FFA15A",
           "#19d3f3",
           "#FF6692",
           "#B6E880",
           "#FF97FF",
           "#FECB52"
          ],
          "font": {
           "color": "#2a3f5f"
          },
          "geo": {
           "bgcolor": "white",
           "lakecolor": "white",
           "landcolor": "#E5ECF6",
           "showlakes": true,
           "showland": true,
           "subunitcolor": "white"
          },
          "hoverlabel": {
           "align": "left"
          },
          "hovermode": "closest",
          "mapbox": {
           "style": "light"
          },
          "paper_bgcolor": "white",
          "plot_bgcolor": "#E5ECF6",
          "polar": {
           "angularaxis": {
            "gridcolor": "white",
            "linecolor": "white",
            "ticks": ""
           },
           "bgcolor": "#E5ECF6",
           "radialaxis": {
            "gridcolor": "white",
            "linecolor": "white",
            "ticks": ""
           }
          },
          "scene": {
           "xaxis": {
            "backgroundcolor": "#E5ECF6",
            "gridcolor": "white",
            "gridwidth": 2,
            "linecolor": "white",
            "showbackground": true,
            "ticks": "",
            "zerolinecolor": "white"
           },
           "yaxis": {
            "backgroundcolor": "#E5ECF6",
            "gridcolor": "white",
            "gridwidth": 2,
            "linecolor": "white",
            "showbackground": true,
            "ticks": "",
            "zerolinecolor": "white"
           },
           "zaxis": {
            "backgroundcolor": "#E5ECF6",
            "gridcolor": "white",
            "gridwidth": 2,
            "linecolor": "white",
            "showbackground": true,
            "ticks": "",
            "zerolinecolor": "white"
           }
          },
          "shapedefaults": {
           "line": {
            "color": "#2a3f5f"
           }
          },
          "ternary": {
           "aaxis": {
            "gridcolor": "white",
            "linecolor": "white",
            "ticks": ""
           },
           "baxis": {
            "gridcolor": "white",
            "linecolor": "white",
            "ticks": ""
           },
           "bgcolor": "#E5ECF6",
           "caxis": {
            "gridcolor": "white",
            "linecolor": "white",
            "ticks": ""
           }
          },
          "title": {
           "x": 0.05
          },
          "xaxis": {
           "automargin": true,
           "gridcolor": "white",
           "linecolor": "white",
           "ticks": "",
           "title": {
            "standoff": 15
           },
           "zerolinecolor": "white",
           "zerolinewidth": 2
          },
          "yaxis": {
           "automargin": true,
           "gridcolor": "white",
           "linecolor": "white",
           "ticks": "",
           "title": {
            "standoff": 15
           },
           "zerolinecolor": "white",
           "zerolinewidth": 2
          }
         }
        }
       }
      },
      "text/html": [
       "<div>                            <div id=\"134749d3-604c-4608-9a6c-12d561f9d0f2\" class=\"plotly-graph-div\" style=\"height:525px; width:100%;\"></div>            <script type=\"text/javascript\">                require([\"plotly\"], function(Plotly) {                    window.PLOTLYENV=window.PLOTLYENV || {};                                    if (document.getElementById(\"134749d3-604c-4608-9a6c-12d561f9d0f2\")) {                    Plotly.newPlot(                        \"134749d3-604c-4608-9a6c-12d561f9d0f2\",                        [{\"x\":[7419,4593,3734,3539],\"y\":[\"MainScreenAppear\",\"OffersScreenAppear\",\"CartScreenAppear\",\"PaymentScreenSuccessful\"],\"type\":\"funnel\"}],                        {\"template\":{\"data\":{\"histogram2dcontour\":[{\"type\":\"histogram2dcontour\",\"colorbar\":{\"outlinewidth\":0,\"ticks\":\"\"},\"colorscale\":[[0.0,\"#0d0887\"],[0.1111111111111111,\"#46039f\"],[0.2222222222222222,\"#7201a8\"],[0.3333333333333333,\"#9c179e\"],[0.4444444444444444,\"#bd3786\"],[0.5555555555555556,\"#d8576b\"],[0.6666666666666666,\"#ed7953\"],[0.7777777777777778,\"#fb9f3a\"],[0.8888888888888888,\"#fdca26\"],[1.0,\"#f0f921\"]]}],\"choropleth\":[{\"type\":\"choropleth\",\"colorbar\":{\"outlinewidth\":0,\"ticks\":\"\"}}],\"histogram2d\":[{\"type\":\"histogram2d\",\"colorbar\":{\"outlinewidth\":0,\"ticks\":\"\"},\"colorscale\":[[0.0,\"#0d0887\"],[0.1111111111111111,\"#46039f\"],[0.2222222222222222,\"#7201a8\"],[0.3333333333333333,\"#9c179e\"],[0.4444444444444444,\"#bd3786\"],[0.5555555555555556,\"#d8576b\"],[0.6666666666666666,\"#ed7953\"],[0.7777777777777778,\"#fb9f3a\"],[0.8888888888888888,\"#fdca26\"],[1.0,\"#f0f921\"]]}],\"heatmap\":[{\"type\":\"heatmap\",\"colorbar\":{\"outlinewidth\":0,\"ticks\":\"\"},\"colorscale\":[[0.0,\"#0d0887\"],[0.1111111111111111,\"#46039f\"],[0.2222222222222222,\"#7201a8\"],[0.3333333333333333,\"#9c179e\"],[0.4444444444444444,\"#bd3786\"],[0.5555555555555556,\"#d8576b\"],[0.6666666666666666,\"#ed7953\"],[0.7777777777777778,\"#fb9f3a\"],[0.8888888888888888,\"#fdca26\"],[1.0,\"#f0f921\"]]}],\"heatmapgl\":[{\"type\":\"heatmapgl\",\"colorbar\":{\"outlinewidth\":0,\"ticks\":\"\"},\"colorscale\":[[0.0,\"#0d0887\"],[0.1111111111111111,\"#46039f\"],[0.2222222222222222,\"#7201a8\"],[0.3333333333333333,\"#9c179e\"],[0.4444444444444444,\"#bd3786\"],[0.5555555555555556,\"#d8576b\"],[0.6666666666666666,\"#ed7953\"],[0.7777777777777778,\"#fb9f3a\"],[0.8888888888888888,\"#fdca26\"],[1.0,\"#f0f921\"]]}],\"contourcarpet\":[{\"type\":\"contourcarpet\",\"colorbar\":{\"outlinewidth\":0,\"ticks\":\"\"}}],\"contour\":[{\"type\":\"contour\",\"colorbar\":{\"outlinewidth\":0,\"ticks\":\"\"},\"colorscale\":[[0.0,\"#0d0887\"],[0.1111111111111111,\"#46039f\"],[0.2222222222222222,\"#7201a8\"],[0.3333333333333333,\"#9c179e\"],[0.4444444444444444,\"#bd3786\"],[0.5555555555555556,\"#d8576b\"],[0.6666666666666666,\"#ed7953\"],[0.7777777777777778,\"#fb9f3a\"],[0.8888888888888888,\"#fdca26\"],[1.0,\"#f0f921\"]]}],\"surface\":[{\"type\":\"surface\",\"colorbar\":{\"outlinewidth\":0,\"ticks\":\"\"},\"colorscale\":[[0.0,\"#0d0887\"],[0.1111111111111111,\"#46039f\"],[0.2222222222222222,\"#7201a8\"],[0.3333333333333333,\"#9c179e\"],[0.4444444444444444,\"#bd3786\"],[0.5555555555555556,\"#d8576b\"],[0.6666666666666666,\"#ed7953\"],[0.7777777777777778,\"#fb9f3a\"],[0.8888888888888888,\"#fdca26\"],[1.0,\"#f0f921\"]]}],\"mesh3d\":[{\"type\":\"mesh3d\",\"colorbar\":{\"outlinewidth\":0,\"ticks\":\"\"}}],\"scatter\":[{\"fillpattern\":{\"fillmode\":\"overlay\",\"size\":10,\"solidity\":0.2},\"type\":\"scatter\"}],\"parcoords\":[{\"type\":\"parcoords\",\"line\":{\"colorbar\":{\"outlinewidth\":0,\"ticks\":\"\"}}}],\"scatterpolargl\":[{\"type\":\"scatterpolargl\",\"marker\":{\"colorbar\":{\"outlinewidth\":0,\"ticks\":\"\"}}}],\"bar\":[{\"error_x\":{\"color\":\"#2a3f5f\"},\"error_y\":{\"color\":\"#2a3f5f\"},\"marker\":{\"line\":{\"color\":\"#E5ECF6\",\"width\":0.5},\"pattern\":{\"fillmode\":\"overlay\",\"size\":10,\"solidity\":0.2}},\"type\":\"bar\"}],\"scattergeo\":[{\"type\":\"scattergeo\",\"marker\":{\"colorbar\":{\"outlinewidth\":0,\"ticks\":\"\"}}}],\"scatterpolar\":[{\"type\":\"scatterpolar\",\"marker\":{\"colorbar\":{\"outlinewidth\":0,\"ticks\":\"\"}}}],\"histogram\":[{\"marker\":{\"pattern\":{\"fillmode\":\"overlay\",\"size\":10,\"solidity\":0.2}},\"type\":\"histogram\"}],\"scattergl\":[{\"type\":\"scattergl\",\"marker\":{\"colorbar\":{\"outlinewidth\":0,\"ticks\":\"\"}}}],\"scatter3d\":[{\"type\":\"scatter3d\",\"line\":{\"colorbar\":{\"outlinewidth\":0,\"ticks\":\"\"}},\"marker\":{\"colorbar\":{\"outlinewidth\":0,\"ticks\":\"\"}}}],\"scattermapbox\":[{\"type\":\"scattermapbox\",\"marker\":{\"colorbar\":{\"outlinewidth\":0,\"ticks\":\"\"}}}],\"scatterternary\":[{\"type\":\"scatterternary\",\"marker\":{\"colorbar\":{\"outlinewidth\":0,\"ticks\":\"\"}}}],\"scattercarpet\":[{\"type\":\"scattercarpet\",\"marker\":{\"colorbar\":{\"outlinewidth\":0,\"ticks\":\"\"}}}],\"carpet\":[{\"aaxis\":{\"endlinecolor\":\"#2a3f5f\",\"gridcolor\":\"white\",\"linecolor\":\"white\",\"minorgridcolor\":\"white\",\"startlinecolor\":\"#2a3f5f\"},\"baxis\":{\"endlinecolor\":\"#2a3f5f\",\"gridcolor\":\"white\",\"linecolor\":\"white\",\"minorgridcolor\":\"white\",\"startlinecolor\":\"#2a3f5f\"},\"type\":\"carpet\"}],\"table\":[{\"cells\":{\"fill\":{\"color\":\"#EBF0F8\"},\"line\":{\"color\":\"white\"}},\"header\":{\"fill\":{\"color\":\"#C8D4E3\"},\"line\":{\"color\":\"white\"}},\"type\":\"table\"}],\"barpolar\":[{\"marker\":{\"line\":{\"color\":\"#E5ECF6\",\"width\":0.5},\"pattern\":{\"fillmode\":\"overlay\",\"size\":10,\"solidity\":0.2}},\"type\":\"barpolar\"}],\"pie\":[{\"automargin\":true,\"type\":\"pie\"}]},\"layout\":{\"autotypenumbers\":\"strict\",\"colorway\":[\"#636efa\",\"#EF553B\",\"#00cc96\",\"#ab63fa\",\"#FFA15A\",\"#19d3f3\",\"#FF6692\",\"#B6E880\",\"#FF97FF\",\"#FECB52\"],\"font\":{\"color\":\"#2a3f5f\"},\"hovermode\":\"closest\",\"hoverlabel\":{\"align\":\"left\"},\"paper_bgcolor\":\"white\",\"plot_bgcolor\":\"#E5ECF6\",\"polar\":{\"bgcolor\":\"#E5ECF6\",\"angularaxis\":{\"gridcolor\":\"white\",\"linecolor\":\"white\",\"ticks\":\"\"},\"radialaxis\":{\"gridcolor\":\"white\",\"linecolor\":\"white\",\"ticks\":\"\"}},\"ternary\":{\"bgcolor\":\"#E5ECF6\",\"aaxis\":{\"gridcolor\":\"white\",\"linecolor\":\"white\",\"ticks\":\"\"},\"baxis\":{\"gridcolor\":\"white\",\"linecolor\":\"white\",\"ticks\":\"\"},\"caxis\":{\"gridcolor\":\"white\",\"linecolor\":\"white\",\"ticks\":\"\"}},\"coloraxis\":{\"colorbar\":{\"outlinewidth\":0,\"ticks\":\"\"}},\"colorscale\":{\"sequential\":[[0.0,\"#0d0887\"],[0.1111111111111111,\"#46039f\"],[0.2222222222222222,\"#7201a8\"],[0.3333333333333333,\"#9c179e\"],[0.4444444444444444,\"#bd3786\"],[0.5555555555555556,\"#d8576b\"],[0.6666666666666666,\"#ed7953\"],[0.7777777777777778,\"#fb9f3a\"],[0.8888888888888888,\"#fdca26\"],[1.0,\"#f0f921\"]],\"sequentialminus\":[[0.0,\"#0d0887\"],[0.1111111111111111,\"#46039f\"],[0.2222222222222222,\"#7201a8\"],[0.3333333333333333,\"#9c179e\"],[0.4444444444444444,\"#bd3786\"],[0.5555555555555556,\"#d8576b\"],[0.6666666666666666,\"#ed7953\"],[0.7777777777777778,\"#fb9f3a\"],[0.8888888888888888,\"#fdca26\"],[1.0,\"#f0f921\"]],\"diverging\":[[0,\"#8e0152\"],[0.1,\"#c51b7d\"],[0.2,\"#de77ae\"],[0.3,\"#f1b6da\"],[0.4,\"#fde0ef\"],[0.5,\"#f7f7f7\"],[0.6,\"#e6f5d0\"],[0.7,\"#b8e186\"],[0.8,\"#7fbc41\"],[0.9,\"#4d9221\"],[1,\"#276419\"]]},\"xaxis\":{\"gridcolor\":\"white\",\"linecolor\":\"white\",\"ticks\":\"\",\"title\":{\"standoff\":15},\"zerolinecolor\":\"white\",\"automargin\":true,\"zerolinewidth\":2},\"yaxis\":{\"gridcolor\":\"white\",\"linecolor\":\"white\",\"ticks\":\"\",\"title\":{\"standoff\":15},\"zerolinecolor\":\"white\",\"automargin\":true,\"zerolinewidth\":2},\"scene\":{\"xaxis\":{\"backgroundcolor\":\"#E5ECF6\",\"gridcolor\":\"white\",\"linecolor\":\"white\",\"showbackground\":true,\"ticks\":\"\",\"zerolinecolor\":\"white\",\"gridwidth\":2},\"yaxis\":{\"backgroundcolor\":\"#E5ECF6\",\"gridcolor\":\"white\",\"linecolor\":\"white\",\"showbackground\":true,\"ticks\":\"\",\"zerolinecolor\":\"white\",\"gridwidth\":2},\"zaxis\":{\"backgroundcolor\":\"#E5ECF6\",\"gridcolor\":\"white\",\"linecolor\":\"white\",\"showbackground\":true,\"ticks\":\"\",\"zerolinecolor\":\"white\",\"gridwidth\":2}},\"shapedefaults\":{\"line\":{\"color\":\"#2a3f5f\"}},\"annotationdefaults\":{\"arrowcolor\":\"#2a3f5f\",\"arrowhead\":0,\"arrowwidth\":1},\"geo\":{\"bgcolor\":\"white\",\"landcolor\":\"#E5ECF6\",\"subunitcolor\":\"white\",\"showland\":true,\"showlakes\":true,\"lakecolor\":\"white\"},\"title\":{\"x\":0.05},\"mapbox\":{\"style\":\"light\"}}}},                        {\"responsive\": true}                    ).then(function(){\n",
       "                            \n",
       "var gd = document.getElementById('134749d3-604c-4608-9a6c-12d561f9d0f2');\n",
       "var x = new MutationObserver(function (mutations, observer) {{\n",
       "        var display = window.getComputedStyle(gd).display;\n",
       "        if (!display || display === 'none') {{\n",
       "            console.log([gd, 'removed!']);\n",
       "            Plotly.purge(gd);\n",
       "            observer.disconnect();\n",
       "        }}\n",
       "}});\n",
       "\n",
       "// Listen for the removal of the full notebook cells\n",
       "var notebookContainer = gd.closest('#notebook-container');\n",
       "if (notebookContainer) {{\n",
       "    x.observe(notebookContainer, {childList: true});\n",
       "}}\n",
       "\n",
       "// Listen for the clearing of the current output cell\n",
       "var outputEl = gd.closest('.output');\n",
       "if (outputEl) {{\n",
       "    x.observe(outputEl, {childList: true});\n",
       "}}\n",
       "\n",
       "                        })                };                });            </script>        </div>"
      ]
     },
     "metadata": {},
     "output_type": "display_data"
    }
   ],
   "source": [
    "fig = go.Figure(\n",
    "    go.Funnel(\n",
    "        y=[\n",
    "            'MainScreenAppear',\n",
    "            'OffersScreenAppear',\n",
    "            'CartScreenAppear',\n",
    "            'PaymentScreenSuccessful',\n",
    "        ],\n",
    "        x=[7419, 4593, 3734, 3539],\n",
    "    )\n",
    ")\n",
    "fig.show()"
   ]
  },
  {
   "cell_type": "markdown",
   "metadata": {},
   "source": [
    "А теперь то же самое, но вручную. "
   ]
  },
  {
   "cell_type": "code",
   "execution_count": 32,
   "metadata": {},
   "outputs": [
    {
     "data": {
      "text/plain": [
       "event\n",
       "MainScreenAppear           7419\n",
       "OffersScreenAppear         4593\n",
       "CartScreenAppear           3734\n",
       "PaymentScreenSuccessful    3539\n",
       "Tutorial                    840\n",
       "Name: id, dtype: int64"
      ]
     },
     "metadata": {},
     "output_type": "display_data"
    },
    {
     "name": "stdout",
     "output_type": "stream",
     "text": [
      "Конверсия события 1 к событию 2 =  61.9 %\n",
      "Конверсия события 2 к событию 3 =  81.3 %\n",
      "Конверсия события 3 к событию 4 =  94.8 %\n",
      "Конверсия события 1 к событию 4 =  47.7 %\n"
     ]
    }
   ],
   "source": [
    "user_count_by_events = df.groupby('event')['id'].nunique().sort_values(ascending=False)\n",
    "display(user_count_by_events)\n",
    "print('Конверсия события 1 к событию 2 = ', (user_count_by_events['OffersScreenAppear']/user_count_by_events['MainScreenAppear']*100).round(1),'%')\n",
    "print('Конверсия события 2 к событию 3 = ', (user_count_by_events['CartScreenAppear']/user_count_by_events['OffersScreenAppear']*100).round(1),'%')\n",
    "print('Конверсия события 3 к событию 4 = ', (user_count_by_events['PaymentScreenSuccessful']/user_count_by_events['CartScreenAppear']*100).round(1),'%')\n",
    "print('Конверсия события 1 к событию 4 = ', (user_count_by_events['PaymentScreenSuccessful']/user_count_by_events['MainScreenAppear']*100).round(1),'%')"
   ]
  },
  {
   "cell_type": "markdown",
   "metadata": {},
   "source": [
    "# Вывод:\n",
    "Больше всего пользователей теряется при переходе от события 1 к событию 2, от главного экрана к экрану товара перешло  61,9%. От события 2 к событию 3 с экрана предложения в корзину переходит 81,3%. От события 3 к 4: от корзины к удачной оплате 94,8%. Итого к финальной покупке от 1 события к 4 приходит 47,7% пользователей."
   ]
  },
  {
   "cell_type": "markdown",
   "metadata": {},
   "source": [
    "## Шаг 5. Изучаем результаты эксперимента"
   ]
  },
  {
   "cell_type": "markdown",
   "metadata": {},
   "source": [
    "### 5.1 Сколько пользователей в каждой экспериментальной группе?"
   ]
  },
  {
   "cell_type": "code",
   "execution_count": 33,
   "metadata": {},
   "outputs": [
    {
     "name": "stdout",
     "output_type": "stream",
     "text": [
      "Уникальных пользователей в каждой жкспериментальной группе: group\n",
      "A1    2484\n",
      "A2    2513\n",
      "B     2537\n",
      "Name: id, dtype: int64\n",
      "Уникальных пользователей в сумме: 7534\n"
     ]
    }
   ],
   "source": [
    "print('Уникальных пользователей в каждой жкспериментальной группе:', df.groupby('group')['id'].nunique())\n",
    "print('Уникальных пользователей в сумме:', df.groupby('group')['id'].nunique().sum())"
   ]
  },
  {
   "cell_type": "markdown",
   "metadata": {},
   "source": [
    "### 5.2 Есть 2 контрольные группы для А/А-эксперимента, чтобы проверить корректность всех механизмов и расчётов. Проверяем, находят ли статистические критерии разницу между выборками 246 и 247."
   ]
  },
  {
   "cell_type": "markdown",
   "metadata": {},
   "source": [
    "Формулируем нулевую гипотезу: доли, проверяемых групп равны. Альтернативная гипотеза: доли не равны."
   ]
  },
  {
   "cell_type": "code",
   "execution_count": 34,
   "metadata": {},
   "outputs": [
    {
     "data": {
      "text/html": [
       "<div>\n",
       "<style scoped>\n",
       "    .dataframe tbody tr th:only-of-type {\n",
       "        vertical-align: middle;\n",
       "    }\n",
       "\n",
       "    .dataframe tbody tr th {\n",
       "        vertical-align: top;\n",
       "    }\n",
       "\n",
       "    .dataframe thead th {\n",
       "        text-align: right;\n",
       "    }\n",
       "</style>\n",
       "<table border=\"1\" class=\"dataframe\">\n",
       "  <thead>\n",
       "    <tr style=\"text-align: right;\">\n",
       "      <th>group</th>\n",
       "      <th>event</th>\n",
       "      <th>A1</th>\n",
       "      <th>A2</th>\n",
       "      <th>B</th>\n",
       "    </tr>\n",
       "  </thead>\n",
       "  <tbody>\n",
       "    <tr>\n",
       "      <th>0</th>\n",
       "      <td>MainScreenAppear</td>\n",
       "      <td>2450</td>\n",
       "      <td>2476</td>\n",
       "      <td>2493</td>\n",
       "    </tr>\n",
       "    <tr>\n",
       "      <th>1</th>\n",
       "      <td>OffersScreenAppear</td>\n",
       "      <td>1542</td>\n",
       "      <td>1520</td>\n",
       "      <td>1531</td>\n",
       "    </tr>\n",
       "    <tr>\n",
       "      <th>2</th>\n",
       "      <td>CartScreenAppear</td>\n",
       "      <td>1266</td>\n",
       "      <td>1238</td>\n",
       "      <td>1230</td>\n",
       "    </tr>\n",
       "    <tr>\n",
       "      <th>3</th>\n",
       "      <td>PaymentScreenSuccessful</td>\n",
       "      <td>1200</td>\n",
       "      <td>1158</td>\n",
       "      <td>1181</td>\n",
       "    </tr>\n",
       "  </tbody>\n",
       "</table>\n",
       "</div>"
      ],
      "text/plain": [
       "group                    event    A1    A2     B\n",
       "0             MainScreenAppear  2450  2476  2493\n",
       "1           OffersScreenAppear  1542  1520  1531\n",
       "2             CartScreenAppear  1266  1238  1230\n",
       "3      PaymentScreenSuccessful  1200  1158  1181"
      ]
     },
     "metadata": {},
     "output_type": "display_data"
    },
    {
     "data": {
      "text/plain": [
       "group\n",
       "A1    2484\n",
       "A2    2513\n",
       "B     2537\n",
       "Name: id, dtype: int64"
      ]
     },
     "metadata": {},
     "output_type": "display_data"
    }
   ],
   "source": [
    "successes_test = df[df['event']!='Tutorial'].pivot_table(index='event', columns='group', values='id', aggfunc='nunique').sort_values(by='A1', ascending=False).reset_index()\n",
    "trials_test = df.groupby('group')['id'].nunique()\n",
    "display(successes_test)\n",
    "display(trials_test)"
   ]
  },
  {
   "cell_type": "code",
   "execution_count": 35,
   "metadata": {},
   "outputs": [
    {
     "name": "stdout",
     "output_type": "stream",
     "text": [
      "p-значение:  0.7570597232046099\n",
      "Не получилось отвергнуть нулевую гипотезу, нет оснований считать доли разными\n",
      "p-значение:  0.2480954578522181\n",
      "Не получилось отвергнуть нулевую гипотезу, нет оснований считать доли разными\n",
      "p-значение:  0.22883372237997213\n",
      "Не получилось отвергнуть нулевую гипотезу, нет оснований считать доли разными\n",
      "p-значение:  0.11456679313141849\n",
      "Не получилось отвергнуть нулевую гипотезу, нет оснований считать доли разными\n"
     ]
    }
   ],
   "source": [
    "alpha = 0.05\n",
    "\n",
    "for i in successes_test.index:\n",
    "\n",
    "    p1 = successes_test.loc[i]['A1']/trials_test['A1']\n",
    "    p2 = successes_test.loc[i]['A2']/trials_test['A2']\n",
    "    p_combined = (successes_test.loc[i]['A1'] + successes_test.loc[i]['A2']) / (trials_test['A1'] + trials_test['A2'])\n",
    "    difference = p1 - p2 \n",
    "    z_value = difference / mth.sqrt(p_combined * (1 - p_combined) * (1/trials_test['A1'] + 1/trials_test['A2']))\n",
    "    distr = st.norm(0, 1)\n",
    "    p_value = (1 - distr.cdf(abs(z_value))) * 2\n",
    "    print('p-значение: ', p_value)\n",
    "\n",
    "    if p_value < alpha:\n",
    "        print('Отвергаем нулевую гипотезу: между долями есть значимая разница')\n",
    "    else:\n",
    "        print('Не получилось отвергнуть нулевую гипотезу, нет оснований считать доли разными')"
   ]
  },
  {
   "cell_type": "markdown",
   "metadata": {},
   "source": [
    "# Вывод:\n",
    "p-value значительно больше 0,05, подтверждаем, что статистические критерии не находят разницы между выборками."
   ]
  },
  {
   "cell_type": "markdown",
   "metadata": {},
   "source": [
    "### 5.3 Выберем самое популярное событие. "
   ]
  },
  {
   "cell_type": "markdown",
   "metadata": {},
   "source": [
    "#### Формируем датасет с суммарными значениями по количеству пользователей в каждой группе"
   ]
  },
  {
   "cell_type": "code",
   "execution_count": 36,
   "metadata": {},
   "outputs": [
    {
     "data": {
      "text/plain": [
       "group\n",
       "A1       2484\n",
       "A2       2513\n",
       "B        2537\n",
       "A1+A2    4997\n",
       "total    7534\n",
       "Name: id, dtype: int64"
      ]
     },
     "metadata": {},
     "output_type": "display_data"
    }
   ],
   "source": [
    "#формируем датасет с суммарными значениями по количеству пользователей в каждой группе\n",
    "users_total = df.groupby('group')['id'].nunique()\n",
    "users_total['A1+A2'] = users_total['A1'] + users_total['A2']\n",
    "users_total['total'] = users_total['A1+A2'] + users_total['B']\n",
    "display(users_total) "
   ]
  },
  {
   "cell_type": "markdown",
   "metadata": {},
   "source": [
    "#### Формируем датасет с остальными данными: суммы уникальных пользователей по каждому событий в каждой группе и процентные соотношения"
   ]
  },
  {
   "cell_type": "code",
   "execution_count": 37,
   "metadata": {},
   "outputs": [
    {
     "data": {
      "text/html": [
       "<div>\n",
       "<style scoped>\n",
       "    .dataframe tbody tr th:only-of-type {\n",
       "        vertical-align: middle;\n",
       "    }\n",
       "\n",
       "    .dataframe tbody tr th {\n",
       "        vertical-align: top;\n",
       "    }\n",
       "\n",
       "    .dataframe thead th {\n",
       "        text-align: right;\n",
       "    }\n",
       "</style>\n",
       "<table border=\"1\" class=\"dataframe\">\n",
       "  <thead>\n",
       "    <tr style=\"text-align: right;\">\n",
       "      <th>group</th>\n",
       "      <th>event</th>\n",
       "      <th>A1</th>\n",
       "      <th>A2</th>\n",
       "      <th>A1+A2</th>\n",
       "      <th>B</th>\n",
       "      <th>total_true</th>\n",
       "      <th>persent_A1</th>\n",
       "      <th>persent_A2</th>\n",
       "      <th>persent_A1+A2</th>\n",
       "      <th>persent_B</th>\n",
       "      <th>persent_total</th>\n",
       "    </tr>\n",
       "  </thead>\n",
       "  <tbody>\n",
       "    <tr>\n",
       "      <th>0</th>\n",
       "      <td>MainScreenAppear</td>\n",
       "      <td>2450</td>\n",
       "      <td>2476</td>\n",
       "      <td>4926</td>\n",
       "      <td>2493</td>\n",
       "      <td>7419</td>\n",
       "      <td>98.6</td>\n",
       "      <td>98.5</td>\n",
       "      <td>98.6</td>\n",
       "      <td>98.3</td>\n",
       "      <td>98.5</td>\n",
       "    </tr>\n",
       "    <tr>\n",
       "      <th>1</th>\n",
       "      <td>OffersScreenAppear</td>\n",
       "      <td>1542</td>\n",
       "      <td>1520</td>\n",
       "      <td>3062</td>\n",
       "      <td>1531</td>\n",
       "      <td>4593</td>\n",
       "      <td>62.1</td>\n",
       "      <td>60.5</td>\n",
       "      <td>61.3</td>\n",
       "      <td>60.3</td>\n",
       "      <td>61.0</td>\n",
       "    </tr>\n",
       "    <tr>\n",
       "      <th>2</th>\n",
       "      <td>CartScreenAppear</td>\n",
       "      <td>1266</td>\n",
       "      <td>1238</td>\n",
       "      <td>2504</td>\n",
       "      <td>1230</td>\n",
       "      <td>3734</td>\n",
       "      <td>51.0</td>\n",
       "      <td>49.3</td>\n",
       "      <td>50.1</td>\n",
       "      <td>48.5</td>\n",
       "      <td>49.6</td>\n",
       "    </tr>\n",
       "    <tr>\n",
       "      <th>3</th>\n",
       "      <td>PaymentScreenSuccessful</td>\n",
       "      <td>1200</td>\n",
       "      <td>1158</td>\n",
       "      <td>2358</td>\n",
       "      <td>1181</td>\n",
       "      <td>3539</td>\n",
       "      <td>48.3</td>\n",
       "      <td>46.1</td>\n",
       "      <td>47.2</td>\n",
       "      <td>46.6</td>\n",
       "      <td>47.0</td>\n",
       "    </tr>\n",
       "  </tbody>\n",
       "</table>\n",
       "</div>"
      ],
      "text/plain": [
       "group                    event    A1    A2  A1+A2     B  total_true  \\\n",
       "0             MainScreenAppear  2450  2476   4926  2493        7419   \n",
       "1           OffersScreenAppear  1542  1520   3062  1531        4593   \n",
       "2             CartScreenAppear  1266  1238   2504  1230        3734   \n",
       "3      PaymentScreenSuccessful  1200  1158   2358  1181        3539   \n",
       "\n",
       "group  persent_A1  persent_A2  persent_A1+A2  persent_B  persent_total  \n",
       "0            98.6        98.5           98.6       98.3           98.5  \n",
       "1            62.1        60.5           61.3       60.3           61.0  \n",
       "2            51.0        49.3           50.1       48.5           49.6  \n",
       "3            48.3        46.1           47.2       46.6           47.0  "
      ]
     },
     "metadata": {},
     "output_type": "display_data"
    }
   ],
   "source": [
    "event_data = df[df['event']!='Tutorial'].pivot_table(index='event', columns='group', values='id', aggfunc='nunique').sort_values(by='A1', ascending=False).reset_index()\n",
    "event_data['A1+A2'] = event_data['A1'] + event_data['A2']\n",
    "event_data = event_data[['event', 'A1', 'A2', 'A1+A2', 'B']]#поменял порядок столбцов для удобства чтения финальной таблицы\n",
    "event_data['total_true'] = event_data['A1+A2'] + event_data['B']\n",
    "event_data['persent_A1'] = (event_data['A1']/users_total['A1']*100).round(1)\n",
    "event_data['persent_A2'] = (event_data['A2']/users_total['A2']*100).round(1)\n",
    "event_data['persent_A1+A2'] = (event_data['A1+A2']/users_total['A1+A2']*100).round(1)\n",
    "event_data['persent_B'] = (event_data['B']/users_total['B']*100).round(1)\n",
    "event_data['persent_total'] = (event_data['total_true']/users_total['total']*100).round(1)\n",
    "display(event_data)"
   ]
  },
  {
   "cell_type": "markdown",
   "metadata": {},
   "source": [
    "#### Проверяем, есть ли статистическое отличие между каждой из указанных групп(A1, A2, A1+A2) с группой B"
   ]
  },
  {
   "cell_type": "markdown",
   "metadata": {},
   "source": [
    "- Формулируем нулевые гипотезы по каждому из 3х тестов: доли пользователей, совершивших каждое из 4х событий из групп A1, A2, A1+A2 не имеют статистических отличий от долей пользователей, совершивших событие в группе B.\n",
    "- Альтернативная гипотеза: доли имеют статистические отличия."
   ]
  },
  {
   "cell_type": "code",
   "execution_count": 38,
   "metadata": {},
   "outputs": [
    {
     "name": "stdout",
     "output_type": "stream",
     "text": [
      "P-value по каждой из групп сравнения с группой B:\n"
     ]
    },
    {
     "data": {
      "text/html": [
       "<div>\n",
       "<style scoped>\n",
       "    .dataframe tbody tr th:only-of-type {\n",
       "        vertical-align: middle;\n",
       "    }\n",
       "\n",
       "    .dataframe tbody tr th {\n",
       "        vertical-align: top;\n",
       "    }\n",
       "\n",
       "    .dataframe thead th {\n",
       "        text-align: right;\n",
       "    }\n",
       "</style>\n",
       "<table border=\"1\" class=\"dataframe\">\n",
       "  <thead>\n",
       "    <tr style=\"text-align: right;\">\n",
       "      <th></th>\n",
       "      <th>event</th>\n",
       "      <th>A1</th>\n",
       "      <th>A2</th>\n",
       "      <th>A1+A2</th>\n",
       "    </tr>\n",
       "  </thead>\n",
       "  <tbody>\n",
       "    <tr>\n",
       "      <th>0</th>\n",
       "      <td>MainScreenAppear</td>\n",
       "      <td>0.294972</td>\n",
       "      <td>0.458705</td>\n",
       "      <td>0.294245</td>\n",
       "    </tr>\n",
       "    <tr>\n",
       "      <th>1</th>\n",
       "      <td>OffersScreenAppear</td>\n",
       "      <td>0.208362</td>\n",
       "      <td>0.919782</td>\n",
       "      <td>0.434255</td>\n",
       "    </tr>\n",
       "    <tr>\n",
       "      <th>2</th>\n",
       "      <td>CartScreenAppear</td>\n",
       "      <td>0.078429</td>\n",
       "      <td>0.578620</td>\n",
       "      <td>0.181759</td>\n",
       "    </tr>\n",
       "    <tr>\n",
       "      <th>3</th>\n",
       "      <td>PaymentScreenSuccessful</td>\n",
       "      <td>0.212255</td>\n",
       "      <td>0.737342</td>\n",
       "      <td>0.600429</td>\n",
       "    </tr>\n",
       "  </tbody>\n",
       "</table>\n",
       "</div>"
      ],
      "text/plain": [
       "                     event        A1        A2     A1+A2\n",
       "0         MainScreenAppear  0.294972  0.458705  0.294245\n",
       "1       OffersScreenAppear  0.208362  0.919782  0.434255\n",
       "2         CartScreenAppear  0.078429  0.578620  0.181759\n",
       "3  PaymentScreenSuccessful  0.212255  0.737342  0.600429"
      ]
     },
     "metadata": {},
     "output_type": "display_data"
    }
   ],
   "source": [
    "pvalue_results = {'event': ['MainScreenAppear','OffersScreenAppear','CartScreenAppear','PaymentScreenSuccessful'], \n",
    "                  'A1': [0, 0, 0, 0], \n",
    "                  'A2': [0, 0, 0, 0], \n",
    "                  'A1+A2': [0, 0, 0, 0]} \n",
    "pvalue_results = pd.DataFrame(pvalue_results) \n",
    "\n",
    "print('P-value по каждой из групп сравнения с группой B:')\n",
    "#alpha = 0.05\n",
    "for i in event_data.index:\n",
    "    for j in ['A1', 'A2', 'A1+A2']:\n",
    "        p1 = event_data.loc[i][j]/users_total.loc[j] # пропорция успехов в первой группе\n",
    "        p2 = event_data.loc[i]['B']/users_total['B'] # пропорция успехов во второй группе\n",
    "        p_combined = (event_data.loc[i][j] + event_data.loc[i]['B'] ) / (users_total.loc[j] + users_total['B']) # пропорция успехов в комбинированном датасете:\n",
    "        difference = p1 - p2 # разница пропорций в датасетах\n",
    "        z_value = difference / mth.sqrt(p_combined * (1 - p_combined) * (1/users_total.loc[j] + 1/users_total['B']))\n",
    "        distr = st.norm(0, 1)# задаем стандартное нормальное распределение (среднее 0, ст.отклонение 1)\n",
    "        p_value = (1 - distr.cdf(abs(z_value))) * 2\n",
    "        pvalue_results.loc[i,j] = p_value\n",
    "\n",
    "display(pvalue_results)"
   ]
  },
  {
   "cell_type": "markdown",
   "metadata": {},
   "source": [
    "# Вывод:\n",
    "В рамках A/A/В теста мы провели 12 основных и 4 тестовых проверки между контрольными группами. \n",
    "В результате A/A/B теста при коэффициенте значимости 0.05 статистически значимой разницы между группами не выявлено. При коэффициенте значимости 0.1 выпадает лишь одно значение по событию CartScreenAppear в тесте A1/B, что говорит о возможности в 1 случае из 10 получить не верный результат. Остановимся на уровне значимости в 0.05. \n",
    "\n",
    "Можно утверждать, что изменение шрифта не оказало эффекта на поведение пользователей."
   ]
  },
  {
   "cell_type": "markdown",
   "metadata": {},
   "source": [
    "# Общий вывод:\n",
    "\n",
    "- При предварительной проверке данных из 244126 выявлено 413 дубликатов\n",
    "- При подготовке данных мы привели датафрейм к удобочитаемому виду, выделили дату и время событий, удалили лишние данные и дубликаты, переименовали группы для удобства исследования в А1, А2 и В, преобразовали форматы данных\n",
    "- Количество событий в исследовании = 243713\n",
    "- Количество уникальных событий 5: 'MainScreenAppear' 'PaymentScreenSuccessful' 'CartScreenAppear', 'OffersScreenAppear' и 'Tutorial'\n",
    "- Количество уникальных пользователей = 7551\n",
    "- Среднее число событий на пользователя = 32\n",
    "- Минимальная дата: 2019-07-25 00:00:00\n",
    "- Максимальная дата: 2019-08-07 00:00:00\n",
    "- Из распределения событий по дате и времени делаем вывод, что сбор данных о событиях явно начался не с минимальной даты, а с 1 августа, когда событий стало много и появилась цикличность от времени суток. Итог: мы располагаем только 1 неделей данных c 01.08.2019 по 07.08.2019. Первую неделю данных отсеиваем. После отсева мы потеряли 2826 события - 1.2% и 17 уникальных пользователей - 0.2%. Отсев незначительный.\n",
    "- Воронка: Больше всего пользователей теряется при переходе от события 1 к событию 2, от главного экрана к экрану товара перешло  61,9%. От события 2 к событию 3 с экрана предложения в корзину переходит 81,3%. От события 3 к 4: от корзины к удачной оплате 94,8%. Итого к финальной покупке от 1 события к 4 приходит 47,7% пользователей.\n",
    "- Проверили количество уникальных пользователей по группам: A1 - 2484, A2 - 25136 B - 2537. Их число примерно идентично, группы равноправные.\n",
    "- Проверили гипотезу нулевую гипотезу о равенстве выборок двух контрольных групп А1 и А2. Статистически выборки равны.\n",
    "- В результате A/A/B теста при коэффициенте значимости 0.05 статистически значимой разницы между группами не выявлено. При коэффициенте значимости 0.1 выпадает лишь одно значение по событию CartScreenAppear в тесте A1/B, что говорит о возможности в 1 случае из 10 получить не верный результат. Остановимся на уровне значимости в 0.05. \n",
    "\n",
    "- Можно утверждать, что изменение шрифта не оказало эффекта на поведение пользователей."
   ]
  }
 ],
 "metadata": {
  "ExecuteTimeLog": [
   {
    "duration": 66,
    "start_time": "2022-05-19T12:40:50.500Z"
   },
   {
    "duration": 3070,
    "start_time": "2022-05-19T12:40:52.274Z"
   },
   {
    "duration": 908,
    "start_time": "2022-05-19T12:40:55.346Z"
   },
   {
    "duration": 287,
    "start_time": "2022-05-19T12:42:03.026Z"
   },
   {
    "duration": 62,
    "start_time": "2022-05-19T12:43:13.424Z"
   },
   {
    "duration": 2724,
    "start_time": "2022-05-19T12:43:53.970Z"
   },
   {
    "duration": 29,
    "start_time": "2022-05-19T12:46:38.869Z"
   },
   {
    "duration": 5,
    "start_time": "2022-05-19T12:47:39.439Z"
   },
   {
    "duration": 29,
    "start_time": "2022-05-19T12:47:42.167Z"
   },
   {
    "duration": 5,
    "start_time": "2022-05-19T12:49:15.292Z"
   },
   {
    "duration": 38,
    "start_time": "2022-05-19T12:49:32.744Z"
   },
   {
    "duration": 42,
    "start_time": "2022-05-19T12:50:19.121Z"
   },
   {
    "duration": 5,
    "start_time": "2022-05-19T12:51:13.711Z"
   },
   {
    "duration": 4,
    "start_time": "2022-05-19T12:51:19.670Z"
   },
   {
    "duration": 42,
    "start_time": "2022-05-19T12:51:48.596Z"
   },
   {
    "duration": 41,
    "start_time": "2022-05-19T12:52:08.173Z"
   },
   {
    "duration": 4,
    "start_time": "2022-05-19T12:52:29.181Z"
   },
   {
    "duration": 41,
    "start_time": "2022-05-19T12:52:54.089Z"
   },
   {
    "duration": 44,
    "start_time": "2022-05-19T12:53:18.299Z"
   },
   {
    "duration": 50,
    "start_time": "2022-05-19T12:54:18.442Z"
   },
   {
    "duration": 101,
    "start_time": "2022-05-19T12:54:47.360Z"
   },
   {
    "duration": 51,
    "start_time": "2022-05-19T12:56:40.940Z"
   },
   {
    "duration": 47,
    "start_time": "2022-05-19T12:57:18.036Z"
   },
   {
    "duration": 61,
    "start_time": "2022-05-19T12:57:28.217Z"
   },
   {
    "duration": 64,
    "start_time": "2022-05-19T12:57:51.559Z"
   },
   {
    "duration": 60,
    "start_time": "2022-05-19T12:58:13.798Z"
   },
   {
    "duration": 50,
    "start_time": "2022-05-19T12:58:26.992Z"
   },
   {
    "duration": 45,
    "start_time": "2022-05-19T12:59:06.875Z"
   },
   {
    "duration": 43,
    "start_time": "2022-05-19T12:59:13.105Z"
   },
   {
    "duration": 46,
    "start_time": "2022-05-19T12:59:21.244Z"
   },
   {
    "duration": 43,
    "start_time": "2022-05-19T13:00:09.156Z"
   },
   {
    "duration": 37,
    "start_time": "2022-05-19T13:02:38.256Z"
   },
   {
    "duration": 35,
    "start_time": "2022-05-19T13:11:30.253Z"
   },
   {
    "duration": 47,
    "start_time": "2022-05-19T13:12:10.504Z"
   },
   {
    "duration": 40,
    "start_time": "2022-05-19T13:12:52.145Z"
   },
   {
    "duration": 35,
    "start_time": "2022-05-19T13:13:06.269Z"
   },
   {
    "duration": 34,
    "start_time": "2022-05-19T13:13:17.069Z"
   },
   {
    "duration": 47,
    "start_time": "2022-05-19T13:13:22.593Z"
   },
   {
    "duration": 38,
    "start_time": "2022-05-19T13:13:52.425Z"
   },
   {
    "duration": 500,
    "start_time": "2022-05-19T13:14:02.877Z"
   },
   {
    "duration": 293,
    "start_time": "2022-05-19T13:17:50.860Z"
   },
   {
    "duration": 95,
    "start_time": "2022-05-19T13:21:18.661Z"
   },
   {
    "duration": 3,
    "start_time": "2022-05-19T13:21:36.544Z"
   },
   {
    "duration": 41,
    "start_time": "2022-05-19T13:25:07.871Z"
   },
   {
    "duration": 182,
    "start_time": "2022-05-19T13:29:14.829Z"
   },
   {
    "duration": 40,
    "start_time": "2022-05-19T13:30:39.971Z"
   },
   {
    "duration": 142,
    "start_time": "2022-05-19T13:31:39.007Z"
   },
   {
    "duration": 44,
    "start_time": "2022-05-19T13:33:34.524Z"
   },
   {
    "duration": 43,
    "start_time": "2022-05-19T13:34:28.015Z"
   },
   {
    "duration": 3,
    "start_time": "2022-05-19T13:34:50.199Z"
   },
   {
    "duration": 744,
    "start_time": "2022-05-19T13:34:50.204Z"
   },
   {
    "duration": 278,
    "start_time": "2022-05-19T13:34:50.950Z"
   },
   {
    "duration": 62,
    "start_time": "2022-05-19T13:34:51.229Z"
   },
   {
    "duration": 2292,
    "start_time": "2022-05-19T13:34:51.294Z"
   },
   {
    "duration": 58,
    "start_time": "2022-05-19T13:34:53.588Z"
   },
   {
    "duration": 38,
    "start_time": "2022-05-19T13:34:53.649Z"
   },
   {
    "duration": 47,
    "start_time": "2022-05-19T13:34:53.689Z"
   },
   {
    "duration": 83,
    "start_time": "2022-05-19T13:34:53.738Z"
   },
   {
    "duration": 9,
    "start_time": "2022-05-19T13:34:53.823Z"
   },
   {
    "duration": 86,
    "start_time": "2022-05-19T13:34:53.833Z"
   },
   {
    "duration": 44,
    "start_time": "2022-05-19T13:34:53.920Z"
   },
   {
    "duration": 57,
    "start_time": "2022-05-19T13:34:53.966Z"
   },
   {
    "duration": 127,
    "start_time": "2022-05-19T13:34:54.026Z"
   },
   {
    "duration": 38,
    "start_time": "2022-05-19T13:34:54.155Z"
   },
   {
    "duration": 617,
    "start_time": "2022-05-19T13:35:16.429Z"
   },
   {
    "duration": 39,
    "start_time": "2022-05-19T13:35:22.133Z"
   },
   {
    "duration": 1137,
    "start_time": "2022-05-19T16:07:39.329Z"
   },
   {
    "duration": 308,
    "start_time": "2022-05-19T16:07:40.468Z"
   },
   {
    "duration": 346,
    "start_time": "2022-05-19T16:07:40.777Z"
   },
   {
    "duration": 87,
    "start_time": "2022-05-19T16:07:41.126Z"
   },
   {
    "duration": 2555,
    "start_time": "2022-05-19T16:07:41.215Z"
   },
   {
    "duration": 64,
    "start_time": "2022-05-19T16:07:43.773Z"
   },
   {
    "duration": 42,
    "start_time": "2022-05-19T16:07:43.839Z"
   },
   {
    "duration": 48,
    "start_time": "2022-05-19T16:07:43.882Z"
   },
   {
    "duration": 100,
    "start_time": "2022-05-19T16:07:43.932Z"
   },
   {
    "duration": 167,
    "start_time": "2022-05-19T16:07:44.036Z"
   },
   {
    "duration": 129,
    "start_time": "2022-05-19T16:07:44.205Z"
   },
   {
    "duration": 84,
    "start_time": "2022-05-19T16:07:44.336Z"
   },
   {
    "duration": 45,
    "start_time": "2022-05-19T16:07:44.421Z"
   },
   {
    "duration": 151,
    "start_time": "2022-05-19T16:07:44.468Z"
   },
   {
    "duration": 39,
    "start_time": "2022-05-19T16:07:44.621Z"
   },
   {
    "duration": 66,
    "start_time": "2022-05-19T19:18:34.011Z"
   },
   {
    "duration": 1411,
    "start_time": "2022-05-19T19:18:39.368Z"
   },
   {
    "duration": 659,
    "start_time": "2022-05-19T19:18:40.781Z"
   },
   {
    "duration": 317,
    "start_time": "2022-05-19T19:18:41.443Z"
   },
   {
    "duration": 88,
    "start_time": "2022-05-19T19:18:41.762Z"
   },
   {
    "duration": 1743,
    "start_time": "2022-05-19T19:18:41.853Z"
   },
   {
    "duration": 50,
    "start_time": "2022-05-19T19:18:43.597Z"
   },
   {
    "duration": 60,
    "start_time": "2022-05-19T19:18:43.649Z"
   },
   {
    "duration": 38,
    "start_time": "2022-05-19T19:18:43.711Z"
   },
   {
    "duration": 211,
    "start_time": "2022-05-19T19:18:43.751Z"
   },
   {
    "duration": 138,
    "start_time": "2022-05-19T19:18:43.964Z"
   },
   {
    "duration": 128,
    "start_time": "2022-05-19T19:18:44.104Z"
   },
   {
    "duration": 96,
    "start_time": "2022-05-19T19:18:44.235Z"
   },
   {
    "duration": 63,
    "start_time": "2022-05-19T19:18:44.332Z"
   },
   {
    "duration": 138,
    "start_time": "2022-05-19T19:18:44.398Z"
   },
   {
    "duration": 38,
    "start_time": "2022-05-19T19:18:44.538Z"
   },
   {
    "duration": 75,
    "start_time": "2022-05-19T19:22:52.085Z"
   },
   {
    "duration": 93,
    "start_time": "2022-05-19T19:23:46.570Z"
   },
   {
    "duration": 111,
    "start_time": "2022-05-19T19:24:43.405Z"
   },
   {
    "duration": 200,
    "start_time": "2022-05-19T19:26:02.420Z"
   },
   {
    "duration": 120,
    "start_time": "2022-05-19T19:29:15.199Z"
   },
   {
    "duration": 118,
    "start_time": "2022-05-19T19:29:24.280Z"
   },
   {
    "duration": 113,
    "start_time": "2022-05-19T19:29:30.714Z"
   },
   {
    "duration": 6,
    "start_time": "2022-05-19T19:31:01.361Z"
   },
   {
    "duration": 638,
    "start_time": "2022-05-19T19:31:06.903Z"
   },
   {
    "duration": 36,
    "start_time": "2022-05-19T19:31:25.949Z"
   },
   {
    "duration": 112,
    "start_time": "2022-05-19T19:31:45.950Z"
   },
   {
    "duration": 127,
    "start_time": "2022-05-19T19:32:03.871Z"
   },
   {
    "duration": 137,
    "start_time": "2022-05-19T19:32:40.610Z"
   },
   {
    "duration": 309,
    "start_time": "2022-05-19T19:33:53.094Z"
   },
   {
    "duration": 290,
    "start_time": "2022-05-19T19:34:00.847Z"
   },
   {
    "duration": 211,
    "start_time": "2022-05-19T19:34:21.166Z"
   },
   {
    "duration": 238,
    "start_time": "2022-05-19T19:36:56.497Z"
   },
   {
    "duration": 353,
    "start_time": "2022-05-19T19:37:18.975Z"
   },
   {
    "duration": 256,
    "start_time": "2022-05-19T19:37:43.319Z"
   },
   {
    "duration": 210,
    "start_time": "2022-05-19T19:38:13.673Z"
   },
   {
    "duration": 13,
    "start_time": "2022-05-19T19:39:42.696Z"
   },
   {
    "duration": 692,
    "start_time": "2022-05-19T19:51:17.709Z"
   },
   {
    "duration": 783,
    "start_time": "2022-05-19T19:51:44.545Z"
   },
   {
    "duration": 77,
    "start_time": "2022-05-19T19:52:06.290Z"
   },
   {
    "duration": 75,
    "start_time": "2022-05-19T19:53:50.945Z"
   },
   {
    "duration": 100,
    "start_time": "2022-05-19T19:56:44.880Z"
   },
   {
    "duration": 5,
    "start_time": "2022-05-19T19:57:01.781Z"
   },
   {
    "duration": 368,
    "start_time": "2022-05-19T19:57:01.789Z"
   },
   {
    "duration": 396,
    "start_time": "2022-05-19T19:57:02.159Z"
   },
   {
    "duration": 340,
    "start_time": "2022-05-19T19:57:02.558Z"
   },
   {
    "duration": 1834,
    "start_time": "2022-05-19T19:57:02.901Z"
   },
   {
    "duration": 64,
    "start_time": "2022-05-19T19:57:04.737Z"
   },
   {
    "duration": 44,
    "start_time": "2022-05-19T19:57:04.803Z"
   },
   {
    "duration": 60,
    "start_time": "2022-05-19T19:57:04.849Z"
   },
   {
    "duration": 84,
    "start_time": "2022-05-19T19:57:04.911Z"
   },
   {
    "duration": 217,
    "start_time": "2022-05-19T19:57:04.997Z"
   },
   {
    "duration": 117,
    "start_time": "2022-05-19T19:57:05.216Z"
   },
   {
    "duration": 101,
    "start_time": "2022-05-19T19:57:05.336Z"
   },
   {
    "duration": 62,
    "start_time": "2022-05-19T19:57:05.439Z"
   },
   {
    "duration": 47,
    "start_time": "2022-05-19T19:57:05.505Z"
   },
   {
    "duration": 158,
    "start_time": "2022-05-19T19:57:05.554Z"
   },
   {
    "duration": 47,
    "start_time": "2022-05-19T19:57:05.714Z"
   },
   {
    "duration": 4,
    "start_time": "2022-05-19T19:57:14.804Z"
   },
   {
    "duration": 299,
    "start_time": "2022-05-19T19:57:14.810Z"
   },
   {
    "duration": 356,
    "start_time": "2022-05-19T19:57:15.111Z"
   },
   {
    "duration": 234,
    "start_time": "2022-05-19T19:57:15.469Z"
   },
   {
    "duration": 1789,
    "start_time": "2022-05-19T19:57:15.705Z"
   },
   {
    "duration": 56,
    "start_time": "2022-05-19T19:57:17.497Z"
   },
   {
    "duration": 66,
    "start_time": "2022-05-19T19:57:17.555Z"
   },
   {
    "duration": 39,
    "start_time": "2022-05-19T19:57:17.623Z"
   },
   {
    "duration": 97,
    "start_time": "2022-05-19T19:57:17.664Z"
   },
   {
    "duration": 29,
    "start_time": "2022-05-19T19:57:17.765Z"
   },
   {
    "duration": 120,
    "start_time": "2022-05-19T19:57:17.797Z"
   },
   {
    "duration": 104,
    "start_time": "2022-05-19T19:57:17.920Z"
   },
   {
    "duration": 67,
    "start_time": "2022-05-19T19:57:18.027Z"
   },
   {
    "duration": 52,
    "start_time": "2022-05-19T19:57:18.097Z"
   },
   {
    "duration": 171,
    "start_time": "2022-05-19T19:57:18.151Z"
   },
   {
    "duration": 51,
    "start_time": "2022-05-19T19:57:18.324Z"
   },
   {
    "duration": 96,
    "start_time": "2022-05-19T19:57:46.770Z"
   },
   {
    "duration": 104,
    "start_time": "2022-05-19T19:58:05.825Z"
   },
   {
    "duration": 4,
    "start_time": "2022-05-19T19:58:10.283Z"
   },
   {
    "duration": 284,
    "start_time": "2022-05-19T19:58:10.290Z"
   },
   {
    "duration": 355,
    "start_time": "2022-05-19T19:58:10.576Z"
   },
   {
    "duration": 231,
    "start_time": "2022-05-19T19:58:10.933Z"
   },
   {
    "duration": 1776,
    "start_time": "2022-05-19T19:58:11.168Z"
   },
   {
    "duration": 58,
    "start_time": "2022-05-19T19:58:12.946Z"
   },
   {
    "duration": 48,
    "start_time": "2022-05-19T19:58:13.006Z"
   },
   {
    "duration": 62,
    "start_time": "2022-05-19T19:58:13.056Z"
   },
   {
    "duration": 95,
    "start_time": "2022-05-19T19:58:13.120Z"
   },
   {
    "duration": 11,
    "start_time": "2022-05-19T19:58:13.217Z"
   },
   {
    "duration": 117,
    "start_time": "2022-05-19T19:58:13.230Z"
   },
   {
    "duration": 96,
    "start_time": "2022-05-19T19:58:13.349Z"
   },
   {
    "duration": 59,
    "start_time": "2022-05-19T19:58:13.446Z"
   },
   {
    "duration": 47,
    "start_time": "2022-05-19T19:58:13.507Z"
   },
   {
    "duration": 160,
    "start_time": "2022-05-19T19:58:13.556Z"
   },
   {
    "duration": 46,
    "start_time": "2022-05-19T19:58:13.718Z"
   },
   {
    "duration": 98,
    "start_time": "2022-05-19T19:58:35.222Z"
   },
   {
    "duration": 97,
    "start_time": "2022-05-19T19:58:46.053Z"
   },
   {
    "duration": 72,
    "start_time": "2022-05-19T19:59:21.329Z"
   },
   {
    "duration": 66,
    "start_time": "2022-05-19T19:59:57.947Z"
   },
   {
    "duration": 63,
    "start_time": "2022-05-19T20:00:14.279Z"
   },
   {
    "duration": 59,
    "start_time": "2022-05-19T20:00:19.934Z"
   },
   {
    "duration": 54,
    "start_time": "2022-05-19T20:03:40.958Z"
   },
   {
    "duration": 59,
    "start_time": "2022-05-19T20:04:05.825Z"
   },
   {
    "duration": 71,
    "start_time": "2022-05-19T20:04:40.269Z"
   },
   {
    "duration": 57,
    "start_time": "2022-05-19T20:04:48.474Z"
   },
   {
    "duration": 43,
    "start_time": "2022-05-19T20:05:00.466Z"
   },
   {
    "duration": 74,
    "start_time": "2022-05-19T20:05:04.712Z"
   },
   {
    "duration": 65,
    "start_time": "2022-05-19T20:05:10.056Z"
   },
   {
    "duration": 58,
    "start_time": "2022-05-19T20:05:46.366Z"
   },
   {
    "duration": 64,
    "start_time": "2022-05-19T20:06:58.121Z"
   },
   {
    "duration": 65,
    "start_time": "2022-05-19T20:07:57.627Z"
   },
   {
    "duration": 61,
    "start_time": "2022-05-19T20:08:47.148Z"
   },
   {
    "duration": 63,
    "start_time": "2022-05-19T20:09:19.658Z"
   },
   {
    "duration": 53,
    "start_time": "2022-05-19T20:15:47.167Z"
   },
   {
    "duration": 120,
    "start_time": "2022-05-19T20:19:16.989Z"
   },
   {
    "duration": 129,
    "start_time": "2022-05-19T20:19:35.267Z"
   },
   {
    "duration": 26,
    "start_time": "2022-05-19T20:20:25.854Z"
   },
   {
    "duration": 330,
    "start_time": "2022-05-19T20:20:48.658Z"
   },
   {
    "duration": 127,
    "start_time": "2022-05-19T20:20:57.250Z"
   },
   {
    "duration": 176,
    "start_time": "2022-05-19T20:23:57.295Z"
   },
   {
    "duration": 177,
    "start_time": "2022-05-19T20:24:06.522Z"
   },
   {
    "duration": 18,
    "start_time": "2022-05-19T20:26:56.616Z"
   },
   {
    "duration": 169,
    "start_time": "2022-05-19T20:30:44.622Z"
   },
   {
    "duration": 14,
    "start_time": "2022-05-19T20:35:54.364Z"
   },
   {
    "duration": 15,
    "start_time": "2022-05-19T20:36:06.540Z"
   },
   {
    "duration": 17,
    "start_time": "2022-05-19T20:36:27.427Z"
   },
   {
    "duration": 24,
    "start_time": "2022-05-19T20:40:24.418Z"
   },
   {
    "duration": 4,
    "start_time": "2022-05-19T20:40:29.586Z"
   },
   {
    "duration": 313,
    "start_time": "2022-05-19T20:40:29.592Z"
   },
   {
    "duration": 387,
    "start_time": "2022-05-19T20:40:29.908Z"
   },
   {
    "duration": 259,
    "start_time": "2022-05-19T20:40:30.297Z"
   },
   {
    "duration": 1927,
    "start_time": "2022-05-19T20:40:30.559Z"
   },
   {
    "duration": 65,
    "start_time": "2022-05-19T20:40:32.493Z"
   },
   {
    "duration": 69,
    "start_time": "2022-05-19T20:40:32.560Z"
   },
   {
    "duration": 43,
    "start_time": "2022-05-19T20:40:32.631Z"
   },
   {
    "duration": 98,
    "start_time": "2022-05-19T20:40:32.676Z"
   },
   {
    "duration": 28,
    "start_time": "2022-05-19T20:40:32.776Z"
   },
   {
    "duration": 71,
    "start_time": "2022-05-19T20:40:32.806Z"
   },
   {
    "duration": 116,
    "start_time": "2022-05-19T20:40:32.879Z"
   },
   {
    "duration": 200,
    "start_time": "2022-05-19T20:40:32.998Z"
   },
   {
    "duration": 22,
    "start_time": "2022-05-19T20:40:33.201Z"
   },
   {
    "duration": 0,
    "start_time": "2022-05-19T20:40:33.226Z"
   },
   {
    "duration": 0,
    "start_time": "2022-05-19T20:40:33.227Z"
   },
   {
    "duration": 0,
    "start_time": "2022-05-19T20:40:33.229Z"
   },
   {
    "duration": 17,
    "start_time": "2022-05-19T20:44:14.413Z"
   },
   {
    "duration": 52,
    "start_time": "2022-05-19T20:44:48.062Z"
   },
   {
    "duration": 151,
    "start_time": "2022-05-19T20:44:51.026Z"
   },
   {
    "duration": 45,
    "start_time": "2022-05-19T20:44:53.282Z"
   },
   {
    "duration": 19,
    "start_time": "2022-05-19T20:47:25.100Z"
   },
   {
    "duration": 22,
    "start_time": "2022-05-19T20:48:10.345Z"
   },
   {
    "duration": 44,
    "start_time": "2022-05-19T20:52:41.944Z"
   },
   {
    "duration": 7,
    "start_time": "2022-05-19T20:54:44.676Z"
   },
   {
    "duration": 179,
    "start_time": "2022-05-19T20:55:33.549Z"
   },
   {
    "duration": 185,
    "start_time": "2022-05-19T20:55:42.893Z"
   },
   {
    "duration": 179,
    "start_time": "2022-05-19T20:56:11.448Z"
   },
   {
    "duration": 41,
    "start_time": "2022-05-19T20:56:18.323Z"
   },
   {
    "duration": 174,
    "start_time": "2022-05-19T20:56:22.981Z"
   },
   {
    "duration": 16,
    "start_time": "2022-05-19T20:58:48.159Z"
   },
   {
    "duration": 1246,
    "start_time": "2022-05-20T11:59:23.188Z"
   },
   {
    "duration": 352,
    "start_time": "2022-05-20T11:59:24.436Z"
   },
   {
    "duration": 353,
    "start_time": "2022-05-20T11:59:24.791Z"
   },
   {
    "duration": 266,
    "start_time": "2022-05-20T11:59:25.145Z"
   },
   {
    "duration": 2011,
    "start_time": "2022-05-20T11:59:25.414Z"
   },
   {
    "duration": 80,
    "start_time": "2022-05-20T11:59:27.427Z"
   },
   {
    "duration": 42,
    "start_time": "2022-05-20T11:59:27.509Z"
   },
   {
    "duration": 63,
    "start_time": "2022-05-20T11:59:27.553Z"
   },
   {
    "duration": 85,
    "start_time": "2022-05-20T11:59:27.619Z"
   },
   {
    "duration": 188,
    "start_time": "2022-05-20T11:59:27.706Z"
   },
   {
    "duration": 102,
    "start_time": "2022-05-20T11:59:27.896Z"
   },
   {
    "duration": 148,
    "start_time": "2022-05-20T11:59:28.002Z"
   },
   {
    "duration": 182,
    "start_time": "2022-05-20T11:59:28.166Z"
   },
   {
    "duration": 145,
    "start_time": "2022-05-20T11:59:28.351Z"
   },
   {
    "duration": 0,
    "start_time": "2022-05-20T11:59:28.498Z"
   },
   {
    "duration": 0,
    "start_time": "2022-05-20T11:59:28.499Z"
   },
   {
    "duration": 0,
    "start_time": "2022-05-20T11:59:28.501Z"
   },
   {
    "duration": 13,
    "start_time": "2022-05-20T12:07:02.023Z"
   },
   {
    "duration": 12,
    "start_time": "2022-05-20T12:07:16.595Z"
   },
   {
    "duration": 12,
    "start_time": "2022-05-20T12:07:53.285Z"
   },
   {
    "duration": 82,
    "start_time": "2022-05-20T16:22:12.824Z"
   },
   {
    "duration": 10,
    "start_time": "2022-05-20T16:22:15.971Z"
   },
   {
    "duration": 1616,
    "start_time": "2022-05-20T16:22:22.058Z"
   },
   {
    "duration": 1424,
    "start_time": "2022-05-20T16:22:23.676Z"
   },
   {
    "duration": 413,
    "start_time": "2022-05-20T16:22:25.103Z"
   },
   {
    "duration": 272,
    "start_time": "2022-05-20T16:22:25.518Z"
   },
   {
    "duration": 2227,
    "start_time": "2022-05-20T16:22:25.793Z"
   },
   {
    "duration": 78,
    "start_time": "2022-05-20T16:22:28.022Z"
   },
   {
    "duration": 69,
    "start_time": "2022-05-20T16:22:28.103Z"
   },
   {
    "duration": 41,
    "start_time": "2022-05-20T16:22:28.173Z"
   },
   {
    "duration": 94,
    "start_time": "2022-05-20T16:22:28.215Z"
   },
   {
    "duration": 166,
    "start_time": "2022-05-20T16:22:28.311Z"
   },
   {
    "duration": 121,
    "start_time": "2022-05-20T16:22:28.479Z"
   },
   {
    "duration": 137,
    "start_time": "2022-05-20T16:22:28.645Z"
   },
   {
    "duration": 195,
    "start_time": "2022-05-20T16:22:28.784Z"
   },
   {
    "duration": 14,
    "start_time": "2022-05-20T16:22:28.981Z"
   },
   {
    "duration": 81,
    "start_time": "2022-05-20T16:22:28.997Z"
   },
   {
    "duration": 195,
    "start_time": "2022-05-20T16:22:29.080Z"
   },
   {
    "duration": 39,
    "start_time": "2022-05-20T16:22:29.277Z"
   },
   {
    "duration": 1074,
    "start_time": "2022-05-21T07:40:25.075Z"
   },
   {
    "duration": 296,
    "start_time": "2022-05-21T07:40:26.151Z"
   },
   {
    "duration": 292,
    "start_time": "2022-05-21T07:40:26.448Z"
   },
   {
    "duration": 215,
    "start_time": "2022-05-21T07:40:26.741Z"
   },
   {
    "duration": 1888,
    "start_time": "2022-05-21T07:40:26.959Z"
   },
   {
    "duration": 56,
    "start_time": "2022-05-21T07:40:28.849Z"
   },
   {
    "duration": 52,
    "start_time": "2022-05-21T07:40:28.907Z"
   },
   {
    "duration": 71,
    "start_time": "2022-05-21T07:40:28.961Z"
   },
   {
    "duration": 76,
    "start_time": "2022-05-21T07:40:29.034Z"
   },
   {
    "duration": 154,
    "start_time": "2022-05-21T07:40:29.112Z"
   },
   {
    "duration": 145,
    "start_time": "2022-05-21T07:40:29.268Z"
   },
   {
    "duration": 151,
    "start_time": "2022-05-21T07:40:29.415Z"
   },
   {
    "duration": 167,
    "start_time": "2022-05-21T07:40:29.568Z"
   },
   {
    "duration": 15,
    "start_time": "2022-05-21T07:40:29.738Z"
   },
   {
    "duration": 72,
    "start_time": "2022-05-21T07:40:29.755Z"
   },
   {
    "duration": 187,
    "start_time": "2022-05-21T07:40:29.830Z"
   },
   {
    "duration": 60,
    "start_time": "2022-05-21T07:40:30.019Z"
   }
  ],
  "kernelspec": {
   "display_name": "Python 3.8.9 64-bit",
   "language": "python",
   "name": "python3"
  },
  "language_info": {
   "codemirror_mode": {
    "name": "ipython",
    "version": 3
   },
   "file_extension": ".py",
   "mimetype": "text/x-python",
   "name": "python",
   "nbconvert_exporter": "python",
   "pygments_lexer": "ipython3",
   "version": "3.8.9"
  },
  "toc": {
   "base_numbering": 1,
   "nav_menu": {},
   "number_sections": true,
   "sideBar": true,
   "skip_h1_title": true,
   "title_cell": "Table of Contents",
   "title_sidebar": "Contents",
   "toc_cell": false,
   "toc_position": {},
   "toc_section_display": true,
   "toc_window_display": false
  },
  "vscode": {
   "interpreter": {
    "hash": "31f2aee4e71d21fbe5cf8b01ff0e069b9275f58929596ceb00d14d90e3e16cd6"
   }
  }
 },
 "nbformat": 4,
 "nbformat_minor": 2
}
