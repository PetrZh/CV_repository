{
 "cells": [
  {
   "cell_type": "markdown",
   "id": "5b7b235e",
   "metadata": {},
   "source": [
    "# A/B-тестирование\n",
    "\n",
    "### Задача: провести оценку результатов A/B-теста. \n",
    "\n",
    "- Оценить корректность проведения теста\n",
    "- Проанализировать результаты теста\n",
    "- Проверить пересечение тестовой аудитории с конкурирующим тестом,\n",
    "- Проверить совпадение теста и маркетинговых событий, другие проблемы временных границ теста.\n",
    "\n",
    "### Техническое задание\n",
    "\n",
    "- Название теста: `recommender_system_test`;\n",
    "- группы: А — контрольная, B — новая платёжная воронка;\n",
    "- дата запуска: 2020-12-07;\n",
    "- дата остановки набора новых пользователей: 2020-12-21;\n",
    "- дата остановки: 2021-01-04;\n",
    "- аудитория: 15% новых пользователей из региона EU;\n",
    "- назначение теста: тестирование изменений, связанных с внедрением улучшенной рекомендательной системы;\n",
    "- ожидаемое количество участников теста: 6000.\n",
    "- ожидаемый эффект: за 14 дней с момента регистрации пользователи покажут улучшение каждой метрики не менее, чем на 10%:\n",
    "    - конверсии в просмотр карточек товаров — событие `product_page`,\n",
    "    - просмотры корзины — `product_cart`,\n",
    "    - покупки — `purchase`.\n",
    "    \n",
    "### Описание данных\n",
    "\n",
    "`ab_project_marketing_events.csv` — календарь маркетинговых событий на 2020 год.\n",
    "\n",
    "Структура файла:\n",
    "\n",
    "- `name` — название маркетингового события;\n",
    "- `regions` — регионы, в которых будет проводиться рекламная кампания;\n",
    "- `start_dt` — дата начала кампании;\n",
    "- `finish_dt` — дата завершения кампании.\n",
    "\n",
    "`final_ab_new_users.csv` — пользователи, зарегистрировавшиеся с 7 по 21 декабря 2020 года.\n",
    "\n",
    "Структура файла:\n",
    "\n",
    "- `user_id` — идентификатор пользователя;\n",
    "- `first_date` — дата регистрации;\n",
    "- `region` — регион пользователя;\n",
    "- `device` — устройство, с которого происходила регистрация.\n",
    "\n",
    "`final_ab_events.csv` — действия новых пользователей в период с 7 декабря 2020 по 4 января 2021 года.\n",
    "\n",
    "Структура файла:\n",
    "\n",
    "- `user_id` — идентификатор пользователя;\n",
    "- `event_dt` — дата и время покупки;\n",
    "- `event_name` — тип события;\n",
    "- `details` — дополнительные данные о событии. Например, для покупок, `purchase,` в этом поле хранится стоимость покупки в долларах.\n",
    "\n",
    "`final_ab_participants.csv` — таблица участников тестов.\n",
    "\n",
    "Структура файла:\n",
    "\n",
    "- `user_id` — идентификатор пользователя;\n",
    "- `ab_test` — название теста;\n",
    "- `group` — группа пользователя.\n"
   ]
  },
  {
   "cell_type": "markdown",
   "id": "b0305139",
   "metadata": {},
   "source": [
    "## Опишем цели исследования:\n",
    "A/B тест призван определить, как повлияло на поведение пользователей внедрение улучшенной рекомендательной системы, как изменилась воронка продаж."
   ]
  },
  {
   "cell_type": "code",
   "execution_count": 37,
   "id": "51fe2ebe",
   "metadata": {},
   "outputs": [],
   "source": [
    "import pandas as pd\n",
    "import datetime as dt\n",
    "import scipy.stats as st\n",
    "import numpy as np\n",
    "import matplotlib.pyplot as plt\n",
    "from pandas.plotting import register_matplotlib_converters\n",
    "import warnings\n",
    "import seaborn as sns\n",
    "register_matplotlib_converters()\n",
    "import warnings\n",
    "warnings.simplefilter('ignore')\n",
    "from plotly import graph_objects as go\n",
    "import math as mth"
   ]
  },
  {
   "cell_type": "code",
   "execution_count": 38,
   "id": "4c42d78a",
   "metadata": {},
   "outputs": [],
   "source": [
    "events=pd.read_csv('/Users/z/Downloads/final_ab_events.csv')\n",
    "marketing_events=pd.read_csv('/Users/z/Downloads/ab_project_marketing_events.csv')\n",
    "new_users=pd.read_csv('/Users/z/Downloads/final_ab_new_users.csv')\n",
    "participants=pd.read_csv('/Users/z/Downloads/final_ab_participants.csv')"
   ]
  },
  {
   "cell_type": "markdown",
   "id": "f9b5e28b",
   "metadata": {},
   "source": [
    "## Исследуем данные:\n",
    "- Требуется ли преобразование типов?\n",
    "- Опишите природу пропущенных значений и дубликатов, если их обнаружите."
   ]
  },
  {
   "cell_type": "code",
   "execution_count": 39,
   "id": "ef770563",
   "metadata": {},
   "outputs": [
    {
     "data": {
      "text/html": [
       "<div>\n",
       "<style scoped>\n",
       "    .dataframe tbody tr th:only-of-type {\n",
       "        vertical-align: middle;\n",
       "    }\n",
       "\n",
       "    .dataframe tbody tr th {\n",
       "        vertical-align: top;\n",
       "    }\n",
       "\n",
       "    .dataframe thead th {\n",
       "        text-align: right;\n",
       "    }\n",
       "</style>\n",
       "<table border=\"1\" class=\"dataframe\">\n",
       "  <thead>\n",
       "    <tr style=\"text-align: right;\">\n",
       "      <th></th>\n",
       "      <th>user_id</th>\n",
       "      <th>event_dt</th>\n",
       "      <th>event_name</th>\n",
       "      <th>details</th>\n",
       "    </tr>\n",
       "  </thead>\n",
       "  <tbody>\n",
       "    <tr>\n",
       "      <th>0</th>\n",
       "      <td>E1BDDCE0DAFA2679</td>\n",
       "      <td>2020-12-07 20:22:03</td>\n",
       "      <td>purchase</td>\n",
       "      <td>99.99</td>\n",
       "    </tr>\n",
       "    <tr>\n",
       "      <th>1</th>\n",
       "      <td>7B6452F081F49504</td>\n",
       "      <td>2020-12-07 09:22:53</td>\n",
       "      <td>purchase</td>\n",
       "      <td>9.99</td>\n",
       "    </tr>\n",
       "    <tr>\n",
       "      <th>2</th>\n",
       "      <td>9CD9F34546DF254C</td>\n",
       "      <td>2020-12-07 12:59:29</td>\n",
       "      <td>purchase</td>\n",
       "      <td>4.99</td>\n",
       "    </tr>\n",
       "  </tbody>\n",
       "</table>\n",
       "</div>"
      ],
      "text/plain": [
       "            user_id             event_dt event_name  details\n",
       "0  E1BDDCE0DAFA2679  2020-12-07 20:22:03   purchase    99.99\n",
       "1  7B6452F081F49504  2020-12-07 09:22:53   purchase     9.99\n",
       "2  9CD9F34546DF254C  2020-12-07 12:59:29   purchase     4.99"
      ]
     },
     "metadata": {},
     "output_type": "display_data"
    },
    {
     "name": "stdout",
     "output_type": "stream",
     "text": [
      "<class 'pandas.core.frame.DataFrame'>\n",
      "RangeIndex: 440317 entries, 0 to 440316\n",
      "Data columns (total 4 columns):\n",
      " #   Column      Non-Null Count   Dtype  \n",
      "---  ------      --------------   -----  \n",
      " 0   user_id     440317 non-null  object \n",
      " 1   event_dt    440317 non-null  object \n",
      " 2   event_name  440317 non-null  object \n",
      " 3   details     62740 non-null   float64\n",
      "dtypes: float64(1), object(3)\n",
      "memory usage: 13.4+ MB\n"
     ]
    },
    {
     "data": {
      "text/plain": [
       "None"
      ]
     },
     "metadata": {},
     "output_type": "display_data"
    },
    {
     "data": {
      "text/plain": [
       "user_id            0\n",
       "event_dt           0\n",
       "event_name         0\n",
       "details       377577\n",
       "dtype: int64"
      ]
     },
     "metadata": {},
     "output_type": "display_data"
    },
    {
     "name": "stdout",
     "output_type": "stream",
     "text": [
      "Кол-во полных дубликатов 0\n"
     ]
    },
    {
     "data": {
      "text/plain": [
       "user_id        58703\n",
       "event_dt      267268\n",
       "event_name         4\n",
       "details            4\n",
       "dtype: int64"
      ]
     },
     "metadata": {},
     "output_type": "display_data"
    }
   ],
   "source": [
    "display(events.head(3))\n",
    "display(events.info())\n",
    "display(events.isna().sum())\n",
    "print('Кол-во полных дубликатов', events.duplicated().sum())\n",
    "display(events.nunique())"
   ]
  },
  {
   "cell_type": "code",
   "execution_count": 40,
   "id": "bd5c6ae3",
   "metadata": {},
   "outputs": [
    {
     "data": {
      "text/html": [
       "<div>\n",
       "<style scoped>\n",
       "    .dataframe tbody tr th:only-of-type {\n",
       "        vertical-align: middle;\n",
       "    }\n",
       "\n",
       "    .dataframe tbody tr th {\n",
       "        vertical-align: top;\n",
       "    }\n",
       "\n",
       "    .dataframe thead th {\n",
       "        text-align: right;\n",
       "    }\n",
       "</style>\n",
       "<table border=\"1\" class=\"dataframe\">\n",
       "  <thead>\n",
       "    <tr style=\"text-align: right;\">\n",
       "      <th></th>\n",
       "      <th>name</th>\n",
       "      <th>regions</th>\n",
       "      <th>start_dt</th>\n",
       "      <th>finish_dt</th>\n",
       "    </tr>\n",
       "  </thead>\n",
       "  <tbody>\n",
       "    <tr>\n",
       "      <th>0</th>\n",
       "      <td>Christmas&amp;New Year Promo</td>\n",
       "      <td>EU, N.America</td>\n",
       "      <td>2020-12-25</td>\n",
       "      <td>2021-01-03</td>\n",
       "    </tr>\n",
       "    <tr>\n",
       "      <th>1</th>\n",
       "      <td>St. Valentine's Day Giveaway</td>\n",
       "      <td>EU, CIS, APAC, N.America</td>\n",
       "      <td>2020-02-14</td>\n",
       "      <td>2020-02-16</td>\n",
       "    </tr>\n",
       "    <tr>\n",
       "      <th>2</th>\n",
       "      <td>St. Patric's Day Promo</td>\n",
       "      <td>EU, N.America</td>\n",
       "      <td>2020-03-17</td>\n",
       "      <td>2020-03-19</td>\n",
       "    </tr>\n",
       "    <tr>\n",
       "      <th>3</th>\n",
       "      <td>Easter Promo</td>\n",
       "      <td>EU, CIS, APAC, N.America</td>\n",
       "      <td>2020-04-12</td>\n",
       "      <td>2020-04-19</td>\n",
       "    </tr>\n",
       "    <tr>\n",
       "      <th>4</th>\n",
       "      <td>4th of July Promo</td>\n",
       "      <td>N.America</td>\n",
       "      <td>2020-07-04</td>\n",
       "      <td>2020-07-11</td>\n",
       "    </tr>\n",
       "    <tr>\n",
       "      <th>5</th>\n",
       "      <td>Black Friday Ads Campaign</td>\n",
       "      <td>EU, CIS, APAC, N.America</td>\n",
       "      <td>2020-11-26</td>\n",
       "      <td>2020-12-01</td>\n",
       "    </tr>\n",
       "    <tr>\n",
       "      <th>6</th>\n",
       "      <td>Chinese New Year Promo</td>\n",
       "      <td>APAC</td>\n",
       "      <td>2020-01-25</td>\n",
       "      <td>2020-02-07</td>\n",
       "    </tr>\n",
       "    <tr>\n",
       "      <th>7</th>\n",
       "      <td>Labor day (May 1st) Ads Campaign</td>\n",
       "      <td>EU, CIS, APAC</td>\n",
       "      <td>2020-05-01</td>\n",
       "      <td>2020-05-03</td>\n",
       "    </tr>\n",
       "    <tr>\n",
       "      <th>8</th>\n",
       "      <td>International Women's Day Promo</td>\n",
       "      <td>EU, CIS, APAC</td>\n",
       "      <td>2020-03-08</td>\n",
       "      <td>2020-03-10</td>\n",
       "    </tr>\n",
       "    <tr>\n",
       "      <th>9</th>\n",
       "      <td>Victory Day CIS (May 9th) Event</td>\n",
       "      <td>CIS</td>\n",
       "      <td>2020-05-09</td>\n",
       "      <td>2020-05-11</td>\n",
       "    </tr>\n",
       "    <tr>\n",
       "      <th>10</th>\n",
       "      <td>CIS New Year Gift Lottery</td>\n",
       "      <td>CIS</td>\n",
       "      <td>2020-12-30</td>\n",
       "      <td>2021-01-07</td>\n",
       "    </tr>\n",
       "    <tr>\n",
       "      <th>11</th>\n",
       "      <td>Dragon Boat Festival Giveaway</td>\n",
       "      <td>APAC</td>\n",
       "      <td>2020-06-25</td>\n",
       "      <td>2020-07-01</td>\n",
       "    </tr>\n",
       "    <tr>\n",
       "      <th>12</th>\n",
       "      <td>Single's Day Gift Promo</td>\n",
       "      <td>APAC</td>\n",
       "      <td>2020-11-11</td>\n",
       "      <td>2020-11-12</td>\n",
       "    </tr>\n",
       "    <tr>\n",
       "      <th>13</th>\n",
       "      <td>Chinese Moon Festival</td>\n",
       "      <td>APAC</td>\n",
       "      <td>2020-10-01</td>\n",
       "      <td>2020-10-07</td>\n",
       "    </tr>\n",
       "  </tbody>\n",
       "</table>\n",
       "</div>"
      ],
      "text/plain": [
       "                                name                   regions    start_dt  \\\n",
       "0           Christmas&New Year Promo             EU, N.America  2020-12-25   \n",
       "1       St. Valentine's Day Giveaway  EU, CIS, APAC, N.America  2020-02-14   \n",
       "2             St. Patric's Day Promo             EU, N.America  2020-03-17   \n",
       "3                       Easter Promo  EU, CIS, APAC, N.America  2020-04-12   \n",
       "4                  4th of July Promo                 N.America  2020-07-04   \n",
       "5          Black Friday Ads Campaign  EU, CIS, APAC, N.America  2020-11-26   \n",
       "6             Chinese New Year Promo                      APAC  2020-01-25   \n",
       "7   Labor day (May 1st) Ads Campaign             EU, CIS, APAC  2020-05-01   \n",
       "8    International Women's Day Promo             EU, CIS, APAC  2020-03-08   \n",
       "9    Victory Day CIS (May 9th) Event                       CIS  2020-05-09   \n",
       "10         CIS New Year Gift Lottery                       CIS  2020-12-30   \n",
       "11     Dragon Boat Festival Giveaway                      APAC  2020-06-25   \n",
       "12           Single's Day Gift Promo                      APAC  2020-11-11   \n",
       "13             Chinese Moon Festival                      APAC  2020-10-01   \n",
       "\n",
       "     finish_dt  \n",
       "0   2021-01-03  \n",
       "1   2020-02-16  \n",
       "2   2020-03-19  \n",
       "3   2020-04-19  \n",
       "4   2020-07-11  \n",
       "5   2020-12-01  \n",
       "6   2020-02-07  \n",
       "7   2020-05-03  \n",
       "8   2020-03-10  \n",
       "9   2020-05-11  \n",
       "10  2021-01-07  \n",
       "11  2020-07-01  \n",
       "12  2020-11-12  \n",
       "13  2020-10-07  "
      ]
     },
     "metadata": {},
     "output_type": "display_data"
    },
    {
     "name": "stdout",
     "output_type": "stream",
     "text": [
      "<class 'pandas.core.frame.DataFrame'>\n",
      "RangeIndex: 14 entries, 0 to 13\n",
      "Data columns (total 4 columns):\n",
      " #   Column     Non-Null Count  Dtype \n",
      "---  ------     --------------  ----- \n",
      " 0   name       14 non-null     object\n",
      " 1   regions    14 non-null     object\n",
      " 2   start_dt   14 non-null     object\n",
      " 3   finish_dt  14 non-null     object\n",
      "dtypes: object(4)\n",
      "memory usage: 576.0+ bytes\n"
     ]
    },
    {
     "data": {
      "text/plain": [
       "None"
      ]
     },
     "metadata": {},
     "output_type": "display_data"
    }
   ],
   "source": [
    "display(marketing_events)\n",
    "display(marketing_events.info())"
   ]
  },
  {
   "cell_type": "code",
   "execution_count": 41,
   "id": "0e12d1ad",
   "metadata": {},
   "outputs": [
    {
     "data": {
      "text/html": [
       "<div>\n",
       "<style scoped>\n",
       "    .dataframe tbody tr th:only-of-type {\n",
       "        vertical-align: middle;\n",
       "    }\n",
       "\n",
       "    .dataframe tbody tr th {\n",
       "        vertical-align: top;\n",
       "    }\n",
       "\n",
       "    .dataframe thead th {\n",
       "        text-align: right;\n",
       "    }\n",
       "</style>\n",
       "<table border=\"1\" class=\"dataframe\">\n",
       "  <thead>\n",
       "    <tr style=\"text-align: right;\">\n",
       "      <th></th>\n",
       "      <th>user_id</th>\n",
       "      <th>first_date</th>\n",
       "      <th>region</th>\n",
       "      <th>device</th>\n",
       "    </tr>\n",
       "  </thead>\n",
       "  <tbody>\n",
       "    <tr>\n",
       "      <th>54589</th>\n",
       "      <td>4744D09B57722F72</td>\n",
       "      <td>2020-12-13</td>\n",
       "      <td>EU</td>\n",
       "      <td>Android</td>\n",
       "    </tr>\n",
       "    <tr>\n",
       "      <th>11130</th>\n",
       "      <td>5CE5F9F42D7A94D8</td>\n",
       "      <td>2020-12-14</td>\n",
       "      <td>EU</td>\n",
       "      <td>Android</td>\n",
       "    </tr>\n",
       "    <tr>\n",
       "      <th>25321</th>\n",
       "      <td>40F8186BEF9B3E16</td>\n",
       "      <td>2020-12-22</td>\n",
       "      <td>CIS</td>\n",
       "      <td>Android</td>\n",
       "    </tr>\n",
       "  </tbody>\n",
       "</table>\n",
       "</div>"
      ],
      "text/plain": [
       "                user_id  first_date region   device\n",
       "54589  4744D09B57722F72  2020-12-13     EU  Android\n",
       "11130  5CE5F9F42D7A94D8  2020-12-14     EU  Android\n",
       "25321  40F8186BEF9B3E16  2020-12-22    CIS  Android"
      ]
     },
     "metadata": {},
     "output_type": "display_data"
    },
    {
     "name": "stdout",
     "output_type": "stream",
     "text": [
      "<class 'pandas.core.frame.DataFrame'>\n",
      "RangeIndex: 61733 entries, 0 to 61732\n",
      "Data columns (total 4 columns):\n",
      " #   Column      Non-Null Count  Dtype \n",
      "---  ------      --------------  ----- \n",
      " 0   user_id     61733 non-null  object\n",
      " 1   first_date  61733 non-null  object\n",
      " 2   region      61733 non-null  object\n",
      " 3   device      61733 non-null  object\n",
      "dtypes: object(4)\n",
      "memory usage: 1.9+ MB\n"
     ]
    },
    {
     "data": {
      "text/plain": [
       "None"
      ]
     },
     "metadata": {},
     "output_type": "display_data"
    },
    {
     "data": {
      "text/plain": [
       "user_id       0\n",
       "first_date    0\n",
       "region        0\n",
       "device        0\n",
       "dtype: int64"
      ]
     },
     "metadata": {},
     "output_type": "display_data"
    },
    {
     "name": "stdout",
     "output_type": "stream",
     "text": [
      "Кол-во полных дубликатов 0\n"
     ]
    },
    {
     "data": {
      "text/plain": [
       "user_id       61733\n",
       "first_date       17\n",
       "region            4\n",
       "device            4\n",
       "dtype: int64"
      ]
     },
     "metadata": {},
     "output_type": "display_data"
    }
   ],
   "source": [
    "display(new_users.sample(3))\n",
    "display(new_users.info())\n",
    "display(new_users.isna().sum())\n",
    "print('Кол-во полных дубликатов', new_users.duplicated().sum())\n",
    "display(new_users.nunique())"
   ]
  },
  {
   "cell_type": "code",
   "execution_count": 42,
   "id": "bb3cd03e",
   "metadata": {},
   "outputs": [
    {
     "data": {
      "text/html": [
       "<div>\n",
       "<style scoped>\n",
       "    .dataframe tbody tr th:only-of-type {\n",
       "        vertical-align: middle;\n",
       "    }\n",
       "\n",
       "    .dataframe tbody tr th {\n",
       "        vertical-align: top;\n",
       "    }\n",
       "\n",
       "    .dataframe thead th {\n",
       "        text-align: right;\n",
       "    }\n",
       "</style>\n",
       "<table border=\"1\" class=\"dataframe\">\n",
       "  <thead>\n",
       "    <tr style=\"text-align: right;\">\n",
       "      <th></th>\n",
       "      <th>user_id</th>\n",
       "      <th>group</th>\n",
       "      <th>ab_test</th>\n",
       "    </tr>\n",
       "  </thead>\n",
       "  <tbody>\n",
       "    <tr>\n",
       "      <th>15550</th>\n",
       "      <td>15643EE28C82B131</td>\n",
       "      <td>A</td>\n",
       "      <td>interface_eu_test</td>\n",
       "    </tr>\n",
       "    <tr>\n",
       "      <th>1164</th>\n",
       "      <td>15F57595AB51A15C</td>\n",
       "      <td>A</td>\n",
       "      <td>recommender_system_test</td>\n",
       "    </tr>\n",
       "    <tr>\n",
       "      <th>17663</th>\n",
       "      <td>0D134E47EE9563B5</td>\n",
       "      <td>A</td>\n",
       "      <td>interface_eu_test</td>\n",
       "    </tr>\n",
       "  </tbody>\n",
       "</table>\n",
       "</div>"
      ],
      "text/plain": [
       "                user_id group                  ab_test\n",
       "15550  15643EE28C82B131     A        interface_eu_test\n",
       "1164   15F57595AB51A15C     A  recommender_system_test\n",
       "17663  0D134E47EE9563B5     A        interface_eu_test"
      ]
     },
     "metadata": {},
     "output_type": "display_data"
    },
    {
     "name": "stdout",
     "output_type": "stream",
     "text": [
      "<class 'pandas.core.frame.DataFrame'>\n",
      "RangeIndex: 18268 entries, 0 to 18267\n",
      "Data columns (total 3 columns):\n",
      " #   Column   Non-Null Count  Dtype \n",
      "---  ------   --------------  ----- \n",
      " 0   user_id  18268 non-null  object\n",
      " 1   group    18268 non-null  object\n",
      " 2   ab_test  18268 non-null  object\n",
      "dtypes: object(3)\n",
      "memory usage: 428.3+ KB\n"
     ]
    },
    {
     "data": {
      "text/plain": [
       "None"
      ]
     },
     "metadata": {},
     "output_type": "display_data"
    },
    {
     "data": {
      "text/plain": [
       "user_id    0\n",
       "group      0\n",
       "ab_test    0\n",
       "dtype: int64"
      ]
     },
     "metadata": {},
     "output_type": "display_data"
    },
    {
     "name": "stdout",
     "output_type": "stream",
     "text": [
      "Кол-во полных дубликатов 0\n"
     ]
    },
    {
     "data": {
      "text/plain": [
       "user_id    16666\n",
       "group          2\n",
       "ab_test        2\n",
       "dtype: int64"
      ]
     },
     "metadata": {},
     "output_type": "display_data"
    }
   ],
   "source": [
    "display(participants.sample(3))\n",
    "display(participants.info())\n",
    "display(participants.isna().sum())\n",
    "print('Кол-во полных дубликатов', participants.duplicated().sum())\n",
    "display(participants.nunique())"
   ]
  },
  {
   "cell_type": "markdown",
   "id": "58a7a7ea",
   "metadata": {},
   "source": [
    "Вывод: \n",
    "- По всем датафреймам данные выглядят чистыми. \n",
    "- В таблице events и new_users необходимо привести столбцы с датами в datetime. В таблице marketing_events переводить даты не обязательно, она носит ознакомительный характер.\n",
    "- Пропуски в таблице events описаны в тз.\n",
    "- В таблицу участников теста попали два теста, participants необходимо отсеить исследуемый recommender_system_test."
   ]
  },
  {
   "cell_type": "markdown",
   "id": "f8d30e41",
   "metadata": {},
   "source": [
    "### Переведем даты в datetime"
   ]
  },
  {
   "cell_type": "code",
   "execution_count": 43,
   "id": "8c566a0e",
   "metadata": {},
   "outputs": [],
   "source": [
    "events['event_dt'] =  pd.to_datetime(events['event_dt'], format='%Y-%m-%d %H:%M:%S')\n",
    "new_users['first_date'] =  pd.to_datetime(new_users['first_date'], format='%Y-%m-%d')"
   ]
  },
  {
   "cell_type": "markdown",
   "id": "5871dfef",
   "metadata": {},
   "source": [
    "### Разобьем таблицу participants на два теста"
   ]
  },
  {
   "cell_type": "code",
   "execution_count": 44,
   "id": "a297737b",
   "metadata": {},
   "outputs": [],
   "source": [
    "participants_rec = participants.query('ab_test==\"recommender_system_test\"')\n",
    "participants_int = participants.query('ab_test==\"interface_eu_test\"')"
   ]
  },
  {
   "cell_type": "markdown",
   "id": "df6ad27f",
   "metadata": {},
   "source": [
    "## Исследовательский анализ\n",
    "- Оцените корректность проведения теста. Обратите внимание на:\n",
    "     - Соответствие данных требованиям технического задания. Проверьте корректность всех пунктов технического задания.\n",
    "     - Время проведения теста. Убедитесь, что оно не совпадает с маркетинговыми и другими активностями.\n",
    "     - Аудиторию теста. Удостоверьтесь, что нет пересечений с конкурирующим тестом и нет пользователей, участвующих в двух группах теста одновременно. Проверьте равномерность распределения по тестовым группам и правильность их формирования."
   ]
  },
  {
   "cell_type": "markdown",
   "id": "e3e10661",
   "metadata": {},
   "source": [
    "### Исследуем данные"
   ]
  },
  {
   "cell_type": "code",
   "execution_count": 45,
   "id": "e9eaa200",
   "metadata": {},
   "outputs": [
    {
     "name": "stdout",
     "output_type": "stream",
     "text": [
      "Количество событий = 440317\n",
      "Виды уникальных событий: ['purchase' 'product_cart' 'product_page' 'login']\n",
      "Количество уникальных событий = 4\n",
      "Количество уникальных пользователей = 58703\n",
      "Среднее число событий на пользователя = 8\n",
      "Минимальная дата: 2020-12-07 00:00:33\n",
      "Максимальная дата: 2020-12-30 23:36:33\n",
      "Интервал: 23 days 23:36:00\n",
      "Количество пользователей по группам: \n",
      " A    3824\n",
      "B    2877\n",
      "Name: group, dtype: int64\n"
     ]
    }
   ],
   "source": [
    "print('Количество событий =', events['event_name'].count())\n",
    "print('Виды уникальных событий:', events['event_name'].unique()) \n",
    "print('Количество уникальных событий =', len(events['event_name'].unique()))\n",
    "print('Количество уникальных пользователей =', len(events['user_id'].unique()))\n",
    "print('Среднее число событий на пользователя =', round(events.groupby('user_id')['event_name'].count().mean()))\n",
    "print('Минимальная дата:', events['event_dt'].min())\n",
    "print('Максимальная дата:', events['event_dt'].max())\n",
    "print('Интервал:', events['event_dt'].max()-events['event_dt'].min())\n",
    "print('Количество пользователей по группам:','\\n',participants_rec['group'].value_counts())"
   ]
  },
  {
   "cell_type": "markdown",
   "id": "2cdfd7e8",
   "metadata": {},
   "source": [
    "### Проверим на аномалии количество событий на пользователя"
   ]
  },
  {
   "cell_type": "code",
   "execution_count": 46,
   "id": "41e840e5",
   "metadata": {},
   "outputs": [
    {
     "data": {
      "text/html": [
       "<div>\n",
       "<style scoped>\n",
       "    .dataframe tbody tr th:only-of-type {\n",
       "        vertical-align: middle;\n",
       "    }\n",
       "\n",
       "    .dataframe tbody tr th {\n",
       "        vertical-align: top;\n",
       "    }\n",
       "\n",
       "    .dataframe thead th {\n",
       "        text-align: right;\n",
       "    }\n",
       "</style>\n",
       "<table border=\"1\" class=\"dataframe\">\n",
       "  <thead>\n",
       "    <tr style=\"text-align: right;\">\n",
       "      <th></th>\n",
       "      <th>count</th>\n",
       "      <th>mean</th>\n",
       "      <th>std</th>\n",
       "      <th>min</th>\n",
       "      <th>25%</th>\n",
       "      <th>50%</th>\n",
       "      <th>75%</th>\n",
       "      <th>max</th>\n",
       "    </tr>\n",
       "  </thead>\n",
       "  <tbody>\n",
       "    <tr>\n",
       "      <th>event_name</th>\n",
       "      <td>58703.0</td>\n",
       "      <td>7.500758</td>\n",
       "      <td>4.230392</td>\n",
       "      <td>1.0</td>\n",
       "      <td>4.0</td>\n",
       "      <td>6.0</td>\n",
       "      <td>9.0</td>\n",
       "      <td>36.0</td>\n",
       "    </tr>\n",
       "  </tbody>\n",
       "</table>\n",
       "</div>"
      ],
      "text/plain": [
       "              count      mean       std  min  25%  50%  75%   max\n",
       "event_name  58703.0  7.500758  4.230392  1.0  4.0  6.0  9.0  36.0"
      ]
     },
     "metadata": {},
     "output_type": "display_data"
    },
    {
     "data": {
      "text/plain": [
       "Text(0.5, 1.0, 'Количество событий на пользователя')"
      ]
     },
     "execution_count": 46,
     "metadata": {},
     "output_type": "execute_result"
    },
    {
     "data": {
      "image/png": "[encoded data removed]",
      "text/plain": [
       "<Figure size 216x432 with 1 Axes>"
      ]
     },
     "metadata": {
      "needs_background": "light"
     },
     "output_type": "display_data"
    }
   ],
   "source": [
    "users_by_event_count = events.groupby('user_id')['event_name'].count().reset_index()\n",
    "display(users_by_event_count.describe().T)\n",
    "\n",
    "plt.figure(figsize=(3,6))\n",
    "users_by_event_count.boxplot(column=['event_name'])\n",
    "plt.title('Количество событий на пользователя')"
   ]
  },
  {
   "cell_type": "code",
   "execution_count": 47,
   "id": "61dc48bb",
   "metadata": {},
   "outputs": [
    {
     "data": {
      "image/png": "[encoded data removed]",
      "text/plain": [
       "<Figure size 1152x288 with 1 Axes>"
      ]
     },
     "metadata": {
      "needs_background": "light"
     },
     "output_type": "display_data"
    }
   ],
   "source": [
    "plt.figure(figsize=(16,4))\n",
    "plt.hist(events['event_dt'], bins=552);\n",
    "plt.ylabel('Кол-во событий')\n",
    "plt.xlabel('Дата, время')\n",
    "plt.grid()\n",
    "plt.title('Распределение событий по датам и времени');"
   ]
  },
  {
   "cell_type": "markdown",
   "id": "46b776ea",
   "metadata": {},
   "source": [
    "### Проверим на пересечение с конкурирующим тестом "
   ]
  },
  {
   "cell_type": "code",
   "execution_count": 48,
   "id": "beda1bf8",
   "metadata": {},
   "outputs": [
    {
     "name": "stdout",
     "output_type": "stream",
     "text": [
      "Пересечений между группами конкурирующих тестов: 1602\n"
     ]
    }
   ],
   "source": [
    "duplicate_list = set(participants_rec['user_id']) & set(participants_int['user_id'])\n",
    "print('Пересечений между группами конкурирующих тестов:', len(duplicate_list))"
   ]
  },
  {
   "cell_type": "markdown",
   "id": "66d916a2",
   "metadata": {},
   "source": [
    "### Удалим пересекающихся пользователей "
   ]
  },
  {
   "cell_type": "code",
   "execution_count": 49,
   "id": "83b6d438",
   "metadata": {},
   "outputs": [
    {
     "name": "stdout",
     "output_type": "stream",
     "text": [
      "Пересечений мужду группами конкурирующих тестов: 0\n"
     ]
    }
   ],
   "source": [
    "participants_rec = participants_rec.query('user_id not in @duplicate_list')\n",
    "print('Пересечений мужду группами конкурирующих тестов:',len(set(participants_rec['user_id']) & set(participants_int['user_id'])))"
   ]
  },
  {
   "cell_type": "markdown",
   "id": "b5358bb3",
   "metadata": {},
   "source": [
    "### Проверим на пересечение групп A и B теста "
   ]
  },
  {
   "cell_type": "code",
   "execution_count": 50,
   "id": "28c0ad0a",
   "metadata": {},
   "outputs": [
    {
     "name": "stdout",
     "output_type": "stream",
     "text": [
      "Пересечений мужду группами A и B: 0\n"
     ]
    }
   ],
   "source": [
    "participants_rec_a = participants_rec[participants_rec['group'] == 'A']\n",
    "participants_rec_b = participants_rec[participants_rec['group'] == 'B']\n",
    "print('Пересечений мужду группами A и B:',len(set(participants_rec_a['user_id']) & set(participants_rec_b['user_id'])))"
   ]
  },
  {
   "cell_type": "code",
   "execution_count": 51,
   "id": "58c0b82f",
   "metadata": {},
   "outputs": [
    {
     "name": "stdout",
     "output_type": "stream",
     "text": [
      "Участников в группе А: 2903\n",
      "Участников в группе B: 2196\n"
     ]
    }
   ],
   "source": [
    "print('Участников в группе А:', participants_rec_a['user_id'].count())\n",
    "print('Участников в группе B:', participants_rec_b['user_id'].count())"
   ]
  },
  {
   "cell_type": "markdown",
   "id": "f2b7bf09",
   "metadata": {},
   "source": [
    "### Проверим аудиторию: "
   ]
  },
  {
   "cell_type": "code",
   "execution_count": 52,
   "id": "6c370198",
   "metadata": {},
   "outputs": [],
   "source": [
    "#соединяем таблицы участников теста и новых пользователей, чтобы передать участникам теста привязку к региону. Отсеиваем лишние регионы.\n",
    "participants_rec = participants_rec.merge(new_users, how='left', on='user_id').query('region == \"EU\"')"
   ]
  },
  {
   "cell_type": "code",
   "execution_count": 53,
   "id": "7cc7b005",
   "metadata": {},
   "outputs": [
    {
     "name": "stdout",
     "output_type": "stream",
     "text": [
      "Количество новых пользователей из EU = 46270\n",
      "Количество новых пользователей участников теста = 4749\n",
      "Доля участников теста от общего количества новых пользователей = 10.3 %\n"
     ]
    }
   ],
   "source": [
    "eu_new_users = new_users.query('region == \"EU\"')['user_id'].count()\n",
    "print('Количество новых пользователей из EU =',eu_new_users)\n",
    "print('Количество новых пользователей участников теста =',participants_rec['user_id'].count())\n",
    "print('Доля участников теста от общего количества новых пользователей =', (participants_rec['user_id'].count()/eu_new_users*100).round(1),'%')"
   ]
  },
  {
   "cell_type": "markdown",
   "id": "8ac260f9",
   "metadata": {},
   "source": [
    "# Вывод: \n",
    "- Период не соответсвует ТЗ. Начиная с полуночи 30 декабря количество событий резко снижается. За 30 декабря произошло всего 89 событий. После 30 декабря событий отсуствуют. Достоверно проанализировать можем только период с 07.12 по 29.12.\n",
    "- Период проведения теста частично совпадает с Christmas&New Year Promo (2020-12-25 - 2021-01-03), но судя по графику распределения зобытий по времени промо не повлияло на тест, резкие скачки отсуствуют.\n",
    "- Количество участников теста 4749, соответствует ТЗ.\n",
    "- Аудитория - 10,3% от пользователей из EU.\n",
    "\n",
    "**После отсева некондиционных данных наше тз посыпалось. Нет совпадений ни по периоду, ни по размеру группы, ни по процентному соотнощению участников.**\n",
    "\n",
    "**Продолжать исследование считаю нецелесообразным.**"
   ]
  },
  {
   "cell_type": "markdown",
   "id": "4ddf8046",
   "metadata": {},
   "source": [
    "## Изучим воронку событий"
   ]
  },
  {
   "cell_type": "markdown",
   "id": "01a43b1d",
   "metadata": {},
   "source": [
    "### Выделим из events события по тестовой группе"
   ]
  },
  {
   "cell_type": "code",
   "execution_count": 54,
   "id": "837774b8",
   "metadata": {},
   "outputs": [
    {
     "name": "stdout",
     "output_type": "stream",
     "text": [
      "Виды уникальных событий: ['purchase' 'product_cart' 'login' 'product_page']\n",
      "События по частоте:\n"
     ]
    },
    {
     "data": {
      "text/plain": [
       "event_name\n",
       "login           7906\n",
       "product_page    4922\n",
       "product_cart    2350\n",
       "purchase        2348\n",
       "Name: user_id, dtype: int64"
      ]
     },
     "metadata": {},
     "output_type": "display_data"
    }
   ],
   "source": [
    "events_rec = events.merge(participants_rec, how='inner', on='user_id')\n",
    "print('Виды уникальных событий:', events_rec['event_name'].unique());\n",
    "print('События по частоте:')\n",
    "display(events_rec.groupby('event_name')['user_id'].count().sort_values(ascending = False));"
   ]
  },
  {
   "cell_type": "markdown",
   "id": "6e76ef9f",
   "metadata": {},
   "source": [
    "### Посчитаем, сколько пользователей совершали каждое из событий. Отсортируйем события по числу пользователей. Посчитаем долю пользователей, которые хоть раз совершали событие."
   ]
  },
  {
   "cell_type": "code",
   "execution_count": 55,
   "id": "4f59664d",
   "metadata": {},
   "outputs": [
    {
     "data": {
      "text/html": [
       "<div>\n",
       "<style scoped>\n",
       "    .dataframe tbody tr th:only-of-type {\n",
       "        vertical-align: middle;\n",
       "    }\n",
       "\n",
       "    .dataframe tbody tr th {\n",
       "        vertical-align: top;\n",
       "    }\n",
       "\n",
       "    .dataframe thead th {\n",
       "        text-align: right;\n",
       "    }\n",
       "</style>\n",
       "<table border=\"1\" class=\"dataframe\">\n",
       "  <thead>\n",
       "    <tr style=\"text-align: right;\">\n",
       "      <th></th>\n",
       "      <th>count_event</th>\n",
       "      <th>count_unique_users</th>\n",
       "      <th>one_time_event_persent</th>\n",
       "    </tr>\n",
       "    <tr>\n",
       "      <th>event_name</th>\n",
       "      <th></th>\n",
       "      <th></th>\n",
       "      <th></th>\n",
       "    </tr>\n",
       "  </thead>\n",
       "  <tbody>\n",
       "    <tr>\n",
       "      <th>login</th>\n",
       "      <td>7906</td>\n",
       "      <td>2594</td>\n",
       "      <td>100.0</td>\n",
       "    </tr>\n",
       "    <tr>\n",
       "      <th>product_page</th>\n",
       "      <td>4922</td>\n",
       "      <td>1632</td>\n",
       "      <td>62.9</td>\n",
       "    </tr>\n",
       "    <tr>\n",
       "      <th>purchase</th>\n",
       "      <td>2348</td>\n",
       "      <td>804</td>\n",
       "      <td>31.0</td>\n",
       "    </tr>\n",
       "    <tr>\n",
       "      <th>product_cart</th>\n",
       "      <td>2350</td>\n",
       "      <td>773</td>\n",
       "      <td>29.8</td>\n",
       "    </tr>\n",
       "  </tbody>\n",
       "</table>\n",
       "</div>"
      ],
      "text/plain": [
       "              count_event  count_unique_users  one_time_event_persent\n",
       "event_name                                                           \n",
       "login                7906                2594                   100.0\n",
       "product_page         4922                1632                    62.9\n",
       "purchase             2348                 804                    31.0\n",
       "product_cart         2350                 773                    29.8"
      ]
     },
     "metadata": {},
     "output_type": "display_data"
    }
   ],
   "source": [
    "events_id = events_rec.groupby('event_name').agg({'event_name':'count', 'user_id':'nunique'}).sort_values(by='user_id', ascending=False)\n",
    "events_id.columns = ['count_event', 'count_unique_users']\n",
    "events_id['one_time_event_persent'] = (events_id['count_unique_users'] / events_rec['user_id'].nunique()* 100).round(1) # доля хотя бы раз совершивших событие\n",
    "display(events_id)"
   ]
  },
  {
   "cell_type": "code",
   "execution_count": 56,
   "id": "2cde30ee",
   "metadata": {},
   "outputs": [
    {
     "data": {
      "text/plain": [
       "event_name\n",
       "login           2594\n",
       "product_page    1632\n",
       "purchase         804\n",
       "product_cart     773\n",
       "Name: user_id, dtype: int64"
      ]
     },
     "metadata": {},
     "output_type": "display_data"
    },
    {
     "name": "stdout",
     "output_type": "stream",
     "text": [
      "Конверсия события 1 к событию 2 =  62.9 %\n",
      "Конверсия события 2 к событию 3 =  47.4 %\n",
      "Конверсия события 3 к событию 4 =  104.0 %\n",
      "Конверсия события 1 к событию 4 =  31.0 %\n"
     ]
    }
   ],
   "source": [
    "user_count_by_events = events_rec.groupby('event_name')['user_id'].nunique().sort_values(ascending=False)\n",
    "display(user_count_by_events)\n",
    "print('Конверсия события 1 к событию 2 = ', (user_count_by_events['product_page']/user_count_by_events['login']*100).round(1),'%')\n",
    "print('Конверсия события 2 к событию 3 = ', (user_count_by_events['product_cart']/user_count_by_events['product_page']*100).round(1),'%')\n",
    "print('Конверсия события 3 к событию 4 = ', (user_count_by_events['purchase']/user_count_by_events['product_cart']*100).round(1),'%')\n",
    "print('Конверсия события 1 к событию 4 = ', (user_count_by_events['purchase']/user_count_by_events['login']*100).round(1),'%')"
   ]
  },
  {
   "cell_type": "markdown",
   "id": "54c7e8fb",
   "metadata": {},
   "source": [
    "# Вывод: \n",
    "Последовательность событий 'login' - вход, 'product_page'- страница продукта, 'product_cart' - корзина, 'purchase' - покупка.\n",
    "Конверсия показала, что переход от события product_cart к purchase более 100%. Возможно к покупке приводят какие-то еще источники кроме корзины. Другое приложение или акционные лендинги."
   ]
  },
  {
   "cell_type": "markdown",
   "id": "c9f180f5",
   "metadata": {},
   "source": [
    "## Проверим, находят ли статистические критерии разницу между выборками A и B"
   ]
  },
  {
   "cell_type": "code",
   "execution_count": 57,
   "id": "99050cd2",
   "metadata": {},
   "outputs": [
    {
     "data": {
      "text/html": [
       "<div>\n",
       "<style scoped>\n",
       "    .dataframe tbody tr th:only-of-type {\n",
       "        vertical-align: middle;\n",
       "    }\n",
       "\n",
       "    .dataframe tbody tr th {\n",
       "        vertical-align: top;\n",
       "    }\n",
       "\n",
       "    .dataframe thead th {\n",
       "        text-align: right;\n",
       "    }\n",
       "</style>\n",
       "<table border=\"1\" class=\"dataframe\">\n",
       "  <thead>\n",
       "    <tr style=\"text-align: right;\">\n",
       "      <th>group</th>\n",
       "      <th>event_name</th>\n",
       "      <th>A</th>\n",
       "      <th>B</th>\n",
       "    </tr>\n",
       "  </thead>\n",
       "  <tbody>\n",
       "    <tr>\n",
       "      <th>0</th>\n",
       "      <td>login</td>\n",
       "      <td>1939</td>\n",
       "      <td>655</td>\n",
       "    </tr>\n",
       "    <tr>\n",
       "      <th>1</th>\n",
       "      <td>product_page</td>\n",
       "      <td>1265</td>\n",
       "      <td>367</td>\n",
       "    </tr>\n",
       "    <tr>\n",
       "      <th>2</th>\n",
       "      <td>purchase</td>\n",
       "      <td>613</td>\n",
       "      <td>191</td>\n",
       "    </tr>\n",
       "    <tr>\n",
       "      <th>3</th>\n",
       "      <td>product_cart</td>\n",
       "      <td>589</td>\n",
       "      <td>184</td>\n",
       "    </tr>\n",
       "  </tbody>\n",
       "</table>\n",
       "</div>"
      ],
      "text/plain": [
       "group    event_name     A    B\n",
       "0             login  1939  655\n",
       "1      product_page  1265  367\n",
       "2          purchase   613  191\n",
       "3      product_cart   589  184"
      ]
     },
     "metadata": {},
     "output_type": "display_data"
    },
    {
     "data": {
      "text/plain": [
       "group\n",
       "A    1939\n",
       "B     655\n",
       "Name: user_id, dtype: int64"
      ]
     },
     "metadata": {},
     "output_type": "display_data"
    }
   ],
   "source": [
    "successes_test = events_rec.pivot_table(index='event_name', columns='group', values='user_id', aggfunc='nunique').sort_values(by='A', ascending=False).reset_index()\n",
    "trials_test = events_rec.groupby('group')['user_id'].nunique()\n",
    "display(successes_test)\n",
    "display(trials_test)"
   ]
  },
  {
   "cell_type": "code",
   "execution_count": 58,
   "id": "5989794b",
   "metadata": {},
   "outputs": [
    {
     "data": {
      "application/vnd.plotly.v1+json": {
       "config": {
        "plotlyServerURL": "https://plot.ly"
       },
       "data": [
        {
         "name": "Воронка группы А",
         "textinfo": "value+percent initial",
         "type": "funnel",
         "x": [
          1939,
          1265,
          589,
          613
         ],
         "y": [
          "login",
          "product_page",
          "product_cart",
          "purchase"
         ]
        },
        {
         "name": "Воронка группы B",
         "orientation": "h",
         "textinfo": "value+percent previous",
         "textposition": "inside",
         "type": "funnel",
         "x": [
          655,
          367,
          184,
          191
         ],
         "y": [
          "login",
          "product_page",
          "product_cart",
          "purchase"
         ]
        }
       ],
       "layout": {
        "template": {
         "data": {
          "bar": [
           {
            "error_x": {
             "color": "#2a3f5f"
            },
            "error_y": {
             "color": "#2a3f5f"
            },
            "marker": {
             "line": {
              "color": "#E5ECF6",
              "width": 0.5
             },
             "pattern": {
              "fillmode": "overlay",
              "size": 10,
              "solidity": 0.2
             }
            },
            "type": "bar"
           }
          ],
          "barpolar": [
           {
            "marker": {
             "line": {
              "color": "#E5ECF6",
              "width": 0.5
             },
             "pattern": {
              "fillmode": "overlay",
              "size": 10,
              "solidity": 0.2
             }
            },
            "type": "barpolar"
           }
          ],
          "carpet": [
           {
            "aaxis": {
             "endlinecolor": "#2a3f5f",
             "gridcolor": "white",
             "linecolor": "white",
             "minorgridcolor": "white",
             "startlinecolor": "#2a3f5f"
            },
            "baxis": {
             "endlinecolor": "#2a3f5f",
             "gridcolor": "white",
             "linecolor": "white",
             "minorgridcolor": "white",
             "startlinecolor": "#2a3f5f"
            },
            "type": "carpet"
           }
          ],
          "choropleth": [
           {
            "colorbar": {
             "outlinewidth": 0,
             "ticks": ""
            },
            "type": "choropleth"
           }
          ],
          "contour": [
           {
            "colorbar": {
             "outlinewidth": 0,
             "ticks": ""
            },
            "colorscale": [
             [
              0,
              "#0d0887"
             ],
             [
              0.1111111111111111,
              "#46039f"
             ],
             [
              0.2222222222222222,
              "#7201a8"
             ],
             [
              0.3333333333333333,
              "#9c179e"
             ],
             [
              0.4444444444444444,
              "#bd3786"
             ],
             [
              0.5555555555555556,
              "#d8576b"
             ],
             [
              0.6666666666666666,
              "#ed7953"
             ],
             [
              0.7777777777777778,
              "#fb9f3a"
             ],
             [
              0.8888888888888888,
              "#fdca26"
             ],
             [
              1,
              "#f0f921"
             ]
            ],
            "type": "contour"
           }
          ],
          "contourcarpet": [
           {
            "colorbar": {
             "outlinewidth": 0,
             "ticks": ""
            },
            "type": "contourcarpet"
           }
          ],
          "heatmap": [
           {
            "colorbar": {
             "outlinewidth": 0,
             "ticks": ""
            },
            "colorscale": [
             [
              0,
              "#0d0887"
             ],
             [
              0.1111111111111111,
              "#46039f"
             ],
             [
              0.2222222222222222,
              "#7201a8"
             ],
             [
              0.3333333333333333,
              "#9c179e"
             ],
             [
              0.4444444444444444,
              "#bd3786"
             ],
             [
              0.5555555555555556,
              "#d8576b"
             ],
             [
              0.6666666666666666,
              "#ed7953"
             ],
             [
              0.7777777777777778,
              "#fb9f3a"
             ],
             [
              0.8888888888888888,
              "#fdca26"
             ],
             [
              1,
              "#f0f921"
             ]
            ],
            "type": "heatmap"
           }
          ],
          "heatmapgl": [
           {
            "colorbar": {
             "outlinewidth": 0,
             "ticks": ""
            },
            "colorscale": [
             [
              0,
              "#0d0887"
             ],
             [
              0.1111111111111111,
              "#46039f"
             ],
             [
              0.2222222222222222,
              "#7201a8"
             ],
             [
              0.3333333333333333,
              "#9c179e"
             ],
             [
              0.4444444444444444,
              "#bd3786"
             ],
             [
              0.5555555555555556,
              "#d8576b"
             ],
             [
              0.6666666666666666,
              "#ed7953"
             ],
             [
              0.7777777777777778,
              "#fb9f3a"
             ],
             [
              0.8888888888888888,
              "#fdca26"
             ],
             [
              1,
              "#f0f921"
             ]
            ],
            "type": "heatmapgl"
           }
          ],
          "histogram": [
           {
            "marker": {
             "pattern": {
              "fillmode": "overlay",
              "size": 10,
              "solidity": 0.2
             }
            },
            "type": "histogram"
           }
          ],
          "histogram2d": [
           {
            "colorbar": {
             "outlinewidth": 0,
             "ticks": ""
            },
            "colorscale": [
             [
              0,
              "#0d0887"
             ],
             [
              0.1111111111111111,
              "#46039f"
             ],
             [
              0.2222222222222222,
              "#7201a8"
             ],
             [
              0.3333333333333333,
              "#9c179e"
             ],
             [
              0.4444444444444444,
              "#bd3786"
             ],
             [
              0.5555555555555556,
              "#d8576b"
             ],
             [
              0.6666666666666666,
              "#ed7953"
             ],
             [
              0.7777777777777778,
              "#fb9f3a"
             ],
             [
              0.8888888888888888,
              "#fdca26"
             ],
             [
              1,
              "#f0f921"
             ]
            ],
            "type": "histogram2d"
           }
          ],
          "histogram2dcontour": [
           {
            "colorbar": {
             "outlinewidth": 0,
             "ticks": ""
            },
            "colorscale": [
             [
              0,
              "#0d0887"
             ],
             [
              0.1111111111111111,
              "#46039f"
             ],
             [
              0.2222222222222222,
              "#7201a8"
             ],
             [
              0.3333333333333333,
              "#9c179e"
             ],
             [
              0.4444444444444444,
              "#bd3786"
             ],
             [
              0.5555555555555556,
              "#d8576b"
             ],
             [
              0.6666666666666666,
              "#ed7953"
             ],
             [
              0.7777777777777778,
              "#fb9f3a"
             ],
             [
              0.8888888888888888,
              "#fdca26"
             ],
             [
              1,
              "#f0f921"
             ]
            ],
            "type": "histogram2dcontour"
           }
          ],
          "mesh3d": [
           {
            "colorbar": {
             "outlinewidth": 0,
             "ticks": ""
            },
            "type": "mesh3d"
           }
          ],
          "parcoords": [
           {
            "line": {
             "colorbar": {
              "outlinewidth": 0,
              "ticks": ""
             }
            },
            "type": "parcoords"
           }
          ],
          "pie": [
           {
            "automargin": true,
            "type": "pie"
           }
          ],
          "scatter": [
           {
            "fillpattern": {
             "fillmode": "overlay",
             "size": 10,
             "solidity": 0.2
            },
            "type": "scatter"
           }
          ],
          "scatter3d": [
           {
            "line": {
             "colorbar": {
              "outlinewidth": 0,
              "ticks": ""
             }
            },
            "marker": {
             "colorbar": {
              "outlinewidth": 0,
              "ticks": ""
             }
            },
            "type": "scatter3d"
           }
          ],
          "scattercarpet": [
           {
            "marker": {
             "colorbar": {
              "outlinewidth": 0,
              "ticks": ""
             }
            },
            "type": "scattercarpet"
           }
          ],
          "scattergeo": [
           {
            "marker": {
             "colorbar": {
              "outlinewidth": 0,
              "ticks": ""
             }
            },
            "type": "scattergeo"
           }
          ],
          "scattergl": [
           {
            "marker": {
             "colorbar": {
              "outlinewidth": 0,
              "ticks": ""
             }
            },
            "type": "scattergl"
           }
          ],
          "scattermapbox": [
           {
            "marker": {
             "colorbar": {
              "outlinewidth": 0,
              "ticks": ""
             }
            },
            "type": "scattermapbox"
           }
          ],
          "scatterpolar": [
           {
            "marker": {
             "colorbar": {
              "outlinewidth": 0,
              "ticks": ""
             }
            },
            "type": "scatterpolar"
           }
          ],
          "scatterpolargl": [
           {
            "marker": {
             "colorbar": {
              "outlinewidth": 0,
              "ticks": ""
             }
            },
            "type": "scatterpolargl"
           }
          ],
          "scatterternary": [
           {
            "marker": {
             "colorbar": {
              "outlinewidth": 0,
              "ticks": ""
             }
            },
            "type": "scatterternary"
           }
          ],
          "surface": [
           {
            "colorbar": {
             "outlinewidth": 0,
             "ticks": ""
            },
            "colorscale": [
             [
              0,
              "#0d0887"
             ],
             [
              0.1111111111111111,
              "#46039f"
             ],
             [
              0.2222222222222222,
              "#7201a8"
             ],
             [
              0.3333333333333333,
              "#9c179e"
             ],
             [
              0.4444444444444444,
              "#bd3786"
             ],
             [
              0.5555555555555556,
              "#d8576b"
             ],
             [
              0.6666666666666666,
              "#ed7953"
             ],
             [
              0.7777777777777778,
              "#fb9f3a"
             ],
             [
              0.8888888888888888,
              "#fdca26"
             ],
             [
              1,
              "#f0f921"
             ]
            ],
            "type": "surface"
           }
          ],
          "table": [
           {
            "cells": {
             "fill": {
              "color": "#EBF0F8"
             },
             "line": {
              "color": "white"
             }
            },
            "header": {
             "fill": {
              "color": "#C8D4E3"
             },
             "line": {
              "color": "white"
             }
            },
            "type": "table"
           }
          ]
         },
         "layout": {
          "annotationdefaults": {
           "arrowcolor": "#2a3f5f",
           "arrowhead": 0,
           "arrowwidth": 1
          },
          "autotypenumbers": "strict",
          "coloraxis": {
           "colorbar": {
            "outlinewidth": 0,
            "ticks": ""
           }
          },
          "colorscale": {
           "diverging": [
            [
             0,
             "#8e0152"
            ],
            [
             0.1,
             "#c51b7d"
            ],
            [
             0.2,
             "#de77ae"
            ],
            [
             0.3,
             "#f1b6da"
            ],
            [
             0.4,
             "#fde0ef"
            ],
            [
             0.5,
             "#f7f7f7"
            ],
            [
             0.6,
             "#e6f5d0"
            ],
            [
             0.7,
             "#b8e186"
            ],
            [
             0.8,
             "#7fbc41"
            ],
            [
             0.9,
             "#4d9221"
            ],
            [
             1,
             "#276419"
            ]
           ],
           "sequential": [
            [
             0,
             "#0d0887"
            ],
            [
             0.1111111111111111,
             "#46039f"
            ],
            [
             0.2222222222222222,
             "#7201a8"
            ],
            [
             0.3333333333333333,
             "#9c179e"
            ],
            [
             0.4444444444444444,
             "#bd3786"
            ],
            [
             0.5555555555555556,
             "#d8576b"
            ],
            [
             0.6666666666666666,
             "#ed7953"
            ],
            [
             0.7777777777777778,
             "#fb9f3a"
            ],
            [
             0.8888888888888888,
             "#fdca26"
            ],
            [
             1,
             "#f0f921"
            ]
           ],
           "sequentialminus": [
            [
             0,
             "#0d0887"
            ],
            [
             0.1111111111111111,
             "#46039f"
            ],
            [
             0.2222222222222222,
             "#7201a8"
            ],
            [
             0.3333333333333333,
             "#9c179e"
            ],
            [
             0.4444444444444444,
             "#bd3786"
            ],
            [
             0.5555555555555556,
             "#d8576b"
            ],
            [
             0.6666666666666666,
             "#ed7953"
            ],
            [
             0.7777777777777778,
             "#fb9f3a"
            ],
            [
             0.8888888888888888,
             "#fdca26"
            ],
            [
             1,
             "#f0f921"
            ]
           ]
          },
          "colorway": [
           "#636efa",
           "#EF553B",
           "#00cc96",
           "#ab63fa",
           "#FFA15A",
           "#19d3f3",
           "#FF6692",
           "#B6E880",
           "#FF97FF",
           "#FECB52"
          ],
          "font": {
           "color": "#2a3f5f"
          },
          "geo": {
           "bgcolor": "white",
           "lakecolor": "white",
           "landcolor": "#E5ECF6",
           "showlakes": true,
           "showland": true,
           "subunitcolor": "white"
          },
          "hoverlabel": {
           "align": "left"
          },
          "hovermode": "closest",
          "mapbox": {
           "style": "light"
          },
          "paper_bgcolor": "white",
          "plot_bgcolor": "#E5ECF6",
          "polar": {
           "angularaxis": {
            "gridcolor": "white",
            "linecolor": "white",
            "ticks": ""
           },
           "bgcolor": "#E5ECF6",
           "radialaxis": {
            "gridcolor": "white",
            "linecolor": "white",
            "ticks": ""
           }
          },
          "scene": {
           "xaxis": {
            "backgroundcolor": "#E5ECF6",
            "gridcolor": "white",
            "gridwidth": 2,
            "linecolor": "white",
            "showbackground": true,
            "ticks": "",
            "zerolinecolor": "white"
           },
           "yaxis": {
            "backgroundcolor": "#E5ECF6",
            "gridcolor": "white",
            "gridwidth": 2,
            "linecolor": "white",
            "showbackground": true,
            "ticks": "",
            "zerolinecolor": "white"
           },
           "zaxis": {
            "backgroundcolor": "#E5ECF6",
            "gridcolor": "white",
            "gridwidth": 2,
            "linecolor": "white",
            "showbackground": true,
            "ticks": "",
            "zerolinecolor": "white"
           }
          },
          "shapedefaults": {
           "line": {
            "color": "#2a3f5f"
           }
          },
          "ternary": {
           "aaxis": {
            "gridcolor": "white",
            "linecolor": "white",
            "ticks": ""
           },
           "baxis": {
            "gridcolor": "white",
            "linecolor": "white",
            "ticks": ""
           },
           "bgcolor": "#E5ECF6",
           "caxis": {
            "gridcolor": "white",
            "linecolor": "white",
            "ticks": ""
           }
          },
          "title": {
           "x": 0.05
          },
          "xaxis": {
           "automargin": true,
           "gridcolor": "white",
           "linecolor": "white",
           "ticks": "",
           "title": {
            "standoff": 15
           },
           "zerolinecolor": "white",
           "zerolinewidth": 2
          },
          "yaxis": {
           "automargin": true,
           "gridcolor": "white",
           "linecolor": "white",
           "ticks": "",
           "title": {
            "standoff": 15
           },
           "zerolinecolor": "white",
           "zerolinewidth": 2
          }
         }
        }
       }
      },
      "text/html": [
       "<div>                            <div id=\"136c20ba-466b-47c7-8b80-b4b8e0ffc672\" class=\"plotly-graph-div\" style=\"height:525px; width:100%;\"></div>            <script type=\"text/javascript\">                require([\"plotly\"], function(Plotly) {                    window.PLOTLYENV=window.PLOTLYENV || {};                                    if (document.getElementById(\"136c20ba-466b-47c7-8b80-b4b8e0ffc672\")) {                    Plotly.newPlot(                        \"136c20ba-466b-47c7-8b80-b4b8e0ffc672\",                        [{\"name\":\"\\u0412\\u043e\\u0440\\u043e\\u043d\\u043a\\u0430 \\u0433\\u0440\\u0443\\u043f\\u043f\\u044b \\u0410\",\"textinfo\":\"value+percent initial\",\"x\":[1939,1265,589,613],\"y\":[\"login\",\"product_page\",\"product_cart\",\"purchase\"],\"type\":\"funnel\"},{\"name\":\"\\u0412\\u043e\\u0440\\u043e\\u043d\\u043a\\u0430 \\u0433\\u0440\\u0443\\u043f\\u043f\\u044b B\",\"orientation\":\"h\",\"textinfo\":\"value+percent previous\",\"textposition\":\"inside\",\"x\":[655,367,184,191],\"y\":[\"login\",\"product_page\",\"product_cart\",\"purchase\"],\"type\":\"funnel\"}],                        {\"template\":{\"data\":{\"histogram2dcontour\":[{\"type\":\"histogram2dcontour\",\"colorbar\":{\"outlinewidth\":0,\"ticks\":\"\"},\"colorscale\":[[0.0,\"#0d0887\"],[0.1111111111111111,\"#46039f\"],[0.2222222222222222,\"#7201a8\"],[0.3333333333333333,\"#9c179e\"],[0.4444444444444444,\"#bd3786\"],[0.5555555555555556,\"#d8576b\"],[0.6666666666666666,\"#ed7953\"],[0.7777777777777778,\"#fb9f3a\"],[0.8888888888888888,\"#fdca26\"],[1.0,\"#f0f921\"]]}],\"choropleth\":[{\"type\":\"choropleth\",\"colorbar\":{\"outlinewidth\":0,\"ticks\":\"\"}}],\"histogram2d\":[{\"type\":\"histogram2d\",\"colorbar\":{\"outlinewidth\":0,\"ticks\":\"\"},\"colorscale\":[[0.0,\"#0d0887\"],[0.1111111111111111,\"#46039f\"],[0.2222222222222222,\"#7201a8\"],[0.3333333333333333,\"#9c179e\"],[0.4444444444444444,\"#bd3786\"],[0.5555555555555556,\"#d8576b\"],[0.6666666666666666,\"#ed7953\"],[0.7777777777777778,\"#fb9f3a\"],[0.8888888888888888,\"#fdca26\"],[1.0,\"#f0f921\"]]}],\"heatmap\":[{\"type\":\"heatmap\",\"colorbar\":{\"outlinewidth\":0,\"ticks\":\"\"},\"colorscale\":[[0.0,\"#0d0887\"],[0.1111111111111111,\"#46039f\"],[0.2222222222222222,\"#7201a8\"],[0.3333333333333333,\"#9c179e\"],[0.4444444444444444,\"#bd3786\"],[0.5555555555555556,\"#d8576b\"],[0.6666666666666666,\"#ed7953\"],[0.7777777777777778,\"#fb9f3a\"],[0.8888888888888888,\"#fdca26\"],[1.0,\"#f0f921\"]]}],\"heatmapgl\":[{\"type\":\"heatmapgl\",\"colorbar\":{\"outlinewidth\":0,\"ticks\":\"\"},\"colorscale\":[[0.0,\"#0d0887\"],[0.1111111111111111,\"#46039f\"],[0.2222222222222222,\"#7201a8\"],[0.3333333333333333,\"#9c179e\"],[0.4444444444444444,\"#bd3786\"],[0.5555555555555556,\"#d8576b\"],[0.6666666666666666,\"#ed7953\"],[0.7777777777777778,\"#fb9f3a\"],[0.8888888888888888,\"#fdca26\"],[1.0,\"#f0f921\"]]}],\"contourcarpet\":[{\"type\":\"contourcarpet\",\"colorbar\":{\"outlinewidth\":0,\"ticks\":\"\"}}],\"contour\":[{\"type\":\"contour\",\"colorbar\":{\"outlinewidth\":0,\"ticks\":\"\"},\"colorscale\":[[0.0,\"#0d0887\"],[0.1111111111111111,\"#46039f\"],[0.2222222222222222,\"#7201a8\"],[0.3333333333333333,\"#9c179e\"],[0.4444444444444444,\"#bd3786\"],[0.5555555555555556,\"#d8576b\"],[0.6666666666666666,\"#ed7953\"],[0.7777777777777778,\"#fb9f3a\"],[0.8888888888888888,\"#fdca26\"],[1.0,\"#f0f921\"]]}],\"surface\":[{\"type\":\"surface\",\"colorbar\":{\"outlinewidth\":0,\"ticks\":\"\"},\"colorscale\":[[0.0,\"#0d0887\"],[0.1111111111111111,\"#46039f\"],[0.2222222222222222,\"#7201a8\"],[0.3333333333333333,\"#9c179e\"],[0.4444444444444444,\"#bd3786\"],[0.5555555555555556,\"#d8576b\"],[0.6666666666666666,\"#ed7953\"],[0.7777777777777778,\"#fb9f3a\"],[0.8888888888888888,\"#fdca26\"],[1.0,\"#f0f921\"]]}],\"mesh3d\":[{\"type\":\"mesh3d\",\"colorbar\":{\"outlinewidth\":0,\"ticks\":\"\"}}],\"scatter\":[{\"fillpattern\":{\"fillmode\":\"overlay\",\"size\":10,\"solidity\":0.2},\"type\":\"scatter\"}],\"parcoords\":[{\"type\":\"parcoords\",\"line\":{\"colorbar\":{\"outlinewidth\":0,\"ticks\":\"\"}}}],\"scatterpolargl\":[{\"type\":\"scatterpolargl\",\"marker\":{\"colorbar\":{\"outlinewidth\":0,\"ticks\":\"\"}}}],\"bar\":[{\"error_x\":{\"color\":\"#2a3f5f\"},\"error_y\":{\"color\":\"#2a3f5f\"},\"marker\":{\"line\":{\"color\":\"#E5ECF6\",\"width\":0.5},\"pattern\":{\"fillmode\":\"overlay\",\"size\":10,\"solidity\":0.2}},\"type\":\"bar\"}],\"scattergeo\":[{\"type\":\"scattergeo\",\"marker\":{\"colorbar\":{\"outlinewidth\":0,\"ticks\":\"\"}}}],\"scatterpolar\":[{\"type\":\"scatterpolar\",\"marker\":{\"colorbar\":{\"outlinewidth\":0,\"ticks\":\"\"}}}],\"histogram\":[{\"marker\":{\"pattern\":{\"fillmode\":\"overlay\",\"size\":10,\"solidity\":0.2}},\"type\":\"histogram\"}],\"scattergl\":[{\"type\":\"scattergl\",\"marker\":{\"colorbar\":{\"outlinewidth\":0,\"ticks\":\"\"}}}],\"scatter3d\":[{\"type\":\"scatter3d\",\"line\":{\"colorbar\":{\"outlinewidth\":0,\"ticks\":\"\"}},\"marker\":{\"colorbar\":{\"outlinewidth\":0,\"ticks\":\"\"}}}],\"scattermapbox\":[{\"type\":\"scattermapbox\",\"marker\":{\"colorbar\":{\"outlinewidth\":0,\"ticks\":\"\"}}}],\"scatterternary\":[{\"type\":\"scatterternary\",\"marker\":{\"colorbar\":{\"outlinewidth\":0,\"ticks\":\"\"}}}],\"scattercarpet\":[{\"type\":\"scattercarpet\",\"marker\":{\"colorbar\":{\"outlinewidth\":0,\"ticks\":\"\"}}}],\"carpet\":[{\"aaxis\":{\"endlinecolor\":\"#2a3f5f\",\"gridcolor\":\"white\",\"linecolor\":\"white\",\"minorgridcolor\":\"white\",\"startlinecolor\":\"#2a3f5f\"},\"baxis\":{\"endlinecolor\":\"#2a3f5f\",\"gridcolor\":\"white\",\"linecolor\":\"white\",\"minorgridcolor\":\"white\",\"startlinecolor\":\"#2a3f5f\"},\"type\":\"carpet\"}],\"table\":[{\"cells\":{\"fill\":{\"color\":\"#EBF0F8\"},\"line\":{\"color\":\"white\"}},\"header\":{\"fill\":{\"color\":\"#C8D4E3\"},\"line\":{\"color\":\"white\"}},\"type\":\"table\"}],\"barpolar\":[{\"marker\":{\"line\":{\"color\":\"#E5ECF6\",\"width\":0.5},\"pattern\":{\"fillmode\":\"overlay\",\"size\":10,\"solidity\":0.2}},\"type\":\"barpolar\"}],\"pie\":[{\"automargin\":true,\"type\":\"pie\"}]},\"layout\":{\"autotypenumbers\":\"strict\",\"colorway\":[\"#636efa\",\"#EF553B\",\"#00cc96\",\"#ab63fa\",\"#FFA15A\",\"#19d3f3\",\"#FF6692\",\"#B6E880\",\"#FF97FF\",\"#FECB52\"],\"font\":{\"color\":\"#2a3f5f\"},\"hovermode\":\"closest\",\"hoverlabel\":{\"align\":\"left\"},\"paper_bgcolor\":\"white\",\"plot_bgcolor\":\"#E5ECF6\",\"polar\":{\"bgcolor\":\"#E5ECF6\",\"angularaxis\":{\"gridcolor\":\"white\",\"linecolor\":\"white\",\"ticks\":\"\"},\"radialaxis\":{\"gridcolor\":\"white\",\"linecolor\":\"white\",\"ticks\":\"\"}},\"ternary\":{\"bgcolor\":\"#E5ECF6\",\"aaxis\":{\"gridcolor\":\"white\",\"linecolor\":\"white\",\"ticks\":\"\"},\"baxis\":{\"gridcolor\":\"white\",\"linecolor\":\"white\",\"ticks\":\"\"},\"caxis\":{\"gridcolor\":\"white\",\"linecolor\":\"white\",\"ticks\":\"\"}},\"coloraxis\":{\"colorbar\":{\"outlinewidth\":0,\"ticks\":\"\"}},\"colorscale\":{\"sequential\":[[0.0,\"#0d0887\"],[0.1111111111111111,\"#46039f\"],[0.2222222222222222,\"#7201a8\"],[0.3333333333333333,\"#9c179e\"],[0.4444444444444444,\"#bd3786\"],[0.5555555555555556,\"#d8576b\"],[0.6666666666666666,\"#ed7953\"],[0.7777777777777778,\"#fb9f3a\"],[0.8888888888888888,\"#fdca26\"],[1.0,\"#f0f921\"]],\"sequentialminus\":[[0.0,\"#0d0887\"],[0.1111111111111111,\"#46039f\"],[0.2222222222222222,\"#7201a8\"],[0.3333333333333333,\"#9c179e\"],[0.4444444444444444,\"#bd3786\"],[0.5555555555555556,\"#d8576b\"],[0.6666666666666666,\"#ed7953\"],[0.7777777777777778,\"#fb9f3a\"],[0.8888888888888888,\"#fdca26\"],[1.0,\"#f0f921\"]],\"diverging\":[[0,\"#8e0152\"],[0.1,\"#c51b7d\"],[0.2,\"#de77ae\"],[0.3,\"#f1b6da\"],[0.4,\"#fde0ef\"],[0.5,\"#f7f7f7\"],[0.6,\"#e6f5d0\"],[0.7,\"#b8e186\"],[0.8,\"#7fbc41\"],[0.9,\"#4d9221\"],[1,\"#276419\"]]},\"xaxis\":{\"gridcolor\":\"white\",\"linecolor\":\"white\",\"ticks\":\"\",\"title\":{\"standoff\":15},\"zerolinecolor\":\"white\",\"automargin\":true,\"zerolinewidth\":2},\"yaxis\":{\"gridcolor\":\"white\",\"linecolor\":\"white\",\"ticks\":\"\",\"title\":{\"standoff\":15},\"zerolinecolor\":\"white\",\"automargin\":true,\"zerolinewidth\":2},\"scene\":{\"xaxis\":{\"backgroundcolor\":\"#E5ECF6\",\"gridcolor\":\"white\",\"linecolor\":\"white\",\"showbackground\":true,\"ticks\":\"\",\"zerolinecolor\":\"white\",\"gridwidth\":2},\"yaxis\":{\"backgroundcolor\":\"#E5ECF6\",\"gridcolor\":\"white\",\"linecolor\":\"white\",\"showbackground\":true,\"ticks\":\"\",\"zerolinecolor\":\"white\",\"gridwidth\":2},\"zaxis\":{\"backgroundcolor\":\"#E5ECF6\",\"gridcolor\":\"white\",\"linecolor\":\"white\",\"showbackground\":true,\"ticks\":\"\",\"zerolinecolor\":\"white\",\"gridwidth\":2}},\"shapedefaults\":{\"line\":{\"color\":\"#2a3f5f\"}},\"annotationdefaults\":{\"arrowcolor\":\"#2a3f5f\",\"arrowhead\":0,\"arrowwidth\":1},\"geo\":{\"bgcolor\":\"white\",\"landcolor\":\"#E5ECF6\",\"subunitcolor\":\"white\",\"showland\":true,\"showlakes\":true,\"lakecolor\":\"white\"},\"title\":{\"x\":0.05},\"mapbox\":{\"style\":\"light\"}}}},                        {\"responsive\": true}                    ).then(function(){\n",
       "                            \n",
       "var gd = document.getElementById('136c20ba-466b-47c7-8b80-b4b8e0ffc672');\n",
       "var x = new MutationObserver(function (mutations, observer) {{\n",
       "        var display = window.getComputedStyle(gd).display;\n",
       "        if (!display || display === 'none') {{\n",
       "            console.log([gd, 'removed!']);\n",
       "            Plotly.purge(gd);\n",
       "            observer.disconnect();\n",
       "        }}\n",
       "}});\n",
       "\n",
       "// Listen for the removal of the full notebook cells\n",
       "var notebookContainer = gd.closest('#notebook-container');\n",
       "if (notebookContainer) {{\n",
       "    x.observe(notebookContainer, {childList: true});\n",
       "}}\n",
       "\n",
       "// Listen for the clearing of the current output cell\n",
       "var outputEl = gd.closest('.output');\n",
       "if (outputEl) {{\n",
       "    x.observe(outputEl, {childList: true});\n",
       "}}\n",
       "\n",
       "                        })                };                });            </script>        </div>"
      ]
     },
     "metadata": {},
     "output_type": "display_data"
    }
   ],
   "source": [
    "fig = go.Figure()\n",
    "\n",
    "fig.add_trace(go.Funnel(\n",
    "    name = 'Воронка группы А',\n",
    "    y = ['login','product_page','product_cart','purchase'],\n",
    "    x = [1939, 1265, 589, 613],\n",
    "    textinfo = \"value+percent initial\"))\n",
    "\n",
    "fig.add_trace(go.Funnel(\n",
    "    name = 'Воронка группы B',\n",
    "    orientation = \"h\",\n",
    "    y = ['login','product_page','product_cart','purchase'],\n",
    "    x = [655, 367, 184, 191],\n",
    "    textposition = \"inside\",\n",
    "    textinfo = \"value+percent previous\"))"
   ]
  },
  {
   "cell_type": "markdown",
   "id": "82aa4469",
   "metadata": {},
   "source": [
    "Воронки событий по группам:\n",
    "- Конверсии событий в группе A по шагам: 65,2% - 46,6% - 104,1%. \n",
    "От события 1 к событию 4 (от логина к покупке) приходит 31,6% покупателей.\n",
    "- Конверсии событий в группе B по шагам: 56% - 50,1% - 103,8%.\n",
    "От события 1 к событию 4 (от логина к покупке) приходит 29,2% покупателей.\n",
    "\n",
    "В группе А переход от события login к событию product_page происходит чаще, но товары в корзину кладут наоборот реже. Как итог к покупке приходят 31,6% клиентов в группе А и 29,2% клиент в группе B.\n",
    "\n",
    "В обеих группах к покупке приходит больше пользователей, чем на шаге корзина. Значит в исследование вмешались покупки из других источников.\n",
    "\n",
    "Выборки отличаются в 3 раза.\n",
    "    **На этой стадии стоиn остановиться, выборки неравноценны, но...**\n",
    "    \n",
    "Формулируем нулевую гипотезу: Между группами нет статистически значимых различий. Альтернативная гипотеза: Между группами есть статистически значимые различия."
   ]
  },
  {
   "cell_type": "code",
   "execution_count": 59,
   "id": "7b732642",
   "metadata": {},
   "outputs": [
    {
     "name": "stdout",
     "output_type": "stream",
     "text": [
      "p-значение:  nan\n",
      "Не получилось отвергнуть нулевую гипотезу, нет оснований считать доли разными\n",
      "p-значение:  2.457788807452843e-05\n",
      "Отвергаем нулевую гипотезу: между долями есть значимая разница\n",
      "p-значение:  0.24035836270660704\n",
      "Не получилось отвергнуть нулевую гипотезу, нет оснований считать доли разными\n",
      "p-значение:  0.26899325584838074\n",
      "Не получилось отвергнуть нулевую гипотезу, нет оснований считать доли разными\n"
     ]
    }
   ],
   "source": [
    "alpha = 0.05\n",
    "\n",
    "for i in successes_test.index:\n",
    "\n",
    "    p1 = successes_test.loc[i]['A']/trials_test['A']\n",
    "    p2 = successes_test.loc[i]['B']/trials_test['B']\n",
    "    p_combined = (successes_test.loc[i]['A'] + successes_test.loc[i]['B']) / (trials_test['A'] + trials_test['B'])\n",
    "    difference = p1 - p2 \n",
    "    z_value = difference / mth.sqrt(p_combined * (1 - p_combined) * (1/trials_test['A'] + 1/trials_test['B']))\n",
    "    distr = st.norm(0, 1)\n",
    "    p_value = (1 - distr.cdf(abs(z_value))) * 2\n",
    "    print('p-значение: ', p_value)\n",
    "\n",
    "    if p_value < alpha:\n",
    "        print('Отвергаем нулевую гипотезу: между долями есть значимая разница')\n",
    "    else:\n",
    "        print('Не получилось отвергнуть нулевую гипотезу, нет оснований считать доли разными')"
   ]
  },
  {
   "cell_type": "markdown",
   "id": "5ca5c554",
   "metadata": {},
   "source": [
    "# Вывод:\n",
    "Тест показал отличие выборок на стадии перехода product_page в худшую сторону. По остальным событиям мы не можем утверждать, что различия есть.\n",
    "\n",
    "Значения изменились только в переходе на product_page в худшую сторону. По остальным событиям мы не можем утверждать различие. \n",
    "Новая рекомендательная система рекомендует что-то не интересное и уменьшила переход на страницу продукта.\n",
    "\n",
    "# Общий вывод:\n",
    "\n",
    "- По всем датафреймам данные выглядели чистыми. \n",
    "- В таблице events и new_users перевели столбцы с датами в datetime. В таблице marketing_events переводить даты не обязательно, она носит ознакомительный характер.\n",
    "- Пропуски в таблице events описаны в тз.\n",
    "- В таблицу участников теста попали два теста, participants разделили на 2 теста.\n",
    "\n",
    "После переработки данных и отсева пересечений тестовых групп у нас рассыпалось все тз:\n",
    "- Период не соответсвует ТЗ. Начиная с полуночи 30 декабря количество событий резко снижается. За 30 декабря произошло всего 89 событий. После 30 декабря событий отсуствуют. Достоверно проанализировать можем только период с 07.12 по 29.12.\n",
    "- Период проведения теста частично совпадает с Christmas&New Year Promo (2020-12-25 - 2021-01-03), но судя по графику распределения зобытий по времени промо не повлияло на тест, резкие скачки отсуствуют.\n",
    "- Количество участников теста 4749, соответствует ТЗ.\n",
    "- Аудитория - 10,3% от пользователей из EU.\n",
    "\n",
    "**Продолжать исследование на этом этапе в реальном проекте нецелесообразным. Но мы продолжили.**\n",
    "\n",
    "Воронка:\n",
    "- Последовательность событий 'login' - вход, 'product_page'- страница продукта, 'product_cart' - корзина, 'purchase' - покупка.\n",
    "- Конверсия показала, что переход от события product_cart к purchase более 100%. Возможно к покупке приводят какие-то еще источники кроме корзины. Другое приложение или акционные лендинги. \n",
    "\n",
    "Воронки событий по группам:\n",
    "- Конверсии событий в группе A по шагам: 65,2% - 46,6% - 104,1%. \n",
    "От события 1 к событию 4 (от логина к покупке) приходит 31,6% покупателей.\n",
    "- Конверсии событий в группе B по шагам: 56% - 50,1% - 103,8%.\n",
    "От события 1 к событию 4 (от логина к покупке) приходит 29,2% покупателей.\n",
    "\n",
    "В группе А переход от события login к событию product_page происходит чаще, но товары в корзину кладут наоборот реже. Как итог к покупке приходят 31,6% клиентов в группе А и 29,2% клиент в группе B.\n",
    "\n",
    "В обеих группах к покупке приходит больше пользователей, чем на шаге корзина.\n",
    "\n",
    "**Этот факт так же портит нам исследование, вмешались дополнительные условия и тут можно остановиться. Но.**\n",
    "\n",
    "Проверяем выборки:\n",
    "Выборки отличаются в 3 раза: A 1939, B 655. \n",
    "\n",
    "**И на этой стадии тоже стоило бы остановиться, выборки явно неравноценны, но...**\n",
    "\n",
    "Формулируем нулевую гипотезу: доли, проверяемых групп равны. Альтернативная гипотеза: доли не равны.\n",
    "- Тест показал отличие выборок на стадии перехода product_page в худшую сторону. По остальным событиям мы не можем утверждать, что различия есть.\n",
    "\n",
    "**Новая рекомендательная система рекомендует что-то не интересное и уменьшила переход на страницу продукта.**\n",
    "\n",
    "Всё очень плохо.\n",
    "\n",
    "⠀⠀⠈⠻⣿⣿⣿⣿⣿⣿⣿⣿⣿⣿⡟⢻⡟⠛⣆⠀⠀⠀⠀⠀⠀⠀⠀⠀⠀⠀⠀⠀⠀⠀⠀⠀⠀⠀⠀⠀⠀⠀⠀⠀⠀⠀⠀⠀⢀⣀⣀⣀⣀⣀⣀⠀⠀⠀⠀⠀⠀⠀⠀⠀⠀⠀⠀⠀⠀⠀⠀⠀⠀⠀⠀⠀⠀⠀⠀⠀\n",
    "⠀⠀⡏⠉⠉⠙⠛⢿⡿⠋⠉⠉⠛⣿⠃⠈⠁⠐⣿⡀⡠⠊⠉⠉⠓⣼⠉⠉⣿⠋⠉⢹⠋⠉⠉⠉⡟⠉⠙⡏⠉⢹⡏⠉⢹⣷⣾⣿⣿⣿⠋⠉⠉⠉⠉⣿⡏⠉⠉⠉⠉⢻⡔⠊⠉⠉⠲⣟⠉⠙⡏⠉⢻⡔⠋⠉⠉⠢⡀⠀\n",
    "⠀⠀⡇⠀⢸⠇⠀⢸⠀⠀⢸⠀⠀⢸⠀⠀⢰⣾⣿⣷⡇⠀⢸⡆⠀⢸⠀⠀⣿⠀⠀⢸⠀⠀⢰⣒⡇⠀⠀⠇⠀⢸⡇⠀⠸⠿⠥⣄⠀⢸⠀⠀⢰⠀⠀⣿⡇⠀⢰⠀⠀⢸⠁⠀⢸⠀⠀⢸⠀⠀⠀⠀⢾⠀⠀⣾⠀⠀⡇⠀\n",
    "⠀⠀⡇⠀⢀⡀⠀⢻⠀⠀⢸⡿⠿⢿⠀⠀⢀⣸⣿⣿⡇⠀⢸⡇⠀⢸⡀⠀⠹⠀⠀⢸⠀⠀⢀⣀⡇⠀⠀⡀⠀⢸⡇⠀⢠⡄⠀⢸⡆⢸⠀⠀⢸⠀⠀⣿⡇⠀⢸⠀⠀⢸⠀⠀⢸⠀⠀⢸⠁⠀⠀⠀⣼⠀⠀⣿⠀⠀⡇⠀\n",
    "⠀⠀⡇⠀⠸⠇⠀⢸⡀⠀⠸⠀⠀⣸⠀⠀⠸⠿⣿⣿⡇⠀⢸⠃⠀⢨⣉⣒⢻⠀⠀⢸⠀⠀⠸⠤⡇⠀⠀⡇⠀⢸⡇⠀⠸⠇⠀⢸⡇⢸⠀⠀⢸⠀⠀⡿⠇⠀⢸⠀⠀⢸⡄⠀⠸⠀⠀⡸⠀⠀⡀⠀⢹⠀⠀⢿⠀⠀⡇⠀\n",
    "⠀⠀⠧⠤⠤⠤⠤⢊⣷⣤⣤⣤⠴⠻⠤⠤⠤⠤⠏⠉⠙⠤⣤⣤⠴⠛⠿⢿⣿⣤⣤⣼⣤⡤⠤⠤⠧⣤⣤⡧⠤⠼⠧⠤⠤⠤⠤⠞⠀⠸⠤⠤⠼⠤⠤⠧⠤⠤⠾⠤⠤⠼⠳⢤⣤⣤⡖⠧⠤⠤⠧⠤⠼⠗⠤⣤⠤⠞⠁⠀\n",
    "⠀⠀⠀⠀⠀⠀⣴⣿⣿⠋⠀⠀⠀⠀⠀⠀⠀⠀⠀⠀⠀⠀⠀⠀⠀⠀⠀⠀⠈⠙⠻⢿⣿⣿⣦⣀⣾⣿⠟⠀⠀⠀⠀⠀⠀⠀⠀⠀⠀⠀⠀⠀⠀⠀⠀⠀⠀⠀⠀⠀⠀⠀⠀⠀⠙⣿⣿⣄⠀⠀⠀⠀⠀⠀⠀⠀⠀⠀⠀⠀\n",
    "⠀⠀⠀⠀⠀⢸⣿⣿⡇⠀⠀⠀⠀⠀⠀⠀⠀⠀⠀⠀⠀⠀⠀⠀⠀⠀⠀⠀⠀⠀⠀⠀⠙⠻⢿⣿⣿⠏⠀⠀⠀⠀⠀⠀⠀⠀⠀⠀⠀⠀⠀⠀⠀⠀⠀⠀⠀⠀⠀⠀⠀⠀⠀⠀⠀⠘⢿⣿⣦⡀⠀⠀⠀⠀⠀⠀⠀⠀⠀⠀\n",
    "⠀⠀⠀⠀⠀⢸⣿⣿⠁⠀⠀⠀⠀⠀⠀⠀⠀⠀⠀⠀⠀⠀⠀⠀⠀⠀⠀⠀⠀⠀⠀⠀⠀⠀⠀⠀⠀⠀⠀⠀⠀⠀⠀⠀⠀⠀⠀⠀⠀⠀⠀⠀⠀⠀⠀⠀⠀⠀⠀⠀⠀⠀⠀⠀⠀⠀⠀⠻⣿⣷⡀⠀⠀⠀⠀⠀⠀⠀⠀⠀\n",
    "⠀⠀⠀⠀⠀⣾⣿⡇⠀⠀⠀⠀⠀⠀⠀⠀⠀⠀⠀⠀⠀⠀⠀⠀⠀⠀⠀⠀⠀⠀⠀⠀⠀⠀⠀⠀⠀⠀⠀⠀⠀⠀⠀⠀⠀⠀⠀⠀⠀⠀⠀⠀⠀⠀⠀⠀⠀⠀⠀⠀⠀⠀⠀⠀⠀⠀⠀⠀⠹⣿⣿⡄⠀⠀⠀⠀⠀⠀⠀⠀\n",
    "⠀⠀⠀⠀⠀⣿⣿⠁⠀⠀⠀⠀⠀⠀⠀⠀⠀⠀⠀⠀⠀⠀⠀⠀⠀⠀⠀⠀⠀⠀⠀⠀⠀⠀⠀⠀⠀⠀⠀⠀⠀⠀⠀⠀⠀⠀⠀⠀⠀⠀⠀⠀⠀⠀⠀⠀⠀⠀⠀⠀⠀⠀⠀⠀⠀⠀⠀⠀⠀⢻⣿⣷⠀⠀⠀⠀⠀⠀⠀⠀\n",
    "⠀⠀⠀⠀⠀⣿⣿⠀⠀⠀⠀⠀⠀⠀⠀⠀⠀⠀⠀⠀⠀⠀⠀⠀⠀⠀⠀⠀⠀⠀⠀⠀⠀⠀⠀⠀⠀⠀⠀⠀⠀⠀⠀⠀⠀⠀⠀⠀⠀⠀⠀⠀⠀⠀⠀⠀⠀⠀⠀⠀⠀⠀⠀⠀⠀⠀⠀⠀⠀⢸⣿⣿⠀⠀⠀⠀⠀⠀⠀⠀\n",
    "⠀⠀⠀⠀⠀⣿⣿⠀⠀⠀⠀⠀⠀⠀⠀⠀⠀⠀⣀⣀⣤⣤⣤⣤⣤⣤⣤⣤⣤⣤⣤⣄⣀⣀⣀⣀⣀⡀⠀⠀⠀⠀⠀⠀⠀⠀⠀⠀⠀⠀⠀⠀⠀⠀⠀⠀⠀⠀⠀⠀⠀⠀⠀⠀⠀⠀⠀⠀⠀⢸⣿⣿⠀⠀⠀⠀⠀⠀⠀⠀\n",
    "⠀⠀⠀⠀⠀⢿⣿⡄⠀⠀⠀⠀⣀⣤⣤⣶⣾⣿⣿⣿⣿⣿⣿⣿⣿⣿⣿⣿⣿⣿⣿⣿⣿⣿⣿⣿⣿⣿⣿⣿⣿⣷⣶⣶⣶⣤⣤⣤⣤⣀⡀⠀⠀⠀⠀⠀⠀⠀⠀⠀⠀⠀⠀⠀⠀⠀⠀⠀⠀⢸⣿⡟⠀⠀⠀⠀⠀⠀⠀⠀\n",
    "⠀⠀⠀⠀⠀⢸⣿⣧⠀⣠⣴⣾⣿⣿⣿⣿⣿⣿⣿⣿⣿⣿⣿⣿⣿⣿⣿⣿⣿⣿⣿⣿⣿⣿⣿⣿⣿⣿⣿⣿⣿⣿⣿⣿⣿⣿⣿⣿⣿⣿⣿⣿⣶⣤⣀⠀⠀⠀⠀⠀⠀⠀⠀⠀⠀⠀⠀⠀⠀⣿⣿⡇⠀⠀⠀⠀⠀⠀⠀⠀\n",
    "⠀⠀⠀⠀⠀⢘⣿⣿⣿⣿⣿⣿⣿⣿⣿⣿⣿⣿⣿⣿⣿⣿⣿⣿⣿⣿⣿⣿⣿⣿⣿⣿⣿⣿⣿⣿⣿⣿⣿⣿⣿⣿⣿⣿⣿⣿⣿⣿⣿⣿⣿⣿⣿⣿⣿⣿⣶⣄⡀⠀⠀⠀⠀⠀⠀⠀⠀⠀⠀⣿⣿⡇⠀⠀⠀⠀⠀⠀⠀⠀\n",
    "⠀⠀⠀⠀⠀⢸⣿⣿⣿⣿⣿⣿⣿⣿⣿⣿⣿⣿⣿⣿⣿⣿⣿⣿⣿⣿⣿⣿⣿⣿⣿⣿⣿⣿⣿⣿⣿⣿⣿⣿⣿⣿⣿⣿⣿⣿⣿⣿⣿⣿⣿⣿⣿⣿⣿⣿⣿⣿⣿⣷⣄⡀⠀⠀⠀⠀⠀⠀⠀⢿⣿⠇⠀⠀⠀⠀⠀⠀⠀⠀\n",
    "⠀⠀⠀⠀⠀⢸⣿⣿⣿⣿⣿⣿⣿⣿⣿⣿⣿⣿⣿⣿⣿⣿⣿⣿⣿⣿⠿⠿⠿⠿⠿⠿⠿⠿⠿⠿⠿⠿⠿⠿⠿⠿⠿⠿⠿⠿⠿⢿⣿⣿⣿⣿⣿⣿⣿⣿⣿⣿⣿⣿⣿⣿⣷⣤⡀⠀⠀⠀⠀⣾⣿⠀⠀⠀⠀⠀⠀⠀⠀⠀\n",
    "⠀⠀⠀⠀⠀⠀⣿⣿⣿⣿⣿⣿⣿⣿⣿⡿⠿⠛⠋⠉⠉⠉⠀⠀⠀⠀⠀⠀⠀⠀⠀⠀⠀⠀⠀⠀⠀⠀⠀⠀⠀⠀⠀⠀⠀⠀⠀⠀⠀⠀⠉⠉⠛⠻⣿⣿⣿⣿⣿⣿⣿⣿⣿⣿⣿⣷⣄⡀⠀⣿⣿⠀⠀⠀⠀⠀⠀⠀⠀⠀\n",
    "⠀⠀⠀⠀⠀⠀⣻⣿⣿⣿⣿⠿⠛⠉⠁⠀⠀⠀⠀⠀⠀⠀⠀⠀⠀⠀⠀⠀⠀⠀⠀⠀⠀⠀⠀⠀⠀⠀⠀⠀⠀⠀⠀⠀⠀⠀⠀⠀⠀⠀⠀⠀⠀⠀⠀⠙⠻⢿⣿⣿⣿⣿⣿⣿⣿⣿⣿⣿⣶⣿⣿⠀⠀⠀⠀⠀⠀⠀⠀⠀\n",
    "⠀⠀⠀⠀⣠⣾⣿⡿⠛⠉⠀⠀⠀⠀⠀⠀⠀⠀⠀⠀⠀⠀⠀⠀⠀⠀⠀⠀⠀⠀⠀⠀⠀⠀⠀⠀⠀⠀⠀⠀⠀⠀⠀⠀⠀⠀⠀⠀⠀⠀⠀⠀⠀⠀⠀⠀⠀⠀⠙⠻⣿⣿⣿⣿⣿⣿⣿⣿⣿⣿⡟⠀⠀⠀⠀⠀⠀⠀⠀⠀\n",
    "⠀⢀⣠⣾⡿⠟⠁⠀⠀⠀⠀⠀⠀⠀⠀⠀⠀⠀⠀⠀⠀⠀⠀⠀⠀⠀⠀⠀⠀⠀⠀⠀⠀⠀⠀⠀⠀⠀⠀⠀⠀⠀⠀⠀⠀⠀⠀⠀⠀⠀⠀⠀⠀⠀⠀⠀⠀⠀⠀⠀⠀⠙⠿⣿⣿⣿⣿⣿⣿⣿⡇⠀⠀⠀⠀⠀⠀⠀⠀⠀\n",
    "⣴⣿⡿⠋⠀⠀⠀⠀⠀⠀⠀⠀⠀⠀⠀⠀⠀⠀⠀⠀⠀⠀⠀⠀⠀⠀⠀⠀⠀⠀⠀⠀⠀⠀⠀⠀⠀⠀⠀⠀⣀⡤⠶⠶⠶⠶⠤⢤⣀⡀⠀⠀⠀⠀⠀⠀⠀⠀⠀⠀⠀⠀⠀⠈⠻⢿⣿⣿⣿⣿⡇⠀⠀⠀⠀⠀⠀⠀⠀⠀\n",
    "⡿⠋⠀⠀⠀⠀⠀⠀⠀⠀⠀⠀⠀⠀⠀⠀⠀⠀⠀⠀⠀⠀⠀⠀⠀⠀⠀⠀⠀⠀⠀⠀⠀⠀⠀⠀⠀⠀⠀⡼⠋⠀⠀⠀⠀⠀⠀⠀⠀⠉⠛⢦⣄⠀⠀⠀⠀⠀⠀⠀⠀⠀⠀⠀⠀⠀⠙⠿⣿⣿⣇⠀⠀⠀⠀⠀⠀⠀⠀⠀\n",
    "⠀⠀⠀⠀⠀⠀⠀⠀⠀⠀⠀⠀⠀⠀⠀⠀⠀⠀⠀⠀⠀⠀⠀⠀⠀⠀⠀⠀⠀⠀⠀⠀⠀⠀⠀⠀⠀⠀⢸⠁⠀⠀⠀⠀⠀⠀⠀⠀⠀⠀⠀⠀⠈⢳⡄⠀⠀⠀⠀⠀⠀⠀⠀⠀⠀⠀⠀⠀⠈⠛⢿⣷⣄⡀⠀⠀⠀⠀⠀⠀\n",
    "⠀⠀⠀⠀⠀⠀⠀⠀⠀⠀⠀⠀⠀⠀⠀⠀⠀⠀⠀⠀⠀⠀⠀⠀⠀⠀⠀⠀⠀⠀⠀⠀⠀⠀⠀⠀⠀⠀⢸⠀⠀⠀⠀⠀⣴⣿⣿⣿⣶⣤⡀⠀⠀⠀⢳⠀⠀⠀⠀⠀⠀⠀⠀⠀⠀⠀⠀⠀⠀⠀⠀⠙⢿⣿⣦⣄⠀⠀⠀⠀\n",
    "⠀⠀⠀⠀⠀⠀⠀⠀⠀⠀⠀⠀⠀⠀⠀⠀⠀⠀⠀⠀⠀⠀⠀⠀⠀⠀⠀⠀⠀⣠⡶⠒⠒⠒⠲⢦⣄⠀⢸⠀⠀⠀⠀⢰⣿⣿⣿⣿⣿⣿⣿⣷⣄⠀⠈⣧⠀⠀⠀⠀⠀⠀⠀⠀⠀⠀⠀⠀⠀⠀⠀⠀⠀⠙⢿⣿⣧⠀⠀⠀\n",
    "⠀⠀⠀⠀⠀⠀⠀⠀⠀⠀⢀⣠⠴⠒⠒⠲⢤⣀⠀⠀⠀⠀⠀⠀⠀⠀⠀⠀⡼⠋⠀⠀⠀⠀⠀⠀⠈⠛⢾⣆⠀⠀⠀⣸⣿⣿⣿⣿⣿⣿⣿⣿⣿⣆⠀⠘⡇⠀⠀⠀⠀⠀⠀⠀⠀⠀⠀⠀⠀⠀⠀⠀⠀⠀⠈⢻⣿⣧⠀⠀\n",
    "⠀⠀⠀⠀⠀⠀⠀⠀⣠⠶⠋⠁⠀⠀⠀⠀⠀⠈⠛⢦⣄⠀⠀⠀⠀⠀⠀⣸⠁⠀⠀⠀⠀⠀⠀⠀⠀⠀⠀⠉⠛⠶⠶⣿⣿⣿⣿⣿⣿⣿⣿⣿⣿⣿⣤⣤⣽⣤⣤⣤⣤⣤⣤⣤⣄⠀⠀⠀⠀⠀⠀⠀⠀⠀⠀⠀⢻⣿⡆⠀\n",
    "⠀⠀⠀⠀⠀⠀⢀⡞⠁⠀⠀⠀⠀⠀⠀⠀⠀⠀⠀⠀⠙⢳⣄⠀⠀⠀⢠⡏⠀⠀⠀⠀⠀⠀⠀⠀⠀⠀⠀⠀⠀⠀⠀⠀⠀⠀⠀⠀⠀⠀⠀⠀⠀⠀⠀⠀⠀⠀⠀⠀⠀⠀⠀⠀⣿⠀⠀⠀⠀⠀⠀⠀⠀⠀⠀⠀⢸⣿⣷⠀\n",
    "⠀⠀⠀⠀⠀⠀⢸⠃⠀⠀⠀⠀⠀⠀⠀⠀⠀⠀⠀⠀⠀⠀⠙⢧⠀⠀⣸⠁⠀⠀⠀⠀⠀⠀⠀⠀⠀⠀⠀⠀⠀⠀⠀⠀⠀⠀⠀⠀⠀⠀⠀⠀⠀⠀⠀⠀⠀⠀⠀⠀⠀⠀⢀⣼⡏⠀⠀⠀⠀⠀⠀⠀⠀⠀⠀⠀⢸⣿⣿⠀\n",
    "⠀⠀⠀⠀⠀⠀⢸⠀⠀⠀⠀⢀⣤⣶⣾⣶⣶⣦⣄⡀⠀⠀⠀⠘⡇⠀⡿⠀⠀⠀⠀⠀⠀⠀⠀⠀⠀⠀⠀⠀⠀⠀⠀⠀⢀⣀⣠⣤⣤⣤⣤⣄⣀⠀⠀⠀⠀⠀⠀⠀⣀⣴⠟⡿⠀⠀⠀⠀⠀⠀⠀⠀⠀⠀⠀⠀⢸⣿⣿⠀\n",
    "⠀⠀⠀⠀⠀⠀⢸⠀⠀⠀⠀⣾⣿⣿⣿⣿⣿⣿⣿⣿⣦⡀⠀⠀⡇⠀⡇⠀⠀⠀⠀⠀⠀⠀⠀⠀⠀⢀⣠⣤⣤⠶⠞⠛⠉⠉⠀⠀⠀⠀⠀⠈⠉⠛⠳⠶⢤⣤⡴⠟⠋⢀⡼⠁⠀⠀⠀⠀⠀⠀⠀⠀⠀⠀⠀⠀⢸⣿⣿⠀\n",
    "⠀⠀⠀⠀⠀⠀⢸⠀⠀⠀⢸⣿⣿⣿⣿⣿⣿⣿⣿⣿⣿⣿⣆⠀⣧⣸⠇⠀⠀⠀⠀⠀⠀⠀⢀⣠⡾⠋⠁⠀⠀⠀⠀⠀⠀⠀⠀⠀⠀⠀⠀⠀⠀⠀⠀⠀⠀⠀⠀⠀⣠⡞⠁⠀⠀⠀⠀⠀⠀⠀⠀⠀⠀⠀⠀⠀⢸⣿⣿⠀\n",
    "⠀⠀⠀⠀⠀⠀⢸⠀⠀⠀⢸⣿⣿⣿⣿⣿⣿⣿⣿⣿⣿⣿⣿⣧⣨⡟⠀⠀⠀⠀⠀⠀⢀⣴⠟⠁⠀⠀⠀⠀⠀⠀⠀⠀⠀⠀⠀⠀⠀⠀⠀⠀⠀⠀⠀⠀⠀⣀⣤⠾⠋⠀⠀⠀⠀⠀⠀⠀⠀⠀⠀⠀⠀⠀⠀⠀⢸⣿⣿⠀\n",
    "⠀⠀⠀⠀⠀⠀⢸⠀⠀⠀⢸⣿⣿⣿⣿⣿⣿⣿⣿⣿⣿⡿⠟⠋⠁⠀⠀⠀⠀⠀⠀⣠⡟⠁⠀⠀⠀⠀⠀⠀⠀⠀⣀⣀⣀⣀⣀⣀⣀⣠⣤⣤⡤⠶⠶⠚⠛⠉⠀⠀⠀⠀⠀⠀⠀⠀⠀⠀⠀⠀⠀⠀⠀⠀⠀⠀⢸⣿⣿⠀\n",
    "⠀⠀⠀⠀⠀⠀⢸⡀⠀⢀⣈⣿⣿⣿⡿⠿⠟⠛⠋⠉⠀⠀⠀⠀⠀⠀⠀⠀⠀⣠⡞⠉⠀⠀⠀⠀⠀⠀⠀⣀⡴⠟⠉⠀⠀⠀⠀⠀⠀⠀⠀⠀⠀⠀⠀⠀⠀⠀⠀⠀⠀⠀⠀⠀⠀⠀⠀⠀⠀⠀⠀⠀⠀⠀⠀⠀⢸⣿⣿⠀\n",
    "⠀⠀⠀⠀⠀⣠⢾⡟⠛⠉⠉⠁⠀⠀⠀⠀⠀⠀⠀⠀⠀⠀⢀⣠⣤⡤⠶⠶⠛⠋⠀⠀⠀⠀⠀⠀⣀⣴⠟⠉⠀⠀⠀⠀⠀⠀⠀⠀⠀⠀⠀⠀⠀⠀⠀⠀⠀⠀⠀⠀⠀⠀⠀⠀⠀⠀⠀⠀⠀⠀⠀⠀⠀⠀⠀⠀⢸⣿⣿⠀\n",
    "⠀⠀⠀⠀⠀⡏⠈⠛⠶⢦⣄⣀⡀⠀⢀⣀⣀⣤⡴⠶⠖⠚⠋⠁⠀⠀⠀⠀⠀⠀⠀⠀⠀⠀⣠⠞⠋⠀⠀⠀⠀⠀⠀⠀⠀⠀⠀⠀⠀⠀⠀⠀⠀⠀⠀⠀⠀⠀⠀⠀⠀⠀⠀⠀⠀⠀⠀⠀⠀⠀⠀⠀⠀⠀⠀⠀⢸⣿⣿⠀\n",
    "⠀⠀⠀⠀⠀⢻⡄⠀⠀⠀⠈⠉⠉⠉⠉⠉⠁⠀⠀⠀⠀⠀⠀⠀⠀⠀⠀⠀⠀⠀⠀⢀⣴⠞⠁⠀⠀⠀⠀⠀⠀⠀⠀⠀⠀⠀⠀⠀⠀⠀⠀⠀⠀⠀⠀⠀⠀⠀⠀⠀⠀⠀⠀⠀⠀⠀⠀⠀⠀⠀⠀⠀⠀⠀⠀⠀⠀⣿⣿⠀"
   ]
  },
  {
   "cell_type": "code",
   "execution_count": null,
   "id": "4a03adf1",
   "metadata": {},
   "outputs": [],
   "source": []
  }
 ],
 "metadata": {
  "ExecuteTimeLog": [
   {
    "duration": 66,
    "start_time": "2022-07-10T05:37:16.099Z"
   },
   {
    "duration": 165,
    "start_time": "2022-07-10T05:40:30.722Z"
   },
   {
    "duration": 135,
    "start_time": "2022-07-10T05:46:31.456Z"
   },
   {
    "duration": 108,
    "start_time": "2022-07-10T05:46:33.428Z"
   },
   {
    "duration": 7,
    "start_time": "2022-07-10T05:47:18.780Z"
   },
   {
    "duration": 1423,
    "start_time": "2022-07-10T05:47:21.629Z"
   },
   {
    "duration": 2109,
    "start_time": "2022-07-10T05:47:23.054Z"
   },
   {
    "duration": 4,
    "start_time": "2022-07-10T05:47:29.936Z"
   },
   {
    "duration": 662,
    "start_time": "2022-07-10T05:47:29.942Z"
   },
   {
    "duration": 665,
    "start_time": "2022-07-10T05:47:30.606Z"
   },
   {
    "duration": 26,
    "start_time": "2022-07-10T05:47:31.273Z"
   },
   {
    "duration": 113,
    "start_time": "2022-07-10T05:47:31.301Z"
   },
   {
    "duration": 42,
    "start_time": "2022-07-10T05:47:31.417Z"
   },
   {
    "duration": 122,
    "start_time": "2022-07-10T05:47:31.460Z"
   },
   {
    "duration": 20,
    "start_time": "2022-07-10T05:47:31.584Z"
   },
   {
    "duration": 301,
    "start_time": "2022-07-10T05:47:31.606Z"
   },
   {
    "duration": 339,
    "start_time": "2022-07-10T05:47:31.909Z"
   },
   {
    "duration": 1100,
    "start_time": "2022-07-10T05:47:32.250Z"
   },
   {
    "duration": 2,
    "start_time": "2022-07-10T05:47:33.352Z"
   },
   {
    "duration": 12,
    "start_time": "2022-07-10T05:47:33.356Z"
   },
   {
    "duration": 12,
    "start_time": "2022-07-10T05:47:33.370Z"
   },
   {
    "duration": 8,
    "start_time": "2022-07-10T05:47:33.398Z"
   },
   {
    "duration": 6,
    "start_time": "2022-07-10T05:47:33.408Z"
   },
   {
    "duration": 34,
    "start_time": "2022-07-10T05:47:33.416Z"
   },
   {
    "duration": 15,
    "start_time": "2022-07-10T05:47:33.452Z"
   },
   {
    "duration": 164,
    "start_time": "2022-07-10T05:47:33.469Z"
   },
   {
    "duration": 34,
    "start_time": "2022-07-10T05:47:33.635Z"
   },
   {
    "duration": 31,
    "start_time": "2022-07-10T05:47:33.671Z"
   },
   {
    "duration": 33,
    "start_time": "2022-07-10T05:47:33.704Z"
   },
   {
    "duration": 87,
    "start_time": "2022-07-10T05:47:33.739Z"
   },
   {
    "duration": 7,
    "start_time": "2022-07-10T05:48:05.403Z"
   },
   {
    "duration": 15,
    "start_time": "2022-07-10T05:48:09.389Z"
   },
   {
    "duration": 46,
    "start_time": "2022-07-11T08:37:18.905Z"
   },
   {
    "duration": 1291,
    "start_time": "2022-07-11T08:37:37.925Z"
   },
   {
    "duration": 802,
    "start_time": "2022-07-11T08:37:39.218Z"
   },
   {
    "duration": 642,
    "start_time": "2022-07-11T08:37:40.021Z"
   },
   {
    "duration": 17,
    "start_time": "2022-07-11T08:37:40.665Z"
   },
   {
    "duration": 118,
    "start_time": "2022-07-11T08:37:40.684Z"
   },
   {
    "duration": 50,
    "start_time": "2022-07-11T08:37:40.804Z"
   },
   {
    "duration": 118,
    "start_time": "2022-07-11T08:37:40.855Z"
   },
   {
    "duration": 8,
    "start_time": "2022-07-11T08:37:40.974Z"
   },
   {
    "duration": 282,
    "start_time": "2022-07-11T08:37:40.984Z"
   },
   {
    "duration": 313,
    "start_time": "2022-07-11T08:37:41.268Z"
   },
   {
    "duration": 875,
    "start_time": "2022-07-11T08:37:41.582Z"
   },
   {
    "duration": 3,
    "start_time": "2022-07-11T08:37:42.459Z"
   },
   {
    "duration": 11,
    "start_time": "2022-07-11T08:37:42.464Z"
   },
   {
    "duration": 11,
    "start_time": "2022-07-11T08:37:42.477Z"
   },
   {
    "duration": 7,
    "start_time": "2022-07-11T08:37:42.489Z"
   },
   {
    "duration": 34,
    "start_time": "2022-07-11T08:37:42.497Z"
   },
   {
    "duration": 33,
    "start_time": "2022-07-11T08:37:42.533Z"
   },
   {
    "duration": 12,
    "start_time": "2022-07-11T08:37:42.568Z"
   },
   {
    "duration": 215,
    "start_time": "2022-07-11T08:37:42.582Z"
   },
   {
    "duration": 28,
    "start_time": "2022-07-11T08:37:42.799Z"
   },
   {
    "duration": 13,
    "start_time": "2022-07-11T08:37:42.829Z"
   },
   {
    "duration": 27,
    "start_time": "2022-07-11T08:37:42.843Z"
   },
   {
    "duration": 170,
    "start_time": "2022-07-11T08:37:42.872Z"
   },
   {
    "duration": 13,
    "start_time": "2022-07-11T08:37:43.044Z"
   },
   {
    "duration": 10,
    "start_time": "2022-07-11T08:38:11.947Z"
   },
   {
    "duration": 71,
    "start_time": "2022-07-11T08:39:03.743Z"
   },
   {
    "duration": 97,
    "start_time": "2022-07-11T08:39:20.389Z"
   },
   {
    "duration": 27,
    "start_time": "2022-07-11T08:41:21.657Z"
   },
   {
    "duration": 23,
    "start_time": "2022-07-11T08:41:49.228Z"
   },
   {
    "duration": 9,
    "start_time": "2022-07-11T08:43:37.045Z"
   },
   {
    "duration": 9,
    "start_time": "2022-07-11T08:43:47.780Z"
   },
   {
    "duration": 9,
    "start_time": "2022-07-11T08:44:34.312Z"
   },
   {
    "duration": 11,
    "start_time": "2022-07-11T08:44:47.412Z"
   },
   {
    "duration": 46,
    "start_time": "2022-07-20T11:51:18.921Z"
   },
   {
    "duration": 1206,
    "start_time": "2022-07-20T11:51:23.726Z"
   },
   {
    "duration": 1942,
    "start_time": "2022-07-20T11:51:24.934Z"
   },
   {
    "duration": 612,
    "start_time": "2022-07-20T11:51:26.878Z"
   },
   {
    "duration": 29,
    "start_time": "2022-07-20T11:51:27.492Z"
   },
   {
    "duration": 146,
    "start_time": "2022-07-20T11:51:27.524Z"
   },
   {
    "duration": 54,
    "start_time": "2022-07-20T11:51:27.672Z"
   },
   {
    "duration": 109,
    "start_time": "2022-07-20T11:51:27.728Z"
   },
   {
    "duration": 8,
    "start_time": "2022-07-20T11:51:27.838Z"
   },
   {
    "duration": 256,
    "start_time": "2022-07-20T11:51:27.847Z"
   },
   {
    "duration": 286,
    "start_time": "2022-07-20T11:51:28.104Z"
   },
   {
    "duration": 799,
    "start_time": "2022-07-20T11:51:28.392Z"
   },
   {
    "duration": 3,
    "start_time": "2022-07-20T11:51:29.192Z"
   },
   {
    "duration": 11,
    "start_time": "2022-07-20T11:51:29.196Z"
   },
   {
    "duration": 13,
    "start_time": "2022-07-20T11:51:29.209Z"
   },
   {
    "duration": 6,
    "start_time": "2022-07-20T11:51:29.224Z"
   },
   {
    "duration": 4,
    "start_time": "2022-07-20T11:51:29.232Z"
   },
   {
    "duration": 42,
    "start_time": "2022-07-20T11:51:29.238Z"
   },
   {
    "duration": 108,
    "start_time": "2022-07-20T11:51:29.302Z"
   },
   {
    "duration": 118,
    "start_time": "2022-07-20T11:51:29.412Z"
   },
   {
    "duration": 17,
    "start_time": "2022-07-20T11:51:29.531Z"
   },
   {
    "duration": 12,
    "start_time": "2022-07-20T11:51:29.550Z"
   },
   {
    "duration": 50,
    "start_time": "2022-07-20T11:51:29.563Z"
   },
   {
    "duration": 138,
    "start_time": "2022-07-20T11:51:29.615Z"
   },
   {
    "duration": 8,
    "start_time": "2022-07-20T11:51:29.754Z"
   },
   {
    "duration": 18,
    "start_time": "2022-07-20T11:51:29.763Z"
   },
   {
    "duration": 141,
    "start_time": "2022-07-20T11:51:29.783Z"
   },
   {
    "duration": 11,
    "start_time": "2022-07-20T11:51:59.703Z"
   },
   {
    "duration": 10,
    "start_time": "2022-07-20T11:52:28.322Z"
   }
  ],
  "kernelspec": {
   "display_name": "Python 3 (ipykernel)",
   "language": "python",
   "name": "python3"
  },
  "language_info": {
   "codemirror_mode": {
    "name": "ipython",
    "version": 3
   },
   "file_extension": ".py",
   "mimetype": "text/x-python",
   "name": "python",
   "nbconvert_exporter": "python",
   "pygments_lexer": "ipython3",
   "version": "3.9.13"
  },
  "toc": {
   "base_numbering": 1,
   "nav_menu": {},
   "number_sections": true,
   "sideBar": true,
   "skip_h1_title": true,
   "title_cell": "Table of Contents",
   "title_sidebar": "Contents",
   "toc_cell": false,
   "toc_position": {},
   "toc_section_display": true,
   "toc_window_display": false
  }
 },
 "nbformat": 4,
 "nbformat_minor": 5
}
